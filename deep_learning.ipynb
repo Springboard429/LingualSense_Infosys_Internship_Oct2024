{
 "cells": [
  {
   "cell_type": "code",
   "execution_count": 3,
   "id": "e0a8326c-29d5-45ac-ac16-72b537662d45",
   "metadata": {
    "id": "e0a8326c-29d5-45ac-ac16-72b537662d45"
   },
   "outputs": [],
   "source": [
    "import pandas as pd\n",
    "import numpy as np\n",
    "import re\n",
    "from sklearn.preprocessing import LabelEncoder\n",
    "from sklearn.model_selection import train_test_split\n",
    "import tensorflow as tf\n",
    "from tensorflow.keras.models import Sequential\n",
    "from tensorflow.keras.layers import Dense,Input,GRU,Embedding,Dropout,LSTM\n",
    "from tensorflow.keras.preprocessing.text import Tokenizer\n",
    "from tensorflow.keras.preprocessing.sequence import pad_sequences\n",
    "from tensorflow.keras.callbacks import EarlyStopping\n",
    "from tensorflow.keras.regularizers import l2\n",
    "from tensorflow.keras.optimizers import Adam,RMSprop,Nadam"
   ]
  },
  {
   "cell_type": "code",
   "execution_count": 4,
   "id": "84c5d1d5-42f2-4a61-9157-38797bf33979",
   "metadata": {
    "colab": {
     "base_uri": "https://localhost:8080/"
    },
    "id": "84c5d1d5-42f2-4a61-9157-38797bf33979",
    "outputId": "b7f85e24-52fd-4eb0-df85-b94f935a6b08"
   },
   "outputs": [
    {
     "name": "stdout",
     "output_type": "stream",
     "text": [
      "2.2.2\n"
     ]
    }
   ],
   "source": [
    "import pandas as pd\n",
    "print(pd.__version__)\n"
   ]
  },
  {
   "cell_type": "code",
   "execution_count": 5,
   "id": "b34ad3c3-4030-4977-bfe0-ae82a610301d",
   "metadata": {
    "id": "b34ad3c3-4030-4977-bfe0-ae82a610301d"
   },
   "outputs": [],
   "source": [
    "df = pd.read_csv('merged_dataset.csv')\n"
   ]
  },
  {
   "cell_type": "code",
   "execution_count": 6,
   "id": "21159e36-db76-4bef-b62f-405c0437e8f7",
   "metadata": {
    "colab": {
     "base_uri": "https://localhost:8080/"
    },
    "id": "21159e36-db76-4bef-b62f-405c0437e8f7",
    "outputId": "34bd9735-1fdc-4ba9-d88c-ab54f606d250"
   },
   "outputs": [
    {
     "name": "stdout",
     "output_type": "stream",
     "text": [
      "                                                Text  Language\n",
      "0  klement gottwaldi surnukeha palsameeriti ning ...  Estonian\n",
      "1  sebes joseph pereira thomas  på eng the jesuit...   Swedish\n",
      "2  ถนนเจริญกรุง อักษรโรมัน thanon charoen krung เ...      Thai\n",
      "3  விசாகப்பட்டினம் தமிழ்ச்சங்கத்தை இந்துப் பத்திர...     Tamil\n",
      "4  de spons behoort tot het geslacht haliclona en...     Dutch\n"
     ]
    }
   ],
   "source": [
    "# first few rows\n",
    "print(df.head())\n"
   ]
  },
  {
   "cell_type": "code",
   "execution_count": 7,
   "id": "ac63c482-f853-4edc-adc4-bbe670f12d74",
   "metadata": {
    "colab": {
     "base_uri": "https://localhost:8080/"
    },
    "id": "ac63c482-f853-4edc-adc4-bbe670f12d74",
    "outputId": "32643982-1b47-414d-a5fe-1eda7e914d6b"
   },
   "outputs": [
    {
     "name": "stdout",
     "output_type": "stream",
     "text": [
      "Memory Usage: 17.81 MB\n"
     ]
    }
   ],
   "source": [
    "import pandas as pd\n",
    "\n",
    "# Calculate memory usage\n",
    "memory_usage = df.memory_usage(deep=True).sum() / (1024**2)  # Convert to MB\n",
    "print(f\"Memory Usage: {memory_usage:.2f} MB\")\n"
   ]
  },
  {
   "cell_type": "code",
   "execution_count": 8,
   "id": "30ccc9f2-4e35-469d-abe4-122d2792b776",
   "metadata": {
    "colab": {
     "base_uri": "https://localhost:8080/"
    },
    "id": "30ccc9f2-4e35-469d-abe4-122d2792b776",
    "outputId": "6c87a16e-1bbf-4934-8e83-375ebce490c5"
   },
   "outputs": [
    {
     "name": "stdout",
     "output_type": "stream",
     "text": [
      "<class 'pandas.core.frame.DataFrame'>\n",
      "RangeIndex: 32337 entries, 0 to 32336\n",
      "Data columns (total 2 columns):\n",
      " #   Column    Non-Null Count  Dtype \n",
      "---  ------    --------------  ----- \n",
      " 0   Text      32337 non-null  object\n",
      " 1   Language  32337 non-null  object\n",
      "dtypes: object(2)\n",
      "memory usage: 505.4+ KB\n",
      "None\n"
     ]
    }
   ],
   "source": [
    "# Get basic information about the dataset\n",
    "print(df.info())"
   ]
  },
  {
   "cell_type": "code",
   "execution_count": 9,
   "id": "cf07c6be-ab8f-4cc4-af08-03a58b53f9a7",
   "metadata": {
    "colab": {
     "base_uri": "https://localhost:8080/"
    },
    "id": "cf07c6be-ab8f-4cc4-af08-03a58b53f9a7",
    "outputId": "b2e9209c-7320-4fe8-beee-21e33f1d3b19"
   },
   "outputs": [
    {
     "name": "stdout",
     "output_type": "stream",
     "text": [
      "                                                     Text Language\n",
      "count                                               32337    32337\n",
      "unique                                              32126       30\n",
      "top     haec commentatio automatice praeparata res ast...  English\n",
      "freq                                                   48     2385\n"
     ]
    }
   ],
   "source": [
    "# Summary statistics\n",
    "print(df.describe())"
   ]
  },
  {
   "cell_type": "code",
   "execution_count": 10,
   "id": "283a6365-fc2d-42e0-bd0c-551ab0c3c9c0",
   "metadata": {
    "colab": {
     "base_uri": "https://localhost:8080/"
    },
    "id": "283a6365-fc2d-42e0-bd0c-551ab0c3c9c0",
    "outputId": "f9e33dd8-99ef-4542-b641-9c8fc3236116"
   },
   "outputs": [
    {
     "name": "stdout",
     "output_type": "stream",
     "text": [
      "Text        0\n",
      "Language    0\n",
      "dtype: int64\n"
     ]
    }
   ],
   "source": [
    "# Check for missing values\n",
    "print(df.isnull().sum())"
   ]
  },
  {
   "cell_type": "code",
   "execution_count": 11,
   "id": "a64838b1-edb1-41be-9852-abc4a672d24c",
   "metadata": {
    "colab": {
     "base_uri": "https://localhost:8080/"
    },
    "id": "a64838b1-edb1-41be-9852-abc4a672d24c",
    "outputId": "4c4a2c5e-b5cf-408a-a00f-819973a5b7d0"
   },
   "outputs": [
    {
     "name": "stdout",
     "output_type": "stream",
     "text": [
      "(32337, 2)\n"
     ]
    }
   ],
   "source": [
    "# check shape\n",
    "print(df.shape)"
   ]
  },
  {
   "cell_type": "code",
   "execution_count": 12,
   "id": "2211a565-1302-4375-9523-66f296957556",
   "metadata": {
    "colab": {
     "base_uri": "https://localhost:8080/"
    },
    "id": "2211a565-1302-4375-9523-66f296957556",
    "outputId": "d211581a-5933-4088-8b85-2236fb9b4a40"
   },
   "outputs": [
    {
     "name": "stdout",
     "output_type": "stream",
     "text": [
      "Language\n",
      "English       2385\n",
      "French        2014\n",
      "Spanish       1819\n",
      "Russian       1692\n",
      "Dutch         1546\n",
      "Arabic        1536\n",
      "Turkish       1474\n",
      "Tamil         1469\n",
      "Hindi         1063\n",
      "Romanian      1000\n",
      "Persian       1000\n",
      "Pushto        1000\n",
      "Swedish       1000\n",
      "Estonian      1000\n",
      "Korean        1000\n",
      "Chinese       1000\n",
      "Portugese     1000\n",
      "Indonesian    1000\n",
      "Urdu          1000\n",
      "Latin         1000\n",
      "Japanese      1000\n",
      "Thai          1000\n",
      "Portugeese     739\n",
      "Italian        698\n",
      "Sweedish       676\n",
      "Malayalam      594\n",
      "German         470\n",
      "Danish         428\n",
      "Kannada        369\n",
      "Greek          365\n",
      "Name: count, dtype: int64\n"
     ]
    }
   ],
   "source": [
    "# Summary of categorical columns:\n",
    "print(df['Language'].value_counts())\n"
   ]
  },
  {
   "cell_type": "code",
   "execution_count": 13,
   "id": "488c27fc-f3c9-47a3-9f0f-e5829812f901",
   "metadata": {
    "colab": {
     "base_uri": "https://localhost:8080/"
    },
    "id": "488c27fc-f3c9-47a3-9f0f-e5829812f901",
    "outputId": "b51531f9-4c18-4d71-8131-e77ce84e2414"
   },
   "outputs": [
    {
     "name": "stdout",
     "output_type": "stream",
     "text": [
      "1359     the shree camp hanuman temple hindi कामप हनुमा...\n",
      "11226    orner along with actress cate blanchett was on...\n",
      "22345    [77] In the Seigenthaler biography incident, a...\n",
      "22992    [81] Although machine learning has been transf...\n",
      "22448    [144] Various Wikipedians have criticized Wiki...\n",
      "Name: Text, dtype: object\n"
     ]
    }
   ],
   "source": [
    "# View a few random samples for specific languages:\n",
    "language_sample = df[df['Language'] == 'English'].sample(5)\n",
    "print(language_sample['Text'])\n"
   ]
  },
  {
   "cell_type": "markdown",
   "id": "d07bedd0-5bde-4a1f-ae46-09e64c9f510a",
   "metadata": {
    "id": "d07bedd0-5bde-4a1f-ae46-09e64c9f510a"
   },
   "source": [
    "# Text Cleaning Steps"
   ]
  },
  {
   "cell_type": "code",
   "execution_count": 14,
   "id": "9909b0ed-8d0b-40f7-807d-d7a6927b8d8c",
   "metadata": {
    "id": "9909b0ed-8d0b-40f7-807d-d7a6927b8d8c"
   },
   "outputs": [],
   "source": [
    "import re\n",
    "\n",
    "def clean_text(text):\n",
    "    # Remove text in brackets\n",
    "    text = re.sub(r'\\[.*?\\]', '', text)\n",
    "    return text.strip()\n",
    "\n",
    "# Apply to the entire dataset\n",
    "df['Cleaned_Text'] = df['Text'].apply(clean_text)\n"
   ]
  },
  {
   "cell_type": "code",
   "execution_count": 15,
   "id": "ab57c934-51f2-480d-92be-7d660471bc91",
   "metadata": {
    "id": "ab57c934-51f2-480d-92be-7d660471bc91"
   },
   "outputs": [],
   "source": [
    "# Lowercasing: Normalize text by converting it to lowercase\n",
    "df['Cleaned_Text'] = df['Cleaned_Text'].str.lower()\n"
   ]
  },
  {
   "cell_type": "code",
   "execution_count": 16,
   "id": "27bf8089-6d32-41d4-899e-34316a616074",
   "metadata": {
    "colab": {
     "base_uri": "https://localhost:8080/"
    },
    "id": "27bf8089-6d32-41d4-899e-34316a616074",
    "outputId": "055cc4fa-605e-46ec-e8fd-f8b0c2da151a"
   },
   "outputs": [
    {
     "name": "stdout",
     "output_type": "stream",
     "text": [
      "                                                Text  \\\n",
      "0  klement gottwaldi surnukeha palsameeriti ning ...   \n",
      "1  sebes joseph pereira thomas  på eng the jesuit...   \n",
      "2  ถนนเจริญกรุง อักษรโรมัน thanon charoen krung เ...   \n",
      "3  விசாகப்பட்டினம் தமிழ்ச்சங்கத்தை இந்துப் பத்திர...   \n",
      "4  de spons behoort tot het geslacht haliclona en...   \n",
      "\n",
      "                                        Cleaned_Text  \n",
      "0  klement gottwaldi surnukeha palsameeriti ning ...  \n",
      "1  sebes joseph pereira thomas  på eng the jesuit...  \n",
      "2  ถนนเจริญกรุง อักษรโรมัน thanon charoen krung เ...  \n",
      "3  விசாகப்பட்டினம் தமிழ்ச்சங்கத்தை இந்துப் பத்திர...  \n",
      "4  de spons behoort tot het geslacht haliclona en...  \n"
     ]
    }
   ],
   "source": [
    "# Verify Cleaning: Check a few rows to ensure the cleaning worked as expected:\n",
    "print(df[['Text', 'Cleaned_Text']].head())\n"
   ]
  },
  {
   "cell_type": "code",
   "execution_count": 17,
   "id": "7f2aa437-7758-4d5f-ba33-23d36cac3ea5",
   "metadata": {
    "colab": {
     "base_uri": "https://localhost:8080/"
    },
    "id": "7f2aa437-7758-4d5f-ba33-23d36cac3ea5",
    "outputId": "98e2be7e-037d-444d-e4d7-b53d88d17f43"
   },
   "outputs": [
    {
     "name": "stdout",
     "output_type": "stream",
     "text": [
      "                                                    Text  \\\n",
      "5180   स्पर्शोंद्रिय - इसके अंतर्गत त्वचा आती है। त्व...   \n",
      "6425   kristen bells första framträdande i en film va...   \n",
      "20575  apesar de ser mantido por colaboradores não é ...   \n",
      "18151  haec commentatio automatice praeparata res ast...   \n",
      "14938  كما قررت اللجنة التنفيذية الجديدة تعيين السيد ...   \n",
      "22927  Inductive programming is a related field that ...   \n",
      "22109  A pond is a body of standing water, either nat...   \n",
      "9435   acara tersebut pertama kali diadakan di mumbai...   \n",
      "1809   en mathématiques un difféomorphisme est un iso...   \n",
      "28632  У меня вся эта грязь на моих прекрасных пальчи...   \n",
      "\n",
      "                                            Cleaned_Text  \n",
      "5180   स्पर्शोंद्रिय - इसके अंतर्गत त्वचा आती है। त्व...  \n",
      "6425   kristen bells första framträdande i en film va...  \n",
      "20575  apesar de ser mantido por colaboradores não é ...  \n",
      "18151  haec commentatio automatice praeparata res ast...  \n",
      "14938  كما قررت اللجنة التنفيذية الجديدة تعيين السيد ...  \n",
      "22927  inductive programming is a related field that ...  \n",
      "22109  a pond is a body of standing water, either nat...  \n",
      "9435   acara tersebut pertama kali diadakan di mumbai...  \n",
      "1809   en mathématiques un difféomorphisme est un iso...  \n",
      "28632  у меня вся эта грязь на моих прекрасных пальчи...  \n"
     ]
    }
   ],
   "source": [
    "# Inspect cleaned rows again\n",
    "print(df[['Text', 'Cleaned_Text']].sample(10))\n"
   ]
  },
  {
   "cell_type": "code",
   "execution_count": 18,
   "id": "6908ee07-ee77-4de8-a4bf-e02df28d5a71",
   "metadata": {
    "colab": {
     "base_uri": "https://localhost:8080/"
    },
    "id": "6908ee07-ee77-4de8-a4bf-e02df28d5a71",
    "outputId": "eb3287f6-9213-434d-c8a5-492fed6437e1"
   },
   "outputs": [
    {
     "name": "stdout",
     "output_type": "stream",
     "text": [
      "0\n",
      "Empty DataFrame\n",
      "Columns: [Text, Language, Cleaned_Text]\n",
      "Index: []\n"
     ]
    }
   ],
   "source": [
    "# Check Cleaned Text Quality\n",
    "print(df['Cleaned_Text'].isnull().sum())  # Check for null values\n",
    "print(df[df['Cleaned_Text'] == 'NO_CONTENT'])  # Inspect placeholder rows\n"
   ]
  },
  {
   "cell_type": "code",
   "execution_count": 19,
   "id": "364b3573-4e8f-42b7-bd36-a64af3727a31",
   "metadata": {
    "colab": {
     "base_uri": "https://localhost:8080/"
    },
    "id": "364b3573-4e8f-42b7-bd36-a64af3727a31",
    "outputId": "53fdb0d1-2d63-43f5-ef28-9bc6ecd026b0"
   },
   "outputs": [
    {
     "name": "stdout",
     "output_type": "stream",
     "text": [
      "                                                    Text  \\\n",
      "32268                               ಅದನ್ನು ಉಲ್ಲೇಖಿಸಬೇಡಿ.   \n",
      "18121  愛知県生まれ。年和歌山大学経済学部卒、年神戸大学大学院経営学研究科博士課程満期退学、年「ドイ...   \n",
      "30710  jag lyssnade inte eftersom du kanske var uppta...   \n",
      "25795            Wikipédia a reçu deux prix en mai 2004.   \n",
      "7603   شهيد شيخ صاحب ته الله تعالی ستر علمي شان اومقا...   \n",
      "3911   年月日に、ザクセン王フリードリヒ・アウグスト世から、「王の飲み物」として認定を受け、ザクセン...   \n",
      "29380  L'analisi computazionale degli algoritmi di ap...   \n",
      "18481  سیره نبوی شامل زندگی‌نامه‌های سنتی نوشته‌شده ت...   \n",
      "9091   एस्टोनिया ने सोची में  शीतकालीन ओलंपिक रूस में...   \n",
      "26041  ce qui signifie qui incite la personne à répét...   \n",
      "\n",
      "                                            Cleaned_Text  \n",
      "32268                               ಅದನ್ನು ಉಲ್ಲೇಖಿಸಬೇಡಿ.  \n",
      "18121  愛知県生まれ。年和歌山大学経済学部卒、年神戸大学大学院経営学研究科博士課程満期退学、年「ドイ...  \n",
      "30710  jag lyssnade inte eftersom du kanske var uppta...  \n",
      "25795            wikipédia a reçu deux prix en mai 2004.  \n",
      "7603   شهيد شيخ صاحب ته الله تعالی ستر علمي شان اومقا...  \n",
      "3911   年月日に、ザクセン王フリードリヒ・アウグスト世から、「王の飲み物」として認定を受け、ザクセン...  \n",
      "29380  l'analisi computazionale degli algoritmi di ap...  \n",
      "18481  سیره نبوی شامل زندگی‌نامه‌های سنتی نوشته‌شده ت...  \n",
      "9091   एस्टोनिया ने सोची में  शीतकालीन ओलंपिक रूस में...  \n",
      "26041  ce qui signifie qui incite la personne à répét...  \n"
     ]
    }
   ],
   "source": [
    "# Inspect a random sample:\n",
    "print(df[['Text', 'Cleaned_Text']].sample(10))\n"
   ]
  },
  {
   "cell_type": "code",
   "execution_count": 20,
   "id": "9eec5d0f-9ae8-4991-8845-91693f24cac7",
   "metadata": {
    "colab": {
     "base_uri": "https://localhost:8080/"
    },
    "id": "9eec5d0f-9ae8-4991-8845-91693f24cac7",
    "outputId": "df3b71be-fdd2-4612-9ec2-ca6e541896b1"
   },
   "outputs": [
    {
     "name": "stdout",
     "output_type": "stream",
     "text": [
      "                                                    Text    Language  \\\n",
      "3271   斯大林在中国第一次大革命的时候，提出关于中国革命的一系列问题，并对之作了论断，驳斥托洛茨基派...     Chinese   \n",
      "11146  pada masa kekhalifahan islam paspor digunakan ...  Indonesian   \n",
      "27287  la economía ha sido muy lenta este año o el pa...     Spanish   \n",
      "30156                        Sana geri dönmeme izin ver.     Turkish   \n",
      "4304   سپارښتنې ــ زماددولت څخه داغوښتنه ده چې دهېواد...      Pushto   \n",
      "10363  большая часть - и -звёздочных отелей в мире им...     Russian   \n",
      "18477  paskah merupakan perayaan tertua di dalam gere...  Indonesian   \n",
      "12347  он водрузил знамя победы над рейхстагом  псков...     Russian   \n",
      "1623   اٹلانٹک کاؤنٹی نیو جرسی  انگریزی atlantic coun...        Urdu   \n",
      "1789   i̇stanbul teknik üniversitesi’nin birçok mühen...     Turkish   \n",
      "\n",
      "                                            Cleaned_Text  \n",
      "3271   斯大林在中国第一次大革命的时候，提出关于中国革命的一系列问题，并对之作了论断，驳斥托洛茨基派...  \n",
      "11146  pada masa kekhalifahan islam paspor digunakan ...  \n",
      "27287  la economía ha sido muy lenta este año o el pa...  \n",
      "30156                        sana geri dönmeme izin ver.  \n",
      "4304   سپارښتنې ــ زماددولت څخه داغوښتنه ده چې دهېواد...  \n",
      "10363  большая часть - и -звёздочных отелей в мире им...  \n",
      "18477  paskah merupakan perayaan tertua di dalam gere...  \n",
      "12347  он водрузил знамя победы над рейхстагом  псков...  \n",
      "1623   اٹلانٹک کاؤنٹی نیو جرسی  انگریزی atlantic coun...  \n",
      "1789   i̇stanbul teknik üniversitesi’nin birçok mühen...  \n"
     ]
    }
   ],
   "source": [
    "# Check the cleaned data\n",
    "print(df[['Text', 'Language', 'Cleaned_Text']].sample(10))"
   ]
  },
  {
   "cell_type": "code",
   "execution_count": 21,
   "id": "ba2a5eb7-6150-4a80-9d08-e9befb0d660a",
   "metadata": {
    "colab": {
     "base_uri": "https://localhost:8080/",
     "height": 1000
    },
    "id": "ba2a5eb7-6150-4a80-9d08-e9befb0d660a",
    "outputId": "45261e90-9bd7-4ab4-beac-4f5ee1886307"
   },
   "outputs": [
    {
     "name": "stdout",
     "output_type": "stream",
     "text": [
      "Language\n",
      "English       2385\n",
      "French        2014\n",
      "Spanish       1819\n",
      "Russian       1692\n",
      "Dutch         1546\n",
      "Arabic        1536\n",
      "Turkish       1474\n",
      "Tamil         1469\n",
      "Hindi         1063\n",
      "Romanian      1000\n",
      "Persian       1000\n",
      "Pushto        1000\n",
      "Swedish       1000\n",
      "Estonian      1000\n",
      "Korean        1000\n",
      "Chinese       1000\n",
      "Portugese     1000\n",
      "Indonesian    1000\n",
      "Urdu          1000\n",
      "Latin         1000\n",
      "Japanese      1000\n",
      "Thai          1000\n",
      "Portugeese     739\n",
      "Italian        698\n",
      "Sweedish       676\n",
      "Malayalam      594\n",
      "German         470\n",
      "Danish         428\n",
      "Kannada        369\n",
      "Greek          365\n",
      "Name: count, dtype: int64\n"
     ]
    },
    {
     "data": {
      "text/plain": [
       "<Axes: title={'center': 'Language Distribution'}, xlabel='Language'>"
      ]
     },
     "execution_count": 21,
     "metadata": {},
     "output_type": "execute_result"
    },
    {
     "data": {
      "image/png": "[encoded data removed]",
      "text/plain": [
       "<Figure size 1000x600 with 1 Axes>"
      ]
     },
     "metadata": {},
     "output_type": "display_data"
    }
   ],
   "source": [
    "# Examine the Data:\n",
    "language_count = df['Language'].value_counts()\n",
    "print(language_count)\n",
    "language_count.plot(kind='bar', figsize=(10, 6), title='Language Distribution')\n"
   ]
  },
  {
   "cell_type": "code",
   "execution_count": 22,
   "id": "6474a590-d0ae-4590-bc98-e4a35d95b818",
   "metadata": {
    "colab": {
     "base_uri": "https://localhost:8080/"
    },
    "id": "6474a590-d0ae-4590-bc98-e4a35d95b818",
    "outputId": "6f7e7844-5f6b-42f4-d64d-7cfe3e60391e"
   },
   "outputs": [
    {
     "name": "stdout",
     "output_type": "stream",
     "text": [
      "Memory Usage: 33.86 MB\n"
     ]
    }
   ],
   "source": [
    "import pandas as pd\n",
    "\n",
    "# Calculate memory usage\n",
    "memory_usage = df.memory_usage(deep=True).sum() / (1024**2)  # Convert to MB\n",
    "print(f\"Memory Usage: {memory_usage:.2f} MB\")\n"
   ]
  },
  {
   "cell_type": "code",
   "execution_count": 23,
   "id": "3d099fe7-67ed-4796-8683-7cfba8903b8f",
   "metadata": {
    "colab": {
     "base_uri": "https://localhost:8080/"
    },
    "id": "3d099fe7-67ed-4796-8683-7cfba8903b8f",
    "outputId": "feccddbb-5254-4c70-9f42-f595d9dad73d"
   },
   "outputs": [
    {
     "name": "stdout",
     "output_type": "stream",
     "text": [
      "Text            0\n",
      "Language        0\n",
      "Cleaned_Text    0\n",
      "dtype: int64\n"
     ]
    }
   ],
   "source": [
    "# Check for any missing values\n",
    "print(df.isnull().sum())\n"
   ]
  },
  {
   "cell_type": "code",
   "execution_count": 24,
   "id": "f52e8fa9-78b0-40fe-9886-d7351c77cfb4",
   "metadata": {
    "colab": {
     "base_uri": "https://localhost:8080/"
    },
    "id": "f52e8fa9-78b0-40fe-9886-d7351c77cfb4",
    "outputId": "24b39c39-c82a-4398-dffe-4be2c81f6a37"
   },
   "outputs": [
    {
     "name": "stdout",
     "output_type": "stream",
     "text": [
      "23366    was very scared don't worry my dear all of thi...\n",
      "27643                  βιβλιογραφία) είναι αμφισβητούμενο.\n",
      "11295    president jimmy carters commutation of her fed...\n",
      "16890    in  vormde vallourec een joint venture met de ...\n",
      "1799     alparslan türkeş sırrı süreyya önder atila kay...\n",
      "Name: Cleaned_Text, dtype: object\n"
     ]
    }
   ],
   "source": [
    "print(df['Cleaned_Text'].sample(5))  # Random sample\n"
   ]
  },
  {
   "cell_type": "markdown",
   "id": "adde733c-fe86-4241-8e86-3518ec787ae5",
   "metadata": {
    "id": "adde733c-fe86-4241-8e86-3518ec787ae5"
   },
   "source": [
    " # Split the Data"
   ]
  },
  {
   "cell_type": "code",
   "execution_count": 25,
   "id": "4cb05000-568a-48d1-ada4-8dc7b4fdca37",
   "metadata": {
    "colab": {
     "base_uri": "https://localhost:8080/"
    },
    "id": "4cb05000-568a-48d1-ada4-8dc7b4fdca37",
    "outputId": "428d1c4d-a5b9-4d36-d867-a4bcd273da72"
   },
   "outputs": [
    {
     "name": "stdout",
     "output_type": "stream",
     "text": [
      "Index(['Text', 'Language', 'Cleaned_Text'], dtype='object')\n"
     ]
    }
   ],
   "source": [
    "print(df.columns)\n"
   ]
  },
  {
   "cell_type": "code",
   "execution_count": 26,
   "id": "11a5cecf-b371-433e-ac7a-73de15befe80",
   "metadata": {},
   "outputs": [],
   "source": [
    "X = df['Cleaned_Text']\n",
    "y = df['Language']\n",
    "X_train,X_test,y_train,y_test = train_test_split(X,y,random_state=42,test_size=0.2)"
   ]
  },
  {
   "cell_type": "markdown",
   "id": "d646d7c9-1083-4f61-ae1a-f833ead75b7a",
   "metadata": {},
   "source": [
    "# label encoding"
   ]
  },
  {
   "cell_type": "code",
   "execution_count": 27,
   "id": "c6ae9e0d-dfab-4491-812a-642901df2fcb",
   "metadata": {},
   "outputs": [
    {
     "data": {
      "text/plain": [
       "array(['Arabic', 'Chinese', 'Danish', 'Dutch', 'English', 'Estonian',\n",
       "       'French', 'German', 'Greek', 'Hindi', 'Indonesian', 'Italian',\n",
       "       'Japanese', 'Kannada', 'Korean', 'Latin', 'Malayalam', 'Persian',\n",
       "       'Portugeese', 'Portugese', 'Pushto', 'Romanian', 'Russian',\n",
       "       'Spanish', 'Swedish', 'Sweedish', 'Tamil', 'Thai', 'Turkish',\n",
       "       'Urdu'], dtype=object)"
      ]
     },
     "execution_count": 27,
     "metadata": {},
     "output_type": "execute_result"
    }
   ],
   "source": [
    "le =LabelEncoder()\n",
    "y_train= le.fit_transform(y_train)\n",
    "le.classes_"
   ]
  },
  {
   "cell_type": "code",
   "execution_count": 28,
   "id": "b120b3ca-c818-4c18-9469-1bbbfe260bc0",
   "metadata": {},
   "outputs": [],
   "source": [
    "y_test = le.transform(y_test)"
   ]
  },
  {
   "cell_type": "markdown",
   "id": "976534a4-0c26-40fe-8b08-d84c3119ef95",
   "metadata": {},
   "source": [
    "# tokenization"
   ]
  },
  {
   "cell_type": "code",
   "execution_count": 29,
   "id": "e56b95c3-58ff-4e4c-b12f-e081d3657926",
   "metadata": {},
   "outputs": [],
   "source": [
    "tokenizer = Tokenizer(num_words=100000)\n",
    "tokenizer.fit_on_texts(X_train)\n",
    "X_train_seq = tokenizer.texts_to_sequences(X_train)\n",
    "X_test_seq = tokenizer.texts_to_sequences(X_test)"
   ]
  },
  {
   "cell_type": "code",
   "execution_count": 30,
   "id": "7f207906-1094-4d43-82e0-22093701484e",
   "metadata": {},
   "outputs": [],
   "source": [
    "X_train_padded = pad_sequences(X_train_seq,maxlen=100,padding='post')\n",
    "X_test_padded = pad_sequences(X_test_seq,maxlen=100,padding='post')"
   ]
  },
  {
   "cell_type": "code",
   "execution_count": 31,
   "id": "0cdd6cee-3087-46c3-b543-e9201e5fa13c",
   "metadata": {},
   "outputs": [
    {
     "data": {
      "text/plain": [
       "100"
      ]
     },
     "execution_count": 31,
     "metadata": {},
     "output_type": "execute_result"
    }
   ],
   "source": [
    "input_dim = tokenizer.num_words\n",
    "embedding_dim = 128\n",
    "max_lenght = X_train_padded.shape[1]\n",
    "num_classes = len(le.classes_)\n",
    "max_lenght"
   ]
  },
  {
   "cell_type": "markdown",
   "id": "1ac6faca-8155-423c-bd13-48ae638395f1",
   "metadata": {},
   "source": [
    "# gru model"
   ]
  },
  {
   "cell_type": "code",
   "execution_count": 30,
   "id": "6f7d73a5-f202-4e17-85cc-ad99cc298158",
   "metadata": {},
   "outputs": [
    {
     "name": "stdout",
     "output_type": "stream",
     "text": [
      "Epoch 1/20\n",
      "\u001b[1m728/728\u001b[0m \u001b[32m━━━━━━━━━━━━━━━━━━━━\u001b[0m\u001b[37m\u001b[0m \u001b[1m110s\u001b[0m 145ms/step - accuracy: 0.1092 - loss: 3.1532 - val_accuracy: 0.7074 - val_loss: 1.0161\n",
      "Epoch 2/20\n",
      "\u001b[1m728/728\u001b[0m \u001b[32m━━━━━━━━━━━━━━━━━━━━\u001b[0m\u001b[37m\u001b[0m \u001b[1m99s\u001b[0m 135ms/step - accuracy: 0.8011 - loss: 0.6956 - val_accuracy: 0.9045 - val_loss: 0.3330\n",
      "Epoch 3/20\n",
      "\u001b[1m728/728\u001b[0m \u001b[32m━━━━━━━━━━━━━━━━━━━━\u001b[0m\u001b[37m\u001b[0m \u001b[1m100s\u001b[0m 138ms/step - accuracy: 0.9265 - loss: 0.2404 - val_accuracy: 0.9208 - val_loss: 0.2567\n",
      "Epoch 4/20\n",
      "\u001b[1m728/728\u001b[0m \u001b[32m━━━━━━━━━━━━━━━━━━━━\u001b[0m\u001b[37m\u001b[0m \u001b[1m106s\u001b[0m 146ms/step - accuracy: 0.9503 - loss: 0.1465 - val_accuracy: 0.9235 - val_loss: 0.2626\n",
      "Epoch 5/20\n",
      "\u001b[1m728/728\u001b[0m \u001b[32m━━━━━━━━━━━━━━━━━━━━\u001b[0m\u001b[37m\u001b[0m \u001b[1m104s\u001b[0m 143ms/step - accuracy: 0.9595 - loss: 0.1142 - val_accuracy: 0.9258 - val_loss: 0.2460\n",
      "Epoch 6/20\n",
      "\u001b[1m728/728\u001b[0m \u001b[32m━━━━━━━━━━━━━━━━━━━━\u001b[0m\u001b[37m\u001b[0m \u001b[1m98s\u001b[0m 135ms/step - accuracy: 0.9641 - loss: 0.0967 - val_accuracy: 0.9293 - val_loss: 0.2483\n",
      "Epoch 7/20\n",
      "\u001b[1m728/728\u001b[0m \u001b[32m━━━━━━━━━━━━━━━━━━━━\u001b[0m\u001b[37m\u001b[0m \u001b[1m103s\u001b[0m 142ms/step - accuracy: 0.9667 - loss: 0.0832 - val_accuracy: 0.9219 - val_loss: 0.2786\n",
      "Epoch 8/20\n",
      "\u001b[1m728/728\u001b[0m \u001b[32m━━━━━━━━━━━━━━━━━━━━\u001b[0m\u001b[37m\u001b[0m \u001b[1m109s\u001b[0m 150ms/step - accuracy: 0.9679 - loss: 0.0797 - val_accuracy: 0.9281 - val_loss: 0.2551\n",
      "Epoch 9/20\n",
      "\u001b[1m728/728\u001b[0m \u001b[32m━━━━━━━━━━━━━━━━━━━━\u001b[0m\u001b[37m\u001b[0m \u001b[1m99s\u001b[0m 136ms/step - accuracy: 0.9682 - loss: 0.0822 - val_accuracy: 0.9293 - val_loss: 0.2690\n",
      "Epoch 10/20\n",
      "\u001b[1m728/728\u001b[0m \u001b[32m━━━━━━━━━━━━━━━━━━━━\u001b[0m\u001b[37m\u001b[0m \u001b[1m103s\u001b[0m 141ms/step - accuracy: 0.9679 - loss: 0.0803 - val_accuracy: 0.9281 - val_loss: 0.2614\n",
      "Epoch 11/20\n",
      "\u001b[1m728/728\u001b[0m \u001b[32m━━━━━━━━━━━━━━━━━━━━\u001b[0m\u001b[37m\u001b[0m \u001b[1m101s\u001b[0m 139ms/step - accuracy: 0.9692 - loss: 0.0755 - val_accuracy: 0.9296 - val_loss: 0.2577\n",
      "Epoch 12/20\n",
      "\u001b[1m728/728\u001b[0m \u001b[32m━━━━━━━━━━━━━━━━━━━━\u001b[0m\u001b[37m\u001b[0m \u001b[1m102s\u001b[0m 140ms/step - accuracy: 0.9683 - loss: 0.0814 - val_accuracy: 0.9281 - val_loss: 0.2589\n",
      "Epoch 13/20\n",
      "\u001b[1m728/728\u001b[0m \u001b[32m━━━━━━━━━━━━━━━━━━━━\u001b[0m\u001b[37m\u001b[0m \u001b[1m99s\u001b[0m 136ms/step - accuracy: 0.9698 - loss: 0.0693 - val_accuracy: 0.9327 - val_loss: 0.2642\n",
      "Epoch 14/20\n",
      "\u001b[1m728/728\u001b[0m \u001b[32m━━━━━━━━━━━━━━━━━━━━\u001b[0m\u001b[37m\u001b[0m \u001b[1m95s\u001b[0m 130ms/step - accuracy: 0.9703 - loss: 0.0692 - val_accuracy: 0.9281 - val_loss: 0.2729\n",
      "Epoch 15/20\n",
      "\u001b[1m728/728\u001b[0m \u001b[32m━━━━━━━━━━━━━━━━━━━━\u001b[0m\u001b[37m\u001b[0m \u001b[1m94s\u001b[0m 129ms/step - accuracy: 0.9666 - loss: 0.0815 - val_accuracy: 0.9246 - val_loss: 0.2766\n",
      "Epoch 16/20\n",
      "\u001b[1m728/728\u001b[0m \u001b[32m━━━━━━━━━━━━━━━━━━━━\u001b[0m\u001b[37m\u001b[0m \u001b[1m94s\u001b[0m 130ms/step - accuracy: 0.9685 - loss: 0.0747 - val_accuracy: 0.9285 - val_loss: 0.2576\n",
      "Epoch 17/20\n",
      "\u001b[1m728/728\u001b[0m \u001b[32m━━━━━━━━━━━━━━━━━━━━\u001b[0m\u001b[37m\u001b[0m \u001b[1m144s\u001b[0m 132ms/step - accuracy: 0.9689 - loss: 0.0751 - val_accuracy: 0.9242 - val_loss: 0.2784\n",
      "Epoch 18/20\n",
      "\u001b[1m728/728\u001b[0m \u001b[32m━━━━━━━━━━━━━━━━━━━━\u001b[0m\u001b[37m\u001b[0m \u001b[1m106s\u001b[0m 145ms/step - accuracy: 0.9689 - loss: 0.0760 - val_accuracy: 0.9312 - val_loss: 0.2674\n",
      "Epoch 19/20\n",
      "\u001b[1m728/728\u001b[0m \u001b[32m━━━━━━━━━━━━━━━━━━━━\u001b[0m\u001b[37m\u001b[0m \u001b[1m119s\u001b[0m 163ms/step - accuracy: 0.9703 - loss: 0.0733 - val_accuracy: 0.9277 - val_loss: 0.2790\n",
      "Epoch 20/20\n",
      "\u001b[1m728/728\u001b[0m \u001b[32m━━━━━━━━━━━━━━━━━━━━\u001b[0m\u001b[37m\u001b[0m \u001b[1m111s\u001b[0m 153ms/step - accuracy: 0.9686 - loss: 0.0753 - val_accuracy: 0.9281 - val_loss: 0.2644\n"
     ]
    },
    {
     "data": {
      "text/html": [
       "<pre style=\"white-space:pre;overflow-x:auto;line-height:normal;font-family:Menlo,'DejaVu Sans Mono',consolas,'Courier New',monospace\"><span style=\"font-weight: bold\">Model: \"sequential\"</span>\n",
       "</pre>\n"
      ],
      "text/plain": [
       "\u001b[1mModel: \"sequential\"\u001b[0m\n"
      ]
     },
     "metadata": {},
     "output_type": "display_data"
    },
    {
     "data": {
      "text/html": [
       "<pre style=\"white-space:pre;overflow-x:auto;line-height:normal;font-family:Menlo,'DejaVu Sans Mono',consolas,'Courier New',monospace\">┏━━━━━━━━━━━━━━━━━━━━━━━━━━━━━━━━━┳━━━━━━━━━━━━━━━━━━━━━━━━┳━━━━━━━━━━━━━━━┓\n",
       "┃<span style=\"font-weight: bold\"> Layer (type)                    </span>┃<span style=\"font-weight: bold\"> Output Shape           </span>┃<span style=\"font-weight: bold\">       Param # </span>┃\n",
       "┡━━━━━━━━━━━━━━━━━━━━━━━━━━━━━━━━━╇━━━━━━━━━━━━━━━━━━━━━━━━╇━━━━━━━━━━━━━━━┩\n",
       "│ embedding (<span style=\"color: #0087ff; text-decoration-color: #0087ff\">Embedding</span>)           │ (<span style=\"color: #00d7ff; text-decoration-color: #00d7ff\">None</span>, <span style=\"color: #00af00; text-decoration-color: #00af00\">100</span>, <span style=\"color: #00af00; text-decoration-color: #00af00\">128</span>)       │    <span style=\"color: #00af00; text-decoration-color: #00af00\">12,800,000</span> │\n",
       "├─────────────────────────────────┼────────────────────────┼───────────────┤\n",
       "│ gru (<span style=\"color: #0087ff; text-decoration-color: #0087ff\">GRU</span>)                       │ (<span style=\"color: #00d7ff; text-decoration-color: #00d7ff\">None</span>, <span style=\"color: #00af00; text-decoration-color: #00af00\">128</span>)            │        <span style=\"color: #00af00; text-decoration-color: #00af00\">99,072</span> │\n",
       "├─────────────────────────────────┼────────────────────────┼───────────────┤\n",
       "│ dropout (<span style=\"color: #0087ff; text-decoration-color: #0087ff\">Dropout</span>)               │ (<span style=\"color: #00d7ff; text-decoration-color: #00d7ff\">None</span>, <span style=\"color: #00af00; text-decoration-color: #00af00\">128</span>)            │             <span style=\"color: #00af00; text-decoration-color: #00af00\">0</span> │\n",
       "├─────────────────────────────────┼────────────────────────┼───────────────┤\n",
       "│ dense (<span style=\"color: #0087ff; text-decoration-color: #0087ff\">Dense</span>)                   │ (<span style=\"color: #00d7ff; text-decoration-color: #00d7ff\">None</span>, <span style=\"color: #00af00; text-decoration-color: #00af00\">30</span>)             │         <span style=\"color: #00af00; text-decoration-color: #00af00\">3,870</span> │\n",
       "└─────────────────────────────────┴────────────────────────┴───────────────┘\n",
       "</pre>\n"
      ],
      "text/plain": [
       "┏━━━━━━━━━━━━━━━━━━━━━━━━━━━━━━━━━┳━━━━━━━━━━━━━━━━━━━━━━━━┳━━━━━━━━━━━━━━━┓\n",
       "┃\u001b[1m \u001b[0m\u001b[1mLayer (type)                   \u001b[0m\u001b[1m \u001b[0m┃\u001b[1m \u001b[0m\u001b[1mOutput Shape          \u001b[0m\u001b[1m \u001b[0m┃\u001b[1m \u001b[0m\u001b[1m      Param #\u001b[0m\u001b[1m \u001b[0m┃\n",
       "┡━━━━━━━━━━━━━━━━━━━━━━━━━━━━━━━━━╇━━━━━━━━━━━━━━━━━━━━━━━━╇━━━━━━━━━━━━━━━┩\n",
       "│ embedding (\u001b[38;5;33mEmbedding\u001b[0m)           │ (\u001b[38;5;45mNone\u001b[0m, \u001b[38;5;34m100\u001b[0m, \u001b[38;5;34m128\u001b[0m)       │    \u001b[38;5;34m12,800,000\u001b[0m │\n",
       "├─────────────────────────────────┼────────────────────────┼───────────────┤\n",
       "│ gru (\u001b[38;5;33mGRU\u001b[0m)                       │ (\u001b[38;5;45mNone\u001b[0m, \u001b[38;5;34m128\u001b[0m)            │        \u001b[38;5;34m99,072\u001b[0m │\n",
       "├─────────────────────────────────┼────────────────────────┼───────────────┤\n",
       "│ dropout (\u001b[38;5;33mDropout\u001b[0m)               │ (\u001b[38;5;45mNone\u001b[0m, \u001b[38;5;34m128\u001b[0m)            │             \u001b[38;5;34m0\u001b[0m │\n",
       "├─────────────────────────────────┼────────────────────────┼───────────────┤\n",
       "│ dense (\u001b[38;5;33mDense\u001b[0m)                   │ (\u001b[38;5;45mNone\u001b[0m, \u001b[38;5;34m30\u001b[0m)             │         \u001b[38;5;34m3,870\u001b[0m │\n",
       "└─────────────────────────────────┴────────────────────────┴───────────────┘\n"
      ]
     },
     "metadata": {},
     "output_type": "display_data"
    },
    {
     "data": {
      "text/html": [
       "<pre style=\"white-space:pre;overflow-x:auto;line-height:normal;font-family:Menlo,'DejaVu Sans Mono',consolas,'Courier New',monospace\"><span style=\"font-weight: bold\"> Total params: </span><span style=\"color: #00af00; text-decoration-color: #00af00\">38,708,828</span> (147.66 MB)\n",
       "</pre>\n"
      ],
      "text/plain": [
       "\u001b[1m Total params: \u001b[0m\u001b[38;5;34m38,708,828\u001b[0m (147.66 MB)\n"
      ]
     },
     "metadata": {},
     "output_type": "display_data"
    },
    {
     "data": {
      "text/html": [
       "<pre style=\"white-space:pre;overflow-x:auto;line-height:normal;font-family:Menlo,'DejaVu Sans Mono',consolas,'Courier New',monospace\"><span style=\"font-weight: bold\"> Trainable params: </span><span style=\"color: #00af00; text-decoration-color: #00af00\">12,902,942</span> (49.22 MB)\n",
       "</pre>\n"
      ],
      "text/plain": [
       "\u001b[1m Trainable params: \u001b[0m\u001b[38;5;34m12,902,942\u001b[0m (49.22 MB)\n"
      ]
     },
     "metadata": {},
     "output_type": "display_data"
    },
    {
     "data": {
      "text/html": [
       "<pre style=\"white-space:pre;overflow-x:auto;line-height:normal;font-family:Menlo,'DejaVu Sans Mono',consolas,'Courier New',monospace\"><span style=\"font-weight: bold\"> Non-trainable params: </span><span style=\"color: #00af00; text-decoration-color: #00af00\">0</span> (0.00 B)\n",
       "</pre>\n"
      ],
      "text/plain": [
       "\u001b[1m Non-trainable params: \u001b[0m\u001b[38;5;34m0\u001b[0m (0.00 B)\n"
      ]
     },
     "metadata": {},
     "output_type": "display_data"
    },
    {
     "data": {
      "text/html": [
       "<pre style=\"white-space:pre;overflow-x:auto;line-height:normal;font-family:Menlo,'DejaVu Sans Mono',consolas,'Courier New',monospace\"><span style=\"font-weight: bold\"> Optimizer params: </span><span style=\"color: #00af00; text-decoration-color: #00af00\">25,805,886</span> (98.44 MB)\n",
       "</pre>\n"
      ],
      "text/plain": [
       "\u001b[1m Optimizer params: \u001b[0m\u001b[38;5;34m25,805,886\u001b[0m (98.44 MB)\n"
      ]
     },
     "metadata": {},
     "output_type": "display_data"
    }
   ],
   "source": [
    "# GRU Model Architecture\n",
    "model = Sequential([\n",
    "    Embedding(input_dim=input_dim,output_dim=embedding_dim),\n",
    "    GRU(128, return_sequences=False),\n",
    "    Dropout(0.3),\n",
    "    Dense(num_classes, activation='softmax')\n",
    "])\n",
    "\n",
    "early_stopping = EarlyStopping(\n",
    "    monitor='val_loss',  # Metric to monitor (can also use 'val_accuracy')\n",
    "    patience=3,          # Number of epochs with no improvement before stopping\n",
    "    restore_best_weights=True  # Restore weights from the best epoch\n",
    ")\n",
    "\n",
    "# Compile the GRU model\n",
    "model.compile(optimizer=Adam(learning_rate=0.001),loss='sparse_categorical_crossentropy',metrics=['accuracy'])\n",
    "\n",
    "history = model.fit(X_train_padded,y_train,epochs=20,batch_size=32,validation_split=0.1)\n",
    "model.summary()"
   ]
  },
  {
   "cell_type": "code",
   "execution_count": 32,
   "id": "1034ed35-0632-40a4-830f-a4dfd528e0a5",
   "metadata": {},
   "outputs": [
    {
     "ename": "NameError",
     "evalue": "name 'model' is not defined",
     "output_type": "error",
     "traceback": [
      "\u001b[1;31m---------------------------------------------------------------------------\u001b[0m",
      "\u001b[1;31mNameError\u001b[0m                                 Traceback (most recent call last)",
      "Cell \u001b[1;32mIn[32], line 2\u001b[0m\n\u001b[0;32m      1\u001b[0m \u001b[38;5;66;03m# test \u001b[39;00m\n\u001b[1;32m----> 2\u001b[0m loss, accuracy \u001b[38;5;241m=\u001b[39m \u001b[43mmodel\u001b[49m\u001b[38;5;241m.\u001b[39mevaluate(X_test_padded, y_test)\n\u001b[0;32m      3\u001b[0m \u001b[38;5;28mprint\u001b[39m(\u001b[38;5;124mf\u001b[39m\u001b[38;5;124m\"\u001b[39m\u001b[38;5;124mTest Loss: \u001b[39m\u001b[38;5;132;01m{\u001b[39;00mloss\u001b[38;5;132;01m:\u001b[39;00m\u001b[38;5;124m.4f\u001b[39m\u001b[38;5;132;01m}\u001b[39;00m\u001b[38;5;124m\"\u001b[39m)\n\u001b[0;32m      4\u001b[0m \u001b[38;5;28mprint\u001b[39m(\u001b[38;5;124mf\u001b[39m\u001b[38;5;124m\"\u001b[39m\u001b[38;5;124mTest Accuracy: \u001b[39m\u001b[38;5;132;01m{\u001b[39;00maccuracy\u001b[38;5;132;01m:\u001b[39;00m\u001b[38;5;124m.4f\u001b[39m\u001b[38;5;132;01m}\u001b[39;00m\u001b[38;5;124m\"\u001b[39m)\n",
      "\u001b[1;31mNameError\u001b[0m: name 'model' is not defined"
     ]
    }
   ],
   "source": [
    "# test \n",
    "loss, accuracy = model.evaluate(X_test_padded, y_test)\n",
    "print(f\"Test Loss: {loss:.4f}\")\n",
    "print(f\"Test Accuracy: {accuracy:.4f}\")"
   ]
  },
  {
   "cell_type": "code",
   "execution_count": 32,
   "id": "2952502f-2c9a-4d11-84c3-72b2c25caa09",
   "metadata": {},
   "outputs": [
    {
     "name": "stderr",
     "output_type": "stream",
     "text": [
      "WARNING:absl:You are saving your model as an HDF5 file via `model.save()` or `keras.saving.save_model(model)`. This file format is considered legacy. We recommend using instead the native Keras format, e.g. `model.save('my_model.keras')` or `keras.saving.save_model(model, 'my_model.keras')`. \n"
     ]
    },
    {
     "name": "stdout",
     "output_type": "stream",
     "text": [
      "GRU Model saved successfully.\n",
      "Final GRU Accuracy: 0.9679\n"
     ]
    }
   ],
   "source": [
    "# Save the GRU model and accuracy\n",
    "model.save('gru.h5')\n",
    "print(f\"GRU Model saved successfully.\")\n",
    "print(f\"Final GRU Accuracy: {history.history['accuracy'][-1]:.4f}\")\n"
   ]
  },
  {
   "cell_type": "code",
   "execution_count": 33,
   "id": "580c81bb-f17d-44a3-8e15-de01a6ed4064",
   "metadata": {},
   "outputs": [
    {
     "data": {
      "text/plain": [
       "['label_encoder2.joblib']"
      ]
     },
     "execution_count": 33,
     "metadata": {},
     "output_type": "execute_result"
    }
   ],
   "source": [
    "import joblib\n",
    "\n",
    "joblib.dump(tokenizer, 'tokenizer2.joblib')\n",
    "\n",
    "joblib.dump(le, 'label_encoder2.joblib')\n"
   ]
  },
  {
   "cell_type": "code",
   "execution_count": 34,
   "id": "44b0cbd8-1c71-48a4-b2d6-1bd63a01a4d3",
   "metadata": {},
   "outputs": [
    {
     "name": "stdout",
     "output_type": "stream",
     "text": [
      "2.18.0\n"
     ]
    }
   ],
   "source": [
    "import tensorflow as tf\n",
    "print(tf.__version__)\n"
   ]
  },
  {
   "cell_type": "code",
   "execution_count": 35,
   "id": "70e73300-8723-4746-a502-bb6fcda3d0d6",
   "metadata": {},
   "outputs": [
    {
     "name": "stdout",
     "output_type": "stream",
     "text": [
      "['Arabic' 'Chinese' 'Danish' 'Dutch' 'English' 'Estonian' 'French'\n",
      " 'German' 'Greek' 'Hindi' 'Indonesian' 'Italian' 'Japanese' 'Kannada'\n",
      " 'Korean' 'Latin' 'Malayalam' 'Persian' 'Portugeese' 'Portugese' 'Pushto'\n",
      " 'Romanian' 'Russian' 'Spanish' 'Swedish' 'Sweedish' 'Tamil' 'Thai'\n",
      " 'Turkish' 'Urdu']\n"
     ]
    }
   ],
   "source": [
    "print(le.classes_)"
   ]
  },
  {
   "cell_type": "code",
   "execution_count": 33,
   "id": "5ef37857-54b4-41a6-99e2-4440d57d55f0",
   "metadata": {},
   "outputs": [],
   "source": [
    "import pandas as pd\n",
    "import numpy as np\n",
    "import re\n",
    "import joblib\n",
    "from tensorflow.keras.preprocessing.sequence import pad_sequences\n",
    "from tensorflow.keras.models import load_model"
   ]
  },
  {
   "cell_type": "code",
   "execution_count": 34,
   "id": "af65d64f-1427-4bb7-b594-74974fb82420",
   "metadata": {},
   "outputs": [
    {
     "name": "stderr",
     "output_type": "stream",
     "text": [
      "WARNING:absl:Compiled the loaded model, but the compiled metrics have yet to be built. `model.compile_metrics` will be empty until you train or evaluate the model.\n"
     ]
    }
   ],
   "source": [
    "# Load the LabelEncoder, tokenizer, and model\n",
    "encoder = joblib.load('label_encoder2.joblib')\n",
    "tokenizer = joblib.load('tokenizer2.joblib')\n",
    "model = load_model('gru.h5')"
   ]
  },
  {
   "cell_type": "code",
   "execution_count": 35,
   "id": "c8c65d7e-b605-4179-a99f-e95f3eb7fef6",
   "metadata": {},
   "outputs": [],
   "source": [
    "def preprocess_sentence(sentence, tokenizer, max_length):\n",
    "    cleaned_sentence = clean_text(sentence)\n",
    "    sequence = tokenizer.texts_to_sequences([cleaned_sentence])\n",
    "    padded_sequence = pad_sequences(sequence, maxlen=max_length, padding='post')\n",
    "    return padded_sequence"
   ]
  },
  {
   "cell_type": "code",
   "execution_count": 36,
   "id": "29aa679c-bd3c-4a7e-9dda-dec8a691bc5e",
   "metadata": {},
   "outputs": [],
   "source": [
    "sentence = \"最大249の言語を翻訳します。機能サポートは言語によって異なります。テキスト：入力を通じて言語間翻訳が可能です。オフライン：インターネットなしで翻訳してください...\""
   ]
  },
  {
   "cell_type": "code",
   "execution_count": 37,
   "id": "07f9599b-c797-4cb5-9ccc-64208e6876a6",
   "metadata": {},
   "outputs": [],
   "source": [
    "input_data = preprocess_sentence(sentence,tokenizer, max_length=100)"
   ]
  },
  {
   "cell_type": "code",
   "execution_count": 38,
   "id": "b6bfb118-5d1e-42eb-8e0f-e8c36c030b9f",
   "metadata": {},
   "outputs": [
    {
     "name": "stdout",
     "output_type": "stream",
     "text": [
      "\u001b[1m1/1\u001b[0m \u001b[32m━━━━━━━━━━━━━━━━━━━━\u001b[0m\u001b[37m\u001b[0m \u001b[1m1s\u001b[0m 545ms/step\n"
     ]
    }
   ],
   "source": [
    "prediction = model.predict(input_data)"
   ]
  },
  {
   "cell_type": "code",
   "execution_count": 39,
   "id": "ff77721d-d9d1-486d-a331-5426275061c7",
   "metadata": {},
   "outputs": [],
   "source": [
    "predicted_class_index = np.argmax(prediction)  # Get the index of the highest probability\n",
    "predicted_class_label = encoder.inverse_transform([predicted_class_index])[0]  # Map index to original label"
   ]
  },
  {
   "cell_type": "code",
   "execution_count": 40,
   "id": "3a256941-e417-4051-9e1e-c4e1954624c8",
   "metadata": {},
   "outputs": [
    {
     "name": "stdout",
     "output_type": "stream",
     "text": [
      "Input Sentence: 最大249の言語を翻訳します。機能サポートは言語によって異なります。テキスト：入力を通じて言語間翻訳が可能です。オフライン：インターネットなしで翻訳してください...\n",
      "Predicted Class Index: 1\n",
      "Predicted Class Label: Chinese\n"
     ]
    }
   ],
   "source": [
    "print(f\"Input Sentence: {sentence}\")\n",
    "print(f\"Predicted Class Index: {predicted_class_index}\")\n",
    "print(f\"Predicted Class Label: {predicted_class_label}\")"
   ]
  },
  {
   "cell_type": "code",
   "execution_count": 41,
   "id": "279861d0-3ec2-46a8-92e1-8ad032278bfb",
   "metadata": {},
   "outputs": [
    {
     "name": "stdout",
     "output_type": "stream",
     "text": [
      "\u001b[1m1/1\u001b[0m \u001b[32m━━━━━━━━━━━━━━━━━━━━\u001b[0m\u001b[37m\u001b[0m \u001b[1m0s\u001b[0m 49ms/step\n",
      "Input Sentence (Arabic): كيف حالك؟\n",
      "Predicted Language: Arabic\n",
      "\n",
      "\u001b[1m1/1\u001b[0m \u001b[32m━━━━━━━━━━━━━━━━━━━━\u001b[0m\u001b[37m\u001b[0m \u001b[1m0s\u001b[0m 84ms/step\n",
      "Input Sentence (Chinese): 你好吗？\n",
      "Predicted Language: Chinese\n",
      "\n",
      "\u001b[1m1/1\u001b[0m \u001b[32m━━━━━━━━━━━━━━━━━━━━\u001b[0m\u001b[37m\u001b[0m \u001b[1m0s\u001b[0m 67ms/step\n",
      "Input Sentence (Danish): Hvordan har du det?\n",
      "Predicted Language: Danish\n",
      "\n",
      "\u001b[1m1/1\u001b[0m \u001b[32m━━━━━━━━━━━━━━━━━━━━\u001b[0m\u001b[37m\u001b[0m \u001b[1m0s\u001b[0m 36ms/step\n",
      "Input Sentence (Dutch): Hoe gaat het met je?\n",
      "Predicted Language: Dutch\n",
      "\n",
      "\u001b[1m1/1\u001b[0m \u001b[32m━━━━━━━━━━━━━━━━━━━━\u001b[0m\u001b[37m\u001b[0m \u001b[1m0s\u001b[0m 72ms/step\n",
      "Input Sentence (English): How are you?\n",
      "Predicted Language: English\n",
      "\n",
      "\u001b[1m1/1\u001b[0m \u001b[32m━━━━━━━━━━━━━━━━━━━━\u001b[0m\u001b[37m\u001b[0m \u001b[1m0s\u001b[0m 43ms/step\n",
      "Input Sentence (Estonian): Kuidas sul läheb?\n",
      "Predicted Language: Malayalam\n",
      "\n",
      "\u001b[1m1/1\u001b[0m \u001b[32m━━━━━━━━━━━━━━━━━━━━\u001b[0m\u001b[37m\u001b[0m \u001b[1m0s\u001b[0m 49ms/step\n",
      "Input Sentence (French): Bonjour, comment ça va?\n",
      "Predicted Language: French\n",
      "\n",
      "\u001b[1m1/1\u001b[0m \u001b[32m━━━━━━━━━━━━━━━━━━━━\u001b[0m\u001b[37m\u001b[0m \u001b[1m0s\u001b[0m 91ms/step\n",
      "Input Sentence (German): Wie geht es dir?\n",
      "Predicted Language: German\n",
      "\n",
      "\u001b[1m1/1\u001b[0m \u001b[32m━━━━━━━━━━━━━━━━━━━━\u001b[0m\u001b[37m\u001b[0m \u001b[1m0s\u001b[0m 70ms/step\n",
      "Input Sentence (Greek): Πώς είσαι?\n",
      "Predicted Language: Greek\n",
      "\n",
      "\u001b[1m1/1\u001b[0m \u001b[32m━━━━━━━━━━━━━━━━━━━━\u001b[0m\u001b[37m\u001b[0m \u001b[1m0s\u001b[0m 106ms/step\n",
      "Input Sentence (Hindi): तुम कैसे हो?\n",
      "Predicted Language: Chinese\n",
      "\n",
      "\u001b[1m1/1\u001b[0m \u001b[32m━━━━━━━━━━━━━━━━━━━━\u001b[0m\u001b[37m\u001b[0m \u001b[1m0s\u001b[0m 65ms/step\n",
      "Input Sentence (Indonesian): Apa kabar?\n",
      "Predicted Language: German\n",
      "\n",
      "\u001b[1m1/1\u001b[0m \u001b[32m━━━━━━━━━━━━━━━━━━━━\u001b[0m\u001b[37m\u001b[0m \u001b[1m0s\u001b[0m 70ms/step\n",
      "Input Sentence (Italian): Come stai?\n",
      "Predicted Language: Greek\n",
      "\n",
      "\u001b[1m1/1\u001b[0m \u001b[32m━━━━━━━━━━━━━━━━━━━━\u001b[0m\u001b[37m\u001b[0m \u001b[1m0s\u001b[0m 85ms/step\n",
      "Input Sentence (Japanese): こんにちは、お元気ですか？\n",
      "Predicted Language: Chinese\n",
      "\n",
      "\u001b[1m1/1\u001b[0m \u001b[32m━━━━━━━━━━━━━━━━━━━━\u001b[0m\u001b[37m\u001b[0m \u001b[1m0s\u001b[0m 68ms/step\n",
      "Input Sentence (Kannada): ನೀವು ಹೇಗಿದ್ದೀರಾ?\n",
      "Predicted Language: Kannada\n",
      "\n",
      "\u001b[1m1/1\u001b[0m \u001b[32m━━━━━━━━━━━━━━━━━━━━\u001b[0m\u001b[37m\u001b[0m \u001b[1m0s\u001b[0m 52ms/step\n",
      "Input Sentence (Korean): 어떻게 지내세요?\n",
      "Predicted Language: Chinese\n",
      "\n",
      "\u001b[1m1/1\u001b[0m \u001b[32m━━━━━━━━━━━━━━━━━━━━\u001b[0m\u001b[37m\u001b[0m \u001b[1m0s\u001b[0m 83ms/step\n",
      "Input Sentence (Latin): Quomodo vales?\n",
      "Predicted Language: Chinese\n",
      "\n",
      "\u001b[1m1/1\u001b[0m \u001b[32m━━━━━━━━━━━━━━━━━━━━\u001b[0m\u001b[37m\u001b[0m \u001b[1m0s\u001b[0m 64ms/step\n",
      "Input Sentence (Malayalam): നിങ്ങൾക്ക് സുഖമാണോ?\n",
      "Predicted Language: Malayalam\n",
      "\n",
      "\u001b[1m1/1\u001b[0m \u001b[32m━━━━━━━━━━━━━━━━━━━━\u001b[0m\u001b[37m\u001b[0m \u001b[1m0s\u001b[0m 98ms/step\n",
      "Input Sentence (Persian): چطوری؟\n",
      "Predicted Language: Chinese\n",
      "\n",
      "\u001b[1m1/1\u001b[0m \u001b[32m━━━━━━━━━━━━━━━━━━━━\u001b[0m\u001b[37m\u001b[0m \u001b[1m0s\u001b[0m 65ms/step\n",
      "Input Sentence (Portuguese): Como você está?\n",
      "Predicted Language: Portugeese\n",
      "\n",
      "\u001b[1m1/1\u001b[0m \u001b[32m━━━━━━━━━━━━━━━━━━━━\u001b[0m\u001b[37m\u001b[0m \u001b[1m0s\u001b[0m 65ms/step\n",
      "Input Sentence (Pushto): ته څنګه يې؟\n",
      "Predicted Language: Pushto\n",
      "\n",
      "\u001b[1m1/1\u001b[0m \u001b[32m━━━━━━━━━━━━━━━━━━━━\u001b[0m\u001b[37m\u001b[0m \u001b[1m0s\u001b[0m 87ms/step\n",
      "Input Sentence (Romanian): Cum ești?\n",
      "Predicted Language: Latin\n",
      "\n",
      "\u001b[1m1/1\u001b[0m \u001b[32m━━━━━━━━━━━━━━━━━━━━\u001b[0m\u001b[37m\u001b[0m \u001b[1m0s\u001b[0m 86ms/step\n",
      "Input Sentence (Russian): Как дела?\n",
      "Predicted Language: Russian\n",
      "\n",
      "\u001b[1m1/1\u001b[0m \u001b[32m━━━━━━━━━━━━━━━━━━━━\u001b[0m\u001b[37m\u001b[0m \u001b[1m0s\u001b[0m 94ms/step\n",
      "Input Sentence (Spanish): Hola, ¿cómo estás?\n",
      "Predicted Language: Spanish\n",
      "\n",
      "\u001b[1m1/1\u001b[0m \u001b[32m━━━━━━━━━━━━━━━━━━━━\u001b[0m\u001b[37m\u001b[0m \u001b[1m0s\u001b[0m 87ms/step\n",
      "Input Sentence (Swedish): Hur mår du?\n",
      "Predicted Language: Sweedish\n",
      "\n",
      "\u001b[1m1/1\u001b[0m \u001b[32m━━━━━━━━━━━━━━━━━━━━\u001b[0m\u001b[37m\u001b[0m \u001b[1m0s\u001b[0m 72ms/step\n",
      "Input Sentence (Tamil): நீங்கள் எப்படி இருக்கிறீர்கள்?\n",
      "Predicted Language: Tamil\n",
      "\n",
      "\u001b[1m1/1\u001b[0m \u001b[32m━━━━━━━━━━━━━━━━━━━━\u001b[0m\u001b[37m\u001b[0m \u001b[1m0s\u001b[0m 84ms/step\n",
      "Input Sentence (Thai): คุณเป็นอย่างไรบ้าง?\n",
      "Predicted Language: Chinese\n",
      "\n",
      "\u001b[1m1/1\u001b[0m \u001b[32m━━━━━━━━━━━━━━━━━━━━\u001b[0m\u001b[37m\u001b[0m \u001b[1m0s\u001b[0m 73ms/step\n",
      "Input Sentence (Turkish): Nasılsın?\n",
      "Predicted Language: Turkish\n",
      "\n",
      "\u001b[1m1/1\u001b[0m \u001b[32m━━━━━━━━━━━━━━━━━━━━\u001b[0m\u001b[37m\u001b[0m \u001b[1m0s\u001b[0m 78ms/step\n",
      "Input Sentence (Urdu): آپ کیسے ہیں؟\n",
      "Predicted Language: Urdu\n",
      "\n"
     ]
    }
   ],
   "source": [
    "\n",
    "# Sample sentences for each language\n",
    "test_sentences = {\n",
    "    \"Arabic\": \"كيف حالك؟\",\n",
    "    \"Chinese\": \"你好吗？\",\n",
    "    \"Danish\": \"Hvordan har du det?\",\n",
    "    \"Dutch\": \"Hoe gaat het met je?\",\n",
    "    \"English\": \"How are you?\",\n",
    "    \"Estonian\": \"Kuidas sul läheb?\",\n",
    "    \"French\": \"Bonjour, comment ça va?\",\n",
    "    \"German\": \"Wie geht es dir?\",\n",
    "    \"Greek\": \"Πώς είσαι?\",\n",
    "    \"Hindi\": \"तुम कैसे हो?\",\n",
    "    \"Indonesian\": \"Apa kabar?\",\n",
    "    \"Italian\": \"Come stai?\",\n",
    "    \"Japanese\": \"こんにちは、お元気ですか？\",\n",
    "    \"Kannada\": \"ನೀವು ಹೇಗಿದ್ದೀರಾ?\",\n",
    "    \"Korean\": \"어떻게 지내세요?\",\n",
    "    \"Latin\": \"Quomodo vales?\",\n",
    "    \"Malayalam\": \"നിങ്ങൾക്ക് സുഖമാണോ?\",\n",
    "    \"Persian\": \"چطوری؟\",\n",
    "    \"Portuguese\": \"Como você está?\",\n",
    "    \"Pushto\": \"ته څنګه يې؟\",\n",
    "    \"Romanian\": \"Cum ești?\",\n",
    "    \"Russian\": \"Как дела?\",\n",
    "    \"Spanish\": \"Hola, ¿cómo estás?\",\n",
    "    \"Swedish\": \"Hur mår du?\",\n",
    "    \"Tamil\": \"நீங்கள் எப்படி இருக்கிறீர்கள்?\",\n",
    "    \"Thai\": \"คุณเป็นอย่างไรบ้าง?\",\n",
    "    \"Turkish\": \"Nasılsın?\",\n",
    "    \"Urdu\": \"آپ کیسے ہیں؟\"\n",
    "}\n",
    "\n",
    "\n",
    "\n",
    "input_data = preprocess_sentence(sentence,tokenizer, max_length=100)\n",
    "\n",
    "# Iterate through each test sentence\n",
    "for language, sentence in test_sentences.items():\n",
    "    # Tokenize and preprocess the input\n",
    "    input_data = preprocess_sentence(sentence,tokenizer, max_length=100)\n",
    "\n",
    "    prediction = model.predict(input_data)\n",
    "\n",
    "    \n",
    "    # Predict the class index\n",
    "    predicted_class_index = np.argmax(prediction)  # Get the index of the highest probability\n",
    "    predicted_class_label = encoder.inverse_transform([predicted_class_index])[0]  # Map index to original label\n",
    "    \n",
    "    # Print results\n",
    "    print(f\"Input Sentence ({language}): {sentence}\")\n",
    "    print(f\"Predicted Language: {predicted_class_label}\\n\")\n"
   ]
  },
  {
   "cell_type": "code",
   "execution_count": 42,
   "id": "c8a60cb8-a0fb-4d1d-8aba-e4c78b81234a",
   "metadata": {},
   "outputs": [
    {
     "name": "stdout",
     "output_type": "stream",
     "text": [
      "Encoder Classes: ['Arabic' 'Chinese' 'Danish' 'Dutch' 'English' 'Estonian' 'French'\n",
      " 'German' 'Greek' 'Hindi' 'Indonesian' 'Italian' 'Japanese' 'Kannada'\n",
      " 'Korean' 'Latin' 'Malayalam' 'Persian' 'Portugeese' 'Portugese' 'Pushto'\n",
      " 'Romanian' 'Russian' 'Spanish' 'Swedish' 'Sweedish' 'Tamil' 'Thai'\n",
      " 'Turkish' 'Urdu']\n"
     ]
    }
   ],
   "source": [
    "print(\"Encoder Classes:\", encoder.classes_)\n"
   ]
  },
  {
   "cell_type": "code",
   "execution_count": null,
   "id": "04b3f93b-03a5-42fb-bad0-d2811726cd65",
   "metadata": {},
   "outputs": [],
   "source": []
  }
 ],
 "metadata": {
  "accelerator": "GPU",
  "colab": {
   "gpuType": "T4",
   "provenance": []
  },
  "kernelspec": {
   "display_name": "Python 3 (ipykernel)",
   "language": "python",
   "name": "python3"
  },
  "language_info": {
   "codemirror_mode": {
    "name": "ipython",
    "version": 3
   },
   "file_extension": ".py",
   "mimetype": "text/x-python",
   "name": "python",
   "nbconvert_exporter": "python",
   "pygments_lexer": "ipython3",
   "version": "3.12.7"
  }
 },
 "nbformat": 4,
 "nbformat_minor": 5
}
