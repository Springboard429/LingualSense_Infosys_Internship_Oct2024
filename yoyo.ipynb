{
 "cells": [
  {
   "cell_type": "code",
   "execution_count": 1,
   "id": "3f13dfa2-30c2-438c-b40f-58291a08db3c",
   "metadata": {},
   "outputs": [
    {
     "name": "stdout",
     "output_type": "stream",
     "text": [
      "Requirement already satisfied: pandas in c:\\users\\muhammad mitkar\\anaconda3\\lib\\site-packages (2.2.3)\n",
      "Requirement already satisfied: numpy>=1.26.0 in c:\\users\\muhammad mitkar\\anaconda3\\lib\\site-packages (from pandas) (2.0.1)\n",
      "Requirement already satisfied: python-dateutil>=2.8.2 in c:\\users\\muhammad mitkar\\anaconda3\\lib\\site-packages (from pandas) (2.9.0.post0)\n",
      "Requirement already satisfied: pytz>=2020.1 in c:\\users\\muhammad mitkar\\anaconda3\\lib\\site-packages (from pandas) (2024.1)\n",
      "Requirement already satisfied: tzdata>=2022.7 in c:\\users\\muhammad mitkar\\anaconda3\\lib\\site-packages (from pandas) (2024.1)\n",
      "Requirement already satisfied: six>=1.5 in c:\\users\\muhammad mitkar\\anaconda3\\lib\\site-packages (from python-dateutil>=2.8.2->pandas) (1.16.0)\n",
      "Requirement already satisfied: matplotlib in c:\\users\\muhammad mitkar\\anaconda3\\lib\\site-packages (3.9.2)\n",
      "Requirement already satisfied: contourpy>=1.0.1 in c:\\users\\muhammad mitkar\\anaconda3\\lib\\site-packages (from matplotlib) (1.3.0)\n",
      "Requirement already satisfied: cycler>=0.10 in c:\\users\\muhammad mitkar\\anaconda3\\lib\\site-packages (from matplotlib) (0.12.1)\n",
      "Requirement already satisfied: fonttools>=4.22.0 in c:\\users\\muhammad mitkar\\anaconda3\\lib\\site-packages (from matplotlib) (4.53.1)\n",
      "Requirement already satisfied: kiwisolver>=1.3.1 in c:\\users\\muhammad mitkar\\anaconda3\\lib\\site-packages (from matplotlib) (1.4.7)\n",
      "Requirement already satisfied: numpy>=1.23 in c:\\users\\muhammad mitkar\\anaconda3\\lib\\site-packages (from matplotlib) (2.0.1)\n",
      "Requirement already satisfied: packaging>=20.0 in c:\\users\\muhammad mitkar\\anaconda3\\lib\\site-packages (from matplotlib) (23.2)\n",
      "Requirement already satisfied: pillow>=8 in c:\\users\\muhammad mitkar\\anaconda3\\lib\\site-packages (from matplotlib) (10.3.0)\n",
      "Requirement already satisfied: pyparsing>=2.3.1 in c:\\users\\muhammad mitkar\\anaconda3\\lib\\site-packages (from matplotlib) (3.1.4)\n",
      "Requirement already satisfied: python-dateutil>=2.7 in c:\\users\\muhammad mitkar\\anaconda3\\lib\\site-packages (from matplotlib) (2.9.0.post0)\n",
      "Requirement already satisfied: six>=1.5 in c:\\users\\muhammad mitkar\\anaconda3\\lib\\site-packages (from python-dateutil>=2.7->matplotlib) (1.16.0)\n",
      "Requirement already satisfied: seaborn in c:\\users\\muhammad mitkar\\anaconda3\\lib\\site-packages (0.13.2)\n",
      "Requirement already satisfied: numpy!=1.24.0,>=1.20 in c:\\users\\muhammad mitkar\\anaconda3\\lib\\site-packages (from seaborn) (2.0.1)\n",
      "Requirement already satisfied: pandas>=1.2 in c:\\users\\muhammad mitkar\\anaconda3\\lib\\site-packages (from seaborn) (2.2.3)\n",
      "Requirement already satisfied: matplotlib!=3.6.1,>=3.4 in c:\\users\\muhammad mitkar\\anaconda3\\lib\\site-packages (from seaborn) (3.9.2)\n",
      "Requirement already satisfied: contourpy>=1.0.1 in c:\\users\\muhammad mitkar\\anaconda3\\lib\\site-packages (from matplotlib!=3.6.1,>=3.4->seaborn) (1.3.0)\n",
      "Requirement already satisfied: cycler>=0.10 in c:\\users\\muhammad mitkar\\anaconda3\\lib\\site-packages (from matplotlib!=3.6.1,>=3.4->seaborn) (0.12.1)\n",
      "Requirement already satisfied: fonttools>=4.22.0 in c:\\users\\muhammad mitkar\\anaconda3\\lib\\site-packages (from matplotlib!=3.6.1,>=3.4->seaborn) (4.53.1)\n",
      "Requirement already satisfied: kiwisolver>=1.3.1 in c:\\users\\muhammad mitkar\\anaconda3\\lib\\site-packages (from matplotlib!=3.6.1,>=3.4->seaborn) (1.4.7)\n",
      "Requirement already satisfied: packaging>=20.0 in c:\\users\\muhammad mitkar\\anaconda3\\lib\\site-packages (from matplotlib!=3.6.1,>=3.4->seaborn) (23.2)\n",
      "Requirement already satisfied: pillow>=8 in c:\\users\\muhammad mitkar\\anaconda3\\lib\\site-packages (from matplotlib!=3.6.1,>=3.4->seaborn) (10.3.0)\n",
      "Requirement already satisfied: pyparsing>=2.3.1 in c:\\users\\muhammad mitkar\\anaconda3\\lib\\site-packages (from matplotlib!=3.6.1,>=3.4->seaborn) (3.1.4)\n",
      "Requirement already satisfied: python-dateutil>=2.7 in c:\\users\\muhammad mitkar\\anaconda3\\lib\\site-packages (from matplotlib!=3.6.1,>=3.4->seaborn) (2.9.0.post0)\n",
      "Requirement already satisfied: pytz>=2020.1 in c:\\users\\muhammad mitkar\\anaconda3\\lib\\site-packages (from pandas>=1.2->seaborn) (2024.1)\n",
      "Requirement already satisfied: tzdata>=2022.7 in c:\\users\\muhammad mitkar\\anaconda3\\lib\\site-packages (from pandas>=1.2->seaborn) (2024.1)\n",
      "Requirement already satisfied: six>=1.5 in c:\\users\\muhammad mitkar\\anaconda3\\lib\\site-packages (from python-dateutil>=2.7->matplotlib!=3.6.1,>=3.4->seaborn) (1.16.0)\n"
     ]
    }
   ],
   "source": [
    "!pip install pandas\n",
    "!pip install matplotlib\n",
    "!pip install seaborn"
   ]
  },
  {
   "cell_type": "code",
   "execution_count": 2,
   "id": "88b0ed99-47c2-4a3e-864e-774c2fe95951",
   "metadata": {},
   "outputs": [],
   "source": [
    "import pandas as pd\n",
    "import matplotlib.pyplot as plt\n",
    "import seaborn as sns"
   ]
  },
  {
   "cell_type": "code",
   "execution_count": 3,
   "id": "8cff2fa3-704f-4cbd-8198-2375f1a6321a",
   "metadata": {},
   "outputs": [],
   "source": [
    "merged_dataset = pd.read_csv(\"C:/Users/Muhammad Mitkar/Desktop/LSN/merged_datasetokis.csv\")"
   ]
  },
  {
   "cell_type": "code",
   "execution_count": 4,
   "id": "f22cd9fd-70c5-4ffc-9156-7160cc3578b9",
   "metadata": {},
   "outputs": [
    {
     "name": "stdout",
     "output_type": "stream",
     "text": [
      "<class 'pandas.core.frame.DataFrame'>\n",
      "RangeIndex: 32337 entries, 0 to 32336\n",
      "Data columns (total 2 columns):\n",
      " #   Column    Non-Null Count  Dtype \n",
      "---  ------    --------------  ----- \n",
      " 0   Text      32337 non-null  object\n",
      " 1   Language  32337 non-null  object\n",
      "dtypes: object(2)\n",
      "memory usage: 505.4+ KB\n",
      "None\n",
      "                                                Text  Language\n",
      "0  klement gottwaldi surnukeha palsameeriti ning ...  Estonian\n",
      "1  sebes joseph pereira thomas  på eng the jesuit...   Swedish\n",
      "2  ถนนเจริญกรุง อักษรโรมัน thanon charoen krung เ...      Thai\n",
      "3  விசாகப்பட்டினம் தமிழ்ச்சங்கத்தை இந்துப் பத்திர...     Tamil\n",
      "4  de spons behoort tot het geslacht haliclona en...     Dutch\n"
     ]
    }
   ],
   "source": [
    "print(merged_dataset.info())\n",
    "print(merged_dataset.head())"
   ]
  },
  {
   "cell_type": "code",
   "execution_count": 5,
   "id": "47bdacba-8c9c-48a9-9768-60dc7cf20d2b",
   "metadata": {},
   "outputs": [
    {
     "name": "stdout",
     "output_type": "stream",
     "text": [
      "                                                     Text Language\n",
      "count                                               32337    32337\n",
      "unique                                              32126       30\n",
      "top     haec commentatio automatice praeparata res ast...  English\n",
      "freq                                                   48     2385\n"
     ]
    }
   ],
   "source": [
    "print(merged_dataset.describe(include='all'))"
   ]
  },
  {
   "cell_type": "code",
   "execution_count": 6,
   "id": "a4121cb3-b01c-4156-990b-a92b61e33e9c",
   "metadata": {},
   "outputs": [
    {
     "name": "stdout",
     "output_type": "stream",
     "text": [
      "Language\n",
      "English       2385\n",
      "French        2014\n",
      "Spanish       1819\n",
      "Russian       1692\n",
      "Dutch         1546\n",
      "Arabic        1536\n",
      "Turkish       1474\n",
      "Tamil         1469\n",
      "Hindi         1063\n",
      "Urdu          1000\n",
      "Japanese      1000\n",
      "Thai          1000\n",
      "Swedish       1000\n",
      "Estonian      1000\n",
      "Korean        1000\n",
      "Chinese       1000\n",
      "Portugese     1000\n",
      "Indonesian    1000\n",
      "Latin         1000\n",
      "Pushto        1000\n",
      "Persian       1000\n",
      "Romanian      1000\n",
      "Portugeese     739\n",
      "Italian        698\n",
      "Sweedish       676\n",
      "Malayalam      594\n",
      "German         470\n",
      "Danish         428\n",
      "Kannada        369\n",
      "Greek          365\n",
      "Name: count, dtype: int64\n"
     ]
    }
   ],
   "source": [
    "print(merged_dataset['Language'].value_counts())"
   ]
  },
  {
   "cell_type": "code",
   "execution_count": 7,
   "id": "19924f30-eded-44b1-be6f-482617fcd9f5",
   "metadata": {},
   "outputs": [],
   "source": [
    "merged_dataset.dropna(inplace=True)"
   ]
  },
  {
   "cell_type": "code",
   "execution_count": 8,
   "id": "4fa3b079-5463-411a-b82b-cf15239f7201",
   "metadata": {},
   "outputs": [],
   "source": [
    "merged_dataset.drop_duplicates(inplace=True)"
   ]
  },
  {
   "cell_type": "code",
   "execution_count": 9,
   "id": "69f4bef5-147e-4d7a-92a5-fc5b914b06c6",
   "metadata": {},
   "outputs": [
    {
     "data": {
      "image/png": "[encoded data removed]",
      "text/plain": [
       "<Figure size 640x480 with 1 Axes>"
      ]
     },
     "metadata": {},
     "output_type": "display_data"
    }
   ],
   "source": [
    "sns.countplot(data=merged_dataset, x='Language')\n",
    "plt.title('Language Distribution')\n",
    "plt.xticks(rotation=90)\n",
    "plt.show()"
   ]
  },
  {
   "cell_type": "code",
   "execution_count": 10,
   "id": "42470a71-7343-4ea5-b41f-7f51bd94e505",
   "metadata": {},
   "outputs": [
    {
     "name": "stdout",
     "output_type": "stream",
     "text": [
      "[('de', 23863), ('a', 9255), ('the', 7156), ('en', 7095), ('la', 7013), ('in', 6140), ('د', 5667), ('په', 4697), ('of', 4681), ('के', 4495)]\n"
     ]
    }
   ],
   "source": [
    "from collections import Counter\n",
    "all_text=''.join(merged_dataset['Text'].dropna())\n",
    "word_counts = Counter(all_text.split()).most_common(10)\n",
    "print(word_counts)"
   ]
  },
  {
   "cell_type": "code",
   "execution_count": 11,
   "id": "cb806f76-ae85-40ab-aa64-5d232d9848c5",
   "metadata": {},
   "outputs": [
    {
     "name": "stdout",
     "output_type": "stream",
     "text": [
      "<class 'pandas.core.frame.DataFrame'>\n",
      "Index: 32130 entries, 0 to 32336\n",
      "Data columns (total 2 columns):\n",
      " #   Column    Non-Null Count  Dtype \n",
      "---  ------    --------------  ----- \n",
      " 0   Text      32130 non-null  object\n",
      " 1   Language  32130 non-null  object\n",
      "dtypes: object(2)\n",
      "memory usage: 753.0+ KB\n"
     ]
    }
   ],
   "source": [
    "merged_dataset.info()\n"
   ]
  },
  {
   "cell_type": "code",
   "execution_count": 12,
   "id": "d86bd3c1-dadf-4580-b9b7-34b698dc1794",
   "metadata": {},
   "outputs": [],
   "source": [
    "import re"
   ]
  },
  {
   "cell_type": "code",
   "execution_count": 13,
   "id": "289cfe5d-7cb0-48b2-bff5-1ef2d4133f56",
   "metadata": {},
   "outputs": [],
   "source": [
    "def clean_text(text):\n",
    "    # Remove special characters, numbers, and punctuation\n",
    "    text = re.sub(r'[^\\w\\s]', '', text)  # Remove punctuation\n",
    "    text = re.sub(r'\\d+', '', text)  # Remove numbers\n",
    "    text = re.sub(r'\\s+', ' ', text).strip()  # Remove extra spaces\n",
    "    return text\n",
    "\n",
    "# Apply the cleaning function\n",
    "merged_dataset['Text'] = merged_dataset['Text'].dropna().apply(clean_text)\n"
   ]
  },
  {
   "cell_type": "code",
   "execution_count": 14,
   "id": "4fc7ab98-ca70-4be4-b317-4342b5e176e0",
   "metadata": {},
   "outputs": [],
   "source": [
    "# Convert text to lowercase\n",
    "merged_dataset['Text'] = merged_dataset['Text'].str.lower()"
   ]
  },
  {
   "cell_type": "code",
   "execution_count": 15,
   "id": "bd716c1a-924c-43b3-8dbb-5c62e023cbcf",
   "metadata": {},
   "outputs": [
    {
     "name": "stdout",
     "output_type": "stream",
     "text": [
      "<class 'pandas.core.frame.DataFrame'>\n",
      "Index: 32130 entries, 0 to 32336\n",
      "Data columns (total 2 columns):\n",
      " #   Column    Non-Null Count  Dtype \n",
      "---  ------    --------------  ----- \n",
      " 0   Text      32130 non-null  object\n",
      " 1   Language  32130 non-null  object\n",
      "dtypes: object(2)\n",
      "memory usage: 753.0+ KB\n",
      "None\n",
      "                                                Text  Language\n",
      "0  klement gottwaldi surnukeha palsameeriti ning ...  Estonian\n",
      "1  sebes joseph pereira thomas på eng the jesuits...   Swedish\n",
      "2  ถนนเจรญกรง อกษรโรมน thanon charoen krung เรมตง...      Thai\n",
      "3  வசகபபடடனம தமழசசஙகதத இநதப பததரகவசகபபடடன ஆசரயர ச...     Tamil\n",
      "4  de spons behoort tot het geslacht haliclona en...     Dutch\n"
     ]
    }
   ],
   "source": [
    "print(merged_dataset.info())\n",
    "print(merged_dataset.head())\n"
   ]
  },
  {
   "cell_type": "code",
   "execution_count": 16,
   "id": "de94de0d-13f2-4ad4-8af1-85c4742d2e15",
   "metadata": {},
   "outputs": [],
   "source": [
    "from sklearn.feature_extraction.text import CountVectorizer, TfidfVectorizer\n",
    "from sklearn.preprocessing import LabelEncoder\n"
   ]
  },
  {
   "cell_type": "code",
   "execution_count": 17,
   "id": "4c1b4fc4-d87e-442a-bc49-e4d204e81c04",
   "metadata": {},
   "outputs": [],
   "source": [
    "# Step 1: Label Encoding\n",
    "label_encoder = LabelEncoder()\n",
    "merged_dataset['Language_Encoded'] = label_encoder.fit_transform(merged_dataset['Language'])"
   ]
  },
  {
   "cell_type": "code",
   "execution_count": 18,
   "id": "4c93c48e-ca4a-4921-9a22-9a139b0091c8",
   "metadata": {},
   "outputs": [],
   "source": [
    "# Step 2: Feature Extraction\n",
    "# Bag of Words\n",
    "vectorizer_bow = CountVectorizer(max_features=1000)  # Limit to top 1000 features\n",
    "bow_features = vectorizer_bow.fit_transform(merged_dataset['Text'])\n"
   ]
  },
  {
   "cell_type": "code",
   "execution_count": 19,
   "id": "b34a94e9-bb92-4e9c-b3b9-730d811df2c3",
   "metadata": {},
   "outputs": [
    {
     "name": "stdout",
     "output_type": "stream",
     "text": [
      "Bag of Words Matrix:\n",
      "   aan  aasta  aastal  ab  about  ac  ad  ada  adalah  af  ...  된다  또한  불타는  \\\n",
      "0    0      0       1   0      0   0   0    0       0   0  ...   0   0    0   \n",
      "1    0      0       0   0      0   0   0    0       0   0  ...   0   0    0   \n",
      "2    0      0       0   0      0   0   0    0       0   0  ...   0   0    0   \n",
      "3    0      0       0   0      0   0   0    0       0   0  ...   0   0    0   \n",
      "4    0      0       0   0      0   0   0    0       0   0  ...   0   0    0   \n",
      "\n",
      "   위해  이후  있는  있다  자신의  한다  함께  \n",
      "0   0   0   0   0    0   0   0  \n",
      "1   0   0   0   0    0   0   0  \n",
      "2   0   0   0   0    0   0   0  \n",
      "3   0   0   0   0    0   0   0  \n",
      "4   0   0   0   0    0   0   0  \n",
      "\n",
      "[5 rows x 1000 columns]\n"
     ]
    }
   ],
   "source": [
    "bow_matrix = pd.DataFrame(\n",
    "    bow_features.toarray(), \n",
    "    columns=vectorizer_bow.get_feature_names_out()\n",
    ")\n",
    "print(\"Bag of Words Matrix:\")\n",
    "print(bow_matrix.head())"
   ]
  },
  {
   "cell_type": "code",
   "execution_count": 20,
   "id": "44bd1ba7-ecd9-4be0-9d59-0525dd93d81a",
   "metadata": {},
   "outputs": [
    {
     "name": "stdout",
     "output_type": "stream",
     "text": [
      "de     24153\n",
      "the     7678\n",
      "en      7468\n",
      "la      7425\n",
      "in      6567\n",
      "په      4756\n",
      "of      4691\n",
      "que     3678\n",
      "در      3563\n",
      "et      3545\n",
      "dtype: int64\n"
     ]
    }
   ],
   "source": [
    "token_counts = bow_matrix.sum(axis=0)\n",
    "print(token_counts.sort_values(ascending=False).head(10))  # Top 10 tokens\n"
   ]
  },
  {
   "cell_type": "code",
   "execution_count": 21,
   "id": "c0827938-9862-4d34-ba61-a05ea629ba92",
   "metadata": {},
   "outputs": [
    {
     "name": "stderr",
     "output_type": "stream",
     "text": [
      "C:\\Users\\Muhammad Mitkar\\Desktop\\LSN\\NEW-VENV\\Lib\\site-packages\\IPython\\core\\pylabtools.py:170: UserWarning: Glyph 1746 (\\N{ARABIC LETTER YEH BARREE}) missing from font(s) DejaVu Sans.\n",
      "  fig.canvas.print_figure(bytes_io, **kw)\n",
      "C:\\Users\\Muhammad Mitkar\\Desktop\\LSN\\NEW-VENV\\Lib\\site-packages\\IPython\\core\\pylabtools.py:170: UserWarning: Matplotlib currently does not support Arabic natively.\n",
      "  fig.canvas.print_figure(bytes_io, **kw)\n"
     ]
    },
    {
     "data": {
      "image/png": "[encoded data removed]",
      "text/plain": [
       "<Figure size 1000x500 with 1 Axes>"
      ]
     },
     "metadata": {},
     "output_type": "display_data"
    }
   ],
   "source": [
    "import matplotlib.pyplot as plt\n",
    "\n",
    "top_tokens = token_counts.sort_values(ascending=False).head(20)\n",
    "top_tokens.plot(kind='bar', figsize=(10, 5))\n",
    "plt.title(\"Top 20 Frequent Words (BoW)\")\n",
    "plt.show()\n"
   ]
  },
  {
   "cell_type": "code",
   "execution_count": 22,
   "id": "38f6ec87-ab87-4b0c-ad9e-7513d79c0a4d",
   "metadata": {},
   "outputs": [
    {
     "name": "stdout",
     "output_type": "stream",
     "text": [
      "Language: Estonian, BoW Shape: (999, 1000)\n",
      "Language: Swedish, BoW Shape: (992, 1000)\n",
      "Language: Thai, BoW Shape: (1000, 1000)\n",
      "Language: Tamil, BoW Shape: (1445, 1000)\n",
      "Language: Dutch, BoW Shape: (1538, 1000)\n",
      "Language: Japanese, BoW Shape: (1000, 1000)\n",
      "Language: Turkish, BoW Shape: (1471, 1000)\n",
      "Language: Latin, BoW Shape: (953, 1000)\n",
      "Language: Urdu, BoW Shape: (1000, 1000)\n",
      "Language: Indonesian, BoW Shape: (975, 1000)\n",
      "Language: Portugese, BoW Shape: (997, 1000)\n",
      "Language: French, BoW Shape: (1997, 1000)\n",
      "Language: Chinese, BoW Shape: (1000, 1000)\n",
      "Language: Korean, BoW Shape: (1000, 1000)\n",
      "Language: Hindi, BoW Shape: (1052, 1000)\n",
      "Language: Spanish, BoW Shape: (1812, 1000)\n",
      "Language: Pushto, BoW Shape: (993, 1000)\n",
      "Language: Persian, BoW Shape: (1000, 1000)\n",
      "Language: Romanian, BoW Shape: (1000, 1000)\n",
      "Language: Russian, BoW Shape: (1687, 1000)\n",
      "Language: English, BoW Shape: (2382, 1000)\n",
      "Language: Arabic, BoW Shape: (1530, 1000)\n",
      "Language: Malayalam, BoW Shape: (591, 1000)\n",
      "Language: Portugeese, BoW Shape: (736, 1000)\n",
      "Language: Greek, BoW Shape: (358, 1000)\n",
      "Language: Danish, BoW Shape: (424, 1000)\n",
      "Language: Italian, BoW Shape: (694, 1000)\n",
      "Language: Sweedish, BoW Shape: (673, 1000)\n",
      "Language: German, BoW Shape: (465, 1000)\n",
      "Language: Kannada, BoW Shape: (366, 1000)\n"
     ]
    }
   ],
   "source": [
    "for language in merged_dataset['Language'].unique():\n",
    "    lang_texts = merged_dataset[merged_dataset['Language'] == language]['Text']\n",
    "    lang_bow_features = CountVectorizer(max_features=1000).fit_transform(lang_texts)\n",
    "    print(f\"Language: {language}, BoW Shape: {lang_bow_features.shape}\")\n"
   ]
  },
  {
   "cell_type": "code",
   "execution_count": 23,
   "id": "4293ac42-96e6-4cfd-a557-46fb1497e081",
   "metadata": {},
   "outputs": [],
   "source": [
    "# TF-IDF\n",
    "vectorizer_tfidf = TfidfVectorizer(max_features=1000)\n",
    "tfidf_features = vectorizer_tfidf.fit_transform(merged_dataset['Text'])\n",
    "# N-Gram \n",
    "vectorizer_ngram = CountVectorizer(ngram_range=(2, 2), max_features=1000)\n",
    "ngram_features = vectorizer_ngram.fit_transform(merged_dataset['Text'])"
   ]
  },
  {
   "cell_type": "code",
   "execution_count": 24,
   "id": "59a77140-df98-40cd-9655-b7b08f6fb254",
   "metadata": {},
   "outputs": [
    {
     "name": "stdout",
     "output_type": "stream",
     "text": [
      "\n",
      "TF-IDF Matrix:\n",
      "   aan  aasta    aastal   ab  about   ac   ad  ada  adalah   af  ...   된다  \\\n",
      "0  0.0    0.0  0.330151  0.0    0.0  0.0  0.0  0.0     0.0  0.0  ...  0.0   \n",
      "1  0.0    0.0  0.000000  0.0    0.0  0.0  0.0  0.0     0.0  0.0  ...  0.0   \n",
      "2  0.0    0.0  0.000000  0.0    0.0  0.0  0.0  0.0     0.0  0.0  ...  0.0   \n",
      "3  0.0    0.0  0.000000  0.0    0.0  0.0  0.0  0.0     0.0  0.0  ...  0.0   \n",
      "4  0.0    0.0  0.000000  0.0    0.0  0.0  0.0  0.0     0.0  0.0  ...  0.0   \n",
      "\n",
      "    또한  불타는   위해   이후   있는   있다  자신의   한다   함께  \n",
      "0  0.0  0.0  0.0  0.0  0.0  0.0  0.0  0.0  0.0  \n",
      "1  0.0  0.0  0.0  0.0  0.0  0.0  0.0  0.0  0.0  \n",
      "2  0.0  0.0  0.0  0.0  0.0  0.0  0.0  0.0  0.0  \n",
      "3  0.0  0.0  0.0  0.0  0.0  0.0  0.0  0.0  0.0  \n",
      "4  0.0  0.0  0.0  0.0  0.0  0.0  0.0  0.0  0.0  \n",
      "\n",
      "[5 rows x 1000 columns]\n",
      "\n",
      "N-Gram Matrix:\n",
      "   aan de  aan het  ab anno  abril de  absolutam monstrat  according to  \\\n",
      "0       0        0        0         0                   0             0   \n",
      "1       0        0        0         0                   0             0   \n",
      "2       0        0        0         0                   0             0   \n",
      "3       0        0        0         0                   0             0   \n",
      "4       0        0        0         0                   0             0   \n",
      "\n",
      "   acordo com  adalah sebuah  adalah spesies  after the  ...  பரம உளளனர  \\\n",
      "0           0              0               0          0  ...          0   \n",
      "1           0              0               0          0  ...          0   \n",
      "2           0              0               0          0  ...          0   \n",
      "3           0              0               0          0  ...          0   \n",
      "4           0              0               0          0  ...          0   \n",
      "\n",
      "   மககள தக  மககளவத தகதககம  மதத மககள  மததம ஊரடச  மனற உறபபனரகளத  மனறத தகதகளக  \\\n",
      "0        0              0         0          0              0            0   \n",
      "1        0              0         0          0              0            0   \n",
      "2        0              0         0          0              0            0   \n",
      "3        0              0         0          0              0            0   \n",
      "4        0              0         0          0              0            0   \n",
      "\n",
      "   மவடடததல உளள  ในป พศ  불타는 군단의  \n",
      "0            0       0        0  \n",
      "1            0       0        0  \n",
      "2            0       0        0  \n",
      "3            0       0        0  \n",
      "4            0       0        0  \n",
      "\n",
      "[5 rows x 1000 columns]\n"
     ]
    }
   ],
   "source": [
    "# Convert TF-IDF matrix to a DataFrame\n",
    "tfidf_matrix = pd.DataFrame(\n",
    "    tfidf_features.toarray(), \n",
    "    columns=vectorizer_tfidf.get_feature_names_out()\n",
    ")\n",
    "print(\"\\nTF-IDF Matrix:\")\n",
    "print(tfidf_matrix.head())\n",
    "\n",
    "# Convert N-Gram matrix to a DataFrame\n",
    "ngram_matrix = pd.DataFrame(\n",
    "    ngram_features.toarray(), \n",
    "    columns=vectorizer_ngram.get_feature_names_out()\n",
    ")\n",
    "print(\"\\nN-Gram Matrix:\")\n",
    "print(ngram_matrix.head())"
   ]
  },
  {
   "cell_type": "code",
   "execution_count": 25,
   "id": "6827228d-5463-4a7f-a9f1-416369eac09c",
   "metadata": {},
   "outputs": [
    {
     "name": "stdout",
     "output_type": "stream",
     "text": [
      "Label Encoded Languages:\n",
      "   Language  Language_Encoded\n",
      "0  Estonian                 5\n",
      "1   Swedish                24\n",
      "2      Thai                27\n",
      "3     Tamil                26\n",
      "4     Dutch                 3\n",
      "\n",
      "Bag of Words Feature Shape: (32130, 1000)\n",
      "TF-IDF Feature Shape: (32130, 1000)\n",
      "N-Gram Feature Shape: (32130, 1000)\n"
     ]
    }
   ],
   "source": [
    "print(\"Label Encoded Languages:\")\n",
    "print(merged_dataset[['Language', 'Language_Encoded']].head())\n",
    "\n",
    "print(\"\\nBag of Words Feature Shape:\", bow_features.shape)\n",
    "print(\"TF-IDF Feature Shape:\", tfidf_features.shape)\n",
    "print(\"N-Gram Feature Shape:\", ngram_features.shape)"
   ]
  },
  {
   "cell_type": "code",
   "execution_count": 26,
   "id": "03a43868-4acb-45d3-a187-db7d4b14a545",
   "metadata": {},
   "outputs": [
    {
     "name": "stdout",
     "output_type": "stream",
     "text": [
      "Train shape: (25704, 1000), Test shape: (6426, 1000)\n"
     ]
    }
   ],
   "source": [
    "from sklearn.model_selection import train_test_split\n",
    "\n",
    "# Define features and labels\n",
    "X = tfidf_matrix  # Use the TF-IDF features you generated\n",
    "y = merged_dataset['Language_Encoded']  # Label encoded target column\n",
    "\n",
    "# Split the dataset\n",
    "X_train, X_test, y_train, y_test = train_test_split(X, y, test_size=0.2, random_state=42)\n",
    "\n",
    "print(f\"Train shape: {X_train.shape}, Test shape: {X_test.shape}\")\n"
   ]
  },
  {
   "cell_type": "code",
   "execution_count": 27,
   "id": "ad44ad1c-cccc-4834-8ebb-15d402a73a95",
   "metadata": {},
   "outputs": [
    {
     "name": "stdout",
     "output_type": "stream",
     "text": [
      "---Logistic Regression---\n",
      "Accuracy: 0.8685\n",
      "---Random Forest---\n",
      "Accuracy: 0.8606\n",
      "---Naive Bayes---\n",
      "Accuracy: 0.8369\n"
     ]
    }
   ],
   "source": [
    "from sklearn.linear_model import LogisticRegression\n",
    "from sklearn.ensemble import RandomForestClassifier\n",
    "from sklearn.naive_bayes import MultinomialNB\n",
    "from sklearn.metrics import accuracy_score\n",
    "\n",
    "# Define models\n",
    "models = {\n",
    "    \"Logistic Regression\": LogisticRegression(max_iter=1000),\n",
    "    \"Random Forest\": RandomForestClassifier(),\n",
    "    \"Naive Bayes\": MultinomialNB()\n",
    "}\n",
    "\n",
    "# Train and evaluate each model\n",
    "for name, model in models.items():\n",
    "    print(f\"---{name}---\")\n",
    "    # Train the model\n",
    "    model.fit(X_train, y_train)\n",
    "    # Predict on test set\n",
    "    y_pred = model.predict(X_test)\n",
    "    # Evaluate accuracy\n",
    "    acc = accuracy_score(y_test, y_pred)\n",
    "    print(f\"Accuracy: {acc:.4f}\")\n"
   ]
  },
  {
   "cell_type": "code",
   "execution_count": 28,
   "id": "5f6ae0fe-dd73-4f24-aa53-18fe46a12dbe",
   "metadata": {},
   "outputs": [
    {
     "name": "stdout",
     "output_type": "stream",
     "text": [
      "The predicted language is: Japanese\n"
     ]
    },
    {
     "name": "stderr",
     "output_type": "stream",
     "text": [
      "C:\\Users\\Muhammad Mitkar\\Desktop\\LSN\\NEW-VENV\\Lib\\site-packages\\sklearn\\base.py:493: UserWarning: X does not have valid feature names, but RandomForestClassifier was fitted with feature names\n",
      "  warnings.warn(\n"
     ]
    }
   ],
   "source": [
    "# Step 1: Preprocess the input text\n",
    "def predict_language(input_text, model, vectorizer, label_encoder):\n",
    "    # Clean the text\n",
    "    cleaned_text = clean_text(input_text).lower()\n",
    "    \n",
    "    # Step 2: Transform the text to features\n",
    "    transformed_text = vectorizer.transform([cleaned_text])\n",
    "    \n",
    "    # Step 3: Predict the language\n",
    "    predicted_label = model.predict(transformed_text)[0]\n",
    "    \n",
    "    # Decode the label to the original language name\n",
    "    predicted_language = label_encoder.inverse_transform([predicted_label])[0]\n",
    "    \n",
    "    return predicted_language\n",
    "\n",
    "# Example Input\n",
    "input_text = \"ลาปาโลมา สเปน\" \n",
    "\n",
    "# Choose a trained model (e.g., Random Forest)\n",
    "chosen_model = models[\"Random Forest\"]  # Use Random Forest for this example\n",
    "chosen_vectorizer = vectorizer_tfidf  # Replace with the corresponding vectorizer\n",
    "predicted_lang = predict_language(input_text, chosen_model, chosen_vectorizer, label_encoder)\n",
    "\n",
    "print(f\"The predicted language is: {predicted_lang}\")\n"
   ]
  },
  {
   "cell_type": "code",
   "execution_count": null,
   "id": "573caf6d-deca-453b-b41d-fdc3b5c551e8",
   "metadata": {},
   "outputs": [
    {
     "name": "stdout",
     "output_type": "stream",
     "text": [
      "Fitting 5 folds for each of 16 candidates, totalling 80 fits\n",
      "[CV] END ................C=0.1, penalty=l1, solver=liblinear; total time=   1.0s\n",
      "[CV] END ................C=0.1, penalty=l1, solver=liblinear; total time=   1.4s\n",
      "[CV] END ................C=0.1, penalty=l1, solver=liblinear; total time=   1.1s\n",
      "[CV] END ................C=0.1, penalty=l1, solver=liblinear; total time=   0.9s\n",
      "[CV] END ................C=0.1, penalty=l1, solver=liblinear; total time=   0.9s\n",
      "[CV] END .....................C=0.1, penalty=l1, solver=saga; total time= 1.4min\n",
      "[CV] END .....................C=0.1, penalty=l1, solver=saga; total time= 1.5min\n",
      "[CV] END .....................C=0.1, penalty=l1, solver=saga; total time= 1.5min\n",
      "[CV] END .....................C=0.1, penalty=l1, solver=saga; total time= 1.7min\n",
      "[CV] END .....................C=0.1, penalty=l1, solver=saga; total time= 1.4min\n",
      "[CV] END ................C=0.1, penalty=l2, solver=liblinear; total time=   1.1s\n",
      "[CV] END ................C=0.1, penalty=l2, solver=liblinear; total time=   1.5s\n",
      "[CV] END ................C=0.1, penalty=l2, solver=liblinear; total time=   1.1s\n",
      "[CV] END ................C=0.1, penalty=l2, solver=liblinear; total time=   1.3s\n",
      "[CV] END ................C=0.1, penalty=l2, solver=liblinear; total time=   1.3s\n",
      "[CV] END .....................C=0.1, penalty=l2, solver=saga; total time=  55.3s\n",
      "[CV] END .....................C=0.1, penalty=l2, solver=saga; total time=  55.0s\n",
      "[CV] END .....................C=0.1, penalty=l2, solver=saga; total time= 1.2min\n",
      "[CV] END .....................C=0.1, penalty=l2, solver=saga; total time=21.6min\n",
      "[CV] END ..................C=1, penalty=l1, solver=liblinear; total time=   0.8s\n",
      "[CV] END ..................C=1, penalty=l1, solver=liblinear; total time=   0.7s\n",
      "[CV] END ..................C=1, penalty=l1, solver=liblinear; total time=   0.7s\n",
      "[CV] END ..................C=1, penalty=l1, solver=liblinear; total time=   0.9s\n",
      "[CV] END ..................C=1, penalty=l1, solver=liblinear; total time=   0.8s\n",
      "[CV] END .......................C=1, penalty=l1, solver=saga; total time=10.1min\n"
     ]
    }
   ],
   "source": [
    "from sklearn.model_selection import GridSearchCV\n",
    "from sklearn.metrics import classification_report\n",
    "\n",
    "# Logistic Regression\n",
    "log_reg_params = {\n",
    "    'C': [0.1, 1, 10, 100],\n",
    "    'penalty': ['l1', 'l2'],\n",
    "    'solver': ['liblinear', 'saga']\n",
    "}\n",
    "\n",
    "grid_log_reg = GridSearchCV(\n",
    "    LogisticRegression(max_iter=1000), \n",
    "    log_reg_params, \n",
    "    cv=5, \n",
    "    scoring='accuracy', \n",
    "    verbose=2\n",
    ")\n",
    "grid_log_reg.fit(X_train, y_train)\n",
    "best_log_reg = grid_log_reg.best_estimator_\n",
    "\n",
    "# Random Forest\n",
    "rf_params = {\n",
    "    'n_estimators': [50, 100, 200],\n",
    "    'max_depth': [None, 10, 20, 30],\n",
    "    'min_samples_split': [2, 5, 10],\n",
    "    'min_samples_leaf': [1, 2, 4]\n",
    "}\n",
    "\n",
    "grid_rf = GridSearchCV(\n",
    "    RandomForestClassifier(), \n",
    "    rf_params, \n",
    "    cv=5, \n",
    "    scoring='accuracy', \n",
    "    verbose=2\n",
    ")\n",
    "grid_rf.fit(X_train, y_train)\n",
    "best_rf = grid_rf.best_estimator_\n",
    "\n",
    "# Naive Bayes\n",
    "nb_params = {\n",
    "    'alpha': [0.1, 0.5, 1, 5, 10]\n",
    "}\n",
    "\n",
    "grid_nb = GridSearchCV(\n",
    "    MultinomialNB(), \n",
    "    nb_params, \n",
    "    cv=5, \n",
    "    scoring='accuracy', \n",
    "    verbose=2\n",
    ")\n",
    "grid_nb.fit(X_train, y_train)\n",
    "best_nb = grid_nb.best_estimator_\n",
    "\n",
    "# Evaluate each model\n",
    "y_pred_log_reg = best_log_reg.predict(X_test)\n",
    "print(\"\\nLogistic Regression Classification Report:\")\n",
    "print(classification_report(y_test, y_pred_log_reg))\n",
    "\n",
    "y_pred_rf = best_rf.predict(X_test)\n",
    "print(\"\\nRandom Forest Classification Report:\")\n",
    "print(classification_report(y_test, y_pred_rf))\n",
    "\n",
    "y_pred_nb = best_nb.predict(X_test)\n",
    "print(\"\\nNaive Bayes Classification Report:\")\n",
    "print(classification_report(y_test, y_pred_nb))\n"
   ]
  },
  {
   "cell_type": "code",
   "execution_count": null,
   "id": "b105b35b-e5d8-4377-a771-bb3c89aead27",
   "metadata": {},
   "outputs": [],
   "source": []
  },
  {
   "cell_type": "code",
   "execution_count": null,
   "id": "a4f7d123-acb7-4221-8f76-bf40174af482",
   "metadata": {},
   "outputs": [],
   "source": []
  },
  {
   "cell_type": "code",
   "execution_count": null,
   "id": "592da112-f4c3-411e-a3f4-d8a19e59deab",
   "metadata": {},
   "outputs": [],
   "source": []
  }
 ],
 "metadata": {
  "kernelspec": {
   "display_name": "LSNENV",
   "language": "python",
   "name": "lsnenv"
  },
  "language_info": {
   "codemirror_mode": {
    "name": "ipython",
    "version": 3
   },
   "file_extension": ".py",
   "mimetype": "text/x-python",
   "name": "python",
   "nbconvert_exporter": "python",
   "pygments_lexer": "ipython3",
   "version": "3.12.4"
  }
 },
 "nbformat": 4,
 "nbformat_minor": 5
}
