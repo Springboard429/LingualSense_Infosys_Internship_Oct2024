{
 "cells": [
  {
   "cell_type": "code",
   "execution_count": 30,
   "id": "b3095283-a1e5-493a-ba83-fe353c4470c0",
   "metadata": {
    "scrolled": true
   },
   "outputs": [
    {
     "name": "stdout",
     "output_type": "stream",
     "text": [
      "Requirement already satisfied: tensorflow in c:\\users\\prama\\anaconda3\\envs\\lingualsensenew\\lib\\site-packages (2.18.0)\n",
      "Requirement already satisfied: tensorflow-intel==2.18.0 in c:\\users\\prama\\anaconda3\\envs\\lingualsensenew\\lib\\site-packages (from tensorflow) (2.18.0)\n",
      "Requirement already satisfied: absl-py>=1.0.0 in c:\\users\\prama\\anaconda3\\envs\\lingualsensenew\\lib\\site-packages (from tensorflow-intel==2.18.0->tensorflow) (2.1.0)\n",
      "Requirement already satisfied: astunparse>=1.6.0 in c:\\users\\prama\\anaconda3\\envs\\lingualsensenew\\lib\\site-packages (from tensorflow-intel==2.18.0->tensorflow) (1.6.3)\n",
      "Requirement already satisfied: flatbuffers>=24.3.25 in c:\\users\\prama\\anaconda3\\envs\\lingualsensenew\\lib\\site-packages (from tensorflow-intel==2.18.0->tensorflow) (24.3.25)\n",
      "Requirement already satisfied: gast!=0.5.0,!=0.5.1,!=0.5.2,>=0.2.1 in c:\\users\\prama\\anaconda3\\envs\\lingualsensenew\\lib\\site-packages (from tensorflow-intel==2.18.0->tensorflow) (0.6.0)\n",
      "Requirement already satisfied: google-pasta>=0.1.1 in c:\\users\\prama\\anaconda3\\envs\\lingualsensenew\\lib\\site-packages (from tensorflow-intel==2.18.0->tensorflow) (0.2.0)\n",
      "Requirement already satisfied: libclang>=13.0.0 in c:\\users\\prama\\anaconda3\\envs\\lingualsensenew\\lib\\site-packages (from tensorflow-intel==2.18.0->tensorflow) (18.1.1)\n",
      "Requirement already satisfied: opt-einsum>=2.3.2 in c:\\users\\prama\\anaconda3\\envs\\lingualsensenew\\lib\\site-packages (from tensorflow-intel==2.18.0->tensorflow) (3.4.0)\n",
      "Requirement already satisfied: packaging in c:\\users\\prama\\anaconda3\\envs\\lingualsensenew\\lib\\site-packages (from tensorflow-intel==2.18.0->tensorflow) (24.2)\n",
      "Requirement already satisfied: protobuf!=4.21.0,!=4.21.1,!=4.21.2,!=4.21.3,!=4.21.4,!=4.21.5,<6.0.0dev,>=3.20.3 in c:\\users\\prama\\anaconda3\\envs\\lingualsensenew\\lib\\site-packages (from tensorflow-intel==2.18.0->tensorflow) (5.29.1)\n",
      "Requirement already satisfied: requests<3,>=2.21.0 in c:\\users\\prama\\anaconda3\\envs\\lingualsensenew\\lib\\site-packages (from tensorflow-intel==2.18.0->tensorflow) (2.32.3)\n",
      "Requirement already satisfied: setuptools in c:\\users\\prama\\anaconda3\\envs\\lingualsensenew\\lib\\site-packages (from tensorflow-intel==2.18.0->tensorflow) (75.1.0)\n",
      "Requirement already satisfied: six>=1.12.0 in c:\\users\\prama\\anaconda3\\envs\\lingualsensenew\\lib\\site-packages (from tensorflow-intel==2.18.0->tensorflow) (1.16.0)\n",
      "Requirement already satisfied: termcolor>=1.1.0 in c:\\users\\prama\\anaconda3\\envs\\lingualsensenew\\lib\\site-packages (from tensorflow-intel==2.18.0->tensorflow) (2.5.0)\n",
      "Requirement already satisfied: typing-extensions>=3.6.6 in c:\\users\\prama\\anaconda3\\envs\\lingualsensenew\\lib\\site-packages (from tensorflow-intel==2.18.0->tensorflow) (4.12.2)\n",
      "Requirement already satisfied: wrapt>=1.11.0 in c:\\users\\prama\\anaconda3\\envs\\lingualsensenew\\lib\\site-packages (from tensorflow-intel==2.18.0->tensorflow) (1.17.0)\n",
      "Requirement already satisfied: grpcio<2.0,>=1.24.3 in c:\\users\\prama\\anaconda3\\envs\\lingualsensenew\\lib\\site-packages (from tensorflow-intel==2.18.0->tensorflow) (1.68.1)\n",
      "Requirement already satisfied: tensorboard<2.19,>=2.18 in c:\\users\\prama\\anaconda3\\envs\\lingualsensenew\\lib\\site-packages (from tensorflow-intel==2.18.0->tensorflow) (2.18.0)\n",
      "Requirement already satisfied: keras>=3.5.0 in c:\\users\\prama\\anaconda3\\envs\\lingualsensenew\\lib\\site-packages (from tensorflow-intel==2.18.0->tensorflow) (3.7.0)\n",
      "Requirement already satisfied: numpy<2.1.0,>=1.26.0 in c:\\users\\prama\\anaconda3\\envs\\lingualsensenew\\lib\\site-packages (from tensorflow-intel==2.18.0->tensorflow) (2.0.2)\n",
      "Requirement already satisfied: h5py>=3.11.0 in c:\\users\\prama\\anaconda3\\envs\\lingualsensenew\\lib\\site-packages (from tensorflow-intel==2.18.0->tensorflow) (3.12.1)\n",
      "Requirement already satisfied: ml-dtypes<0.5.0,>=0.4.0 in c:\\users\\prama\\anaconda3\\envs\\lingualsensenew\\lib\\site-packages (from tensorflow-intel==2.18.0->tensorflow) (0.4.1)\n",
      "Requirement already satisfied: wheel<1.0,>=0.23.0 in c:\\users\\prama\\anaconda3\\envs\\lingualsensenew\\lib\\site-packages (from astunparse>=1.6.0->tensorflow-intel==2.18.0->tensorflow) (0.44.0)\n",
      "Requirement already satisfied: rich in c:\\users\\prama\\anaconda3\\envs\\lingualsensenew\\lib\\site-packages (from keras>=3.5.0->tensorflow-intel==2.18.0->tensorflow) (13.9.4)\n",
      "Requirement already satisfied: namex in c:\\users\\prama\\anaconda3\\envs\\lingualsensenew\\lib\\site-packages (from keras>=3.5.0->tensorflow-intel==2.18.0->tensorflow) (0.0.8)\n",
      "Requirement already satisfied: optree in c:\\users\\prama\\anaconda3\\envs\\lingualsensenew\\lib\\site-packages (from keras>=3.5.0->tensorflow-intel==2.18.0->tensorflow) (0.13.1)\n",
      "Requirement already satisfied: charset-normalizer<4,>=2 in c:\\users\\prama\\anaconda3\\envs\\lingualsensenew\\lib\\site-packages (from requests<3,>=2.21.0->tensorflow-intel==2.18.0->tensorflow) (3.4.0)\n",
      "Requirement already satisfied: idna<4,>=2.5 in c:\\users\\prama\\anaconda3\\envs\\lingualsensenew\\lib\\site-packages (from requests<3,>=2.21.0->tensorflow-intel==2.18.0->tensorflow) (3.10)\n",
      "Requirement already satisfied: urllib3<3,>=1.21.1 in c:\\users\\prama\\anaconda3\\envs\\lingualsensenew\\lib\\site-packages (from requests<3,>=2.21.0->tensorflow-intel==2.18.0->tensorflow) (2.2.3)\n",
      "Requirement already satisfied: certifi>=2017.4.17 in c:\\users\\prama\\anaconda3\\envs\\lingualsensenew\\lib\\site-packages (from requests<3,>=2.21.0->tensorflow-intel==2.18.0->tensorflow) (2024.8.30)\n",
      "Requirement already satisfied: markdown>=2.6.8 in c:\\users\\prama\\anaconda3\\envs\\lingualsensenew\\lib\\site-packages (from tensorboard<2.19,>=2.18->tensorflow-intel==2.18.0->tensorflow) (3.7)\n",
      "Requirement already satisfied: tensorboard-data-server<0.8.0,>=0.7.0 in c:\\users\\prama\\anaconda3\\envs\\lingualsensenew\\lib\\site-packages (from tensorboard<2.19,>=2.18->tensorflow-intel==2.18.0->tensorflow) (0.7.2)\n",
      "Requirement already satisfied: werkzeug>=1.0.1 in c:\\users\\prama\\anaconda3\\envs\\lingualsensenew\\lib\\site-packages (from tensorboard<2.19,>=2.18->tensorflow-intel==2.18.0->tensorflow) (3.1.3)\n",
      "Requirement already satisfied: MarkupSafe>=2.1.1 in c:\\users\\prama\\anaconda3\\envs\\lingualsensenew\\lib\\site-packages (from werkzeug>=1.0.1->tensorboard<2.19,>=2.18->tensorflow-intel==2.18.0->tensorflow) (3.0.2)\n",
      "Requirement already satisfied: markdown-it-py>=2.2.0 in c:\\users\\prama\\anaconda3\\envs\\lingualsensenew\\lib\\site-packages (from rich->keras>=3.5.0->tensorflow-intel==2.18.0->tensorflow) (3.0.0)\n",
      "Requirement already satisfied: pygments<3.0.0,>=2.13.0 in c:\\users\\prama\\anaconda3\\envs\\lingualsensenew\\lib\\site-packages (from rich->keras>=3.5.0->tensorflow-intel==2.18.0->tensorflow) (2.18.0)\n",
      "Requirement already satisfied: mdurl~=0.1 in c:\\users\\prama\\anaconda3\\envs\\lingualsensenew\\lib\\site-packages (from markdown-it-py>=2.2.0->rich->keras>=3.5.0->tensorflow-intel==2.18.0->tensorflow) (0.1.2)\n"
     ]
    }
   ],
   "source": [
    "!pip install tensorflow"
   ]
  },
  {
   "cell_type": "code",
   "execution_count": 3,
   "id": "1fa3e282-a087-4b46-8502-24f4bb078822",
   "metadata": {},
   "outputs": [
    {
     "data": {
      "text/html": [
       "<div>\n",
       "<style scoped>\n",
       "    .dataframe tbody tr th:only-of-type {\n",
       "        vertical-align: middle;\n",
       "    }\n",
       "\n",
       "    .dataframe tbody tr th {\n",
       "        vertical-align: top;\n",
       "    }\n",
       "\n",
       "    .dataframe thead th {\n",
       "        text-align: right;\n",
       "    }\n",
       "</style>\n",
       "<table border=\"1\" class=\"dataframe\">\n",
       "  <thead>\n",
       "    <tr style=\"text-align: right;\">\n",
       "      <th></th>\n",
       "      <th>Text</th>\n",
       "      <th>Language</th>\n",
       "    </tr>\n",
       "  </thead>\n",
       "  <tbody>\n",
       "    <tr>\n",
       "      <th>0</th>\n",
       "      <td>klement gottwaldi surnukeha palsameeriti ning ...</td>\n",
       "      <td>Estonian</td>\n",
       "    </tr>\n",
       "    <tr>\n",
       "      <th>1</th>\n",
       "      <td>sebes joseph pereira thomas  på eng the jesuit...</td>\n",
       "      <td>Swedish</td>\n",
       "    </tr>\n",
       "    <tr>\n",
       "      <th>2</th>\n",
       "      <td>ถนนเจริญกรุง อักษรโรมัน thanon charoen krung เ...</td>\n",
       "      <td>Thai</td>\n",
       "    </tr>\n",
       "    <tr>\n",
       "      <th>3</th>\n",
       "      <td>விசாகப்பட்டினம் தமிழ்ச்சங்கத்தை இந்துப் பத்திர...</td>\n",
       "      <td>Tamil</td>\n",
       "    </tr>\n",
       "    <tr>\n",
       "      <th>4</th>\n",
       "      <td>de spons behoort tot het geslacht haliclona en...</td>\n",
       "      <td>Dutch</td>\n",
       "    </tr>\n",
       "  </tbody>\n",
       "</table>\n",
       "</div>"
      ],
      "text/plain": [
       "                                                Text  Language\n",
       "0  klement gottwaldi surnukeha palsameeriti ning ...  Estonian\n",
       "1  sebes joseph pereira thomas  på eng the jesuit...   Swedish\n",
       "2  ถนนเจริญกรุง อักษรโรมัน thanon charoen krung เ...      Thai\n",
       "3  விசாகப்பட்டினம் தமிழ்ச்சங்கத்தை இந்துப் பத்திர...     Tamil\n",
       "4  de spons behoort tot het geslacht haliclona en...     Dutch"
      ]
     },
     "execution_count": 3,
     "metadata": {},
     "output_type": "execute_result"
    }
   ],
   "source": [
    "import pandas as pd\n",
    "\n",
    "# Load dataset\n",
    "df = pd.read_csv(\"C:/Users/prama/OneDrive/Desktop/datasets/merged_dataset.csv\")\n",
    "df.head()"
   ]
  },
  {
   "cell_type": "code",
   "execution_count": 4,
   "id": "70733b1d-bfdb-4378-8d5d-358f8df0dd33",
   "metadata": {},
   "outputs": [
    {
     "name": "stdout",
     "output_type": "stream",
     "text": [
      "\n",
      "Dataset Information:\n",
      "<class 'pandas.core.frame.DataFrame'>\n",
      "RangeIndex: 32337 entries, 0 to 32336\n",
      "Data columns (total 2 columns):\n",
      " #   Column    Non-Null Count  Dtype \n",
      "---  ------    --------------  ----- \n",
      " 0   Text      32337 non-null  object\n",
      " 1   Language  32337 non-null  object\n",
      "dtypes: object(2)\n",
      "memory usage: 505.4+ KB\n"
     ]
    }
   ],
   "source": [
    "# General information about the dataset\n",
    "print(\"\\nDataset Information:\")\n",
    "df.info()"
   ]
  },
  {
   "cell_type": "code",
   "execution_count": 5,
   "id": "16e04d45-cf5e-435a-91c1-cb4fc1628eea",
   "metadata": {},
   "outputs": [
    {
     "name": "stdout",
     "output_type": "stream",
     "text": [
      "\n",
      "Summary Statistics:\n",
      "                                                     Text Language\n",
      "count                                               32337    32337\n",
      "unique                                              32126       30\n",
      "top     haec commentatio automatice praeparata res ast...  English\n",
      "freq                                                   48     2385\n"
     ]
    }
   ],
   "source": [
    "# Summary statistics for numerical columns (if any)\n",
    "print(\"\\nSummary Statistics:\")\n",
    "print(df.describe())"
   ]
  },
  {
   "cell_type": "code",
   "execution_count": 6,
   "id": "c29525ae-aad2-4dfc-9300-1797032fbff9",
   "metadata": {},
   "outputs": [
    {
     "name": "stdout",
     "output_type": "stream",
     "text": [
      "\n",
      "Missing Values:\n",
      "Text        0\n",
      "Language    0\n",
      "dtype: int64\n"
     ]
    }
   ],
   "source": [
    "# Check for missing values\n",
    "print(\"\\nMissing Values:\")\n",
    "print(df.isnull().sum())"
   ]
  },
  {
   "cell_type": "code",
   "execution_count": 7,
   "id": "845e8058-40da-4d37-a502-de4eb986b191",
   "metadata": {},
   "outputs": [
    {
     "name": "stdout",
     "output_type": "stream",
     "text": [
      "\n",
      "Duplicate Rows Count: 207\n"
     ]
    }
   ],
   "source": [
    "# Check for duplicate rows\n",
    "print(\"\\nDuplicate Rows Count:\", df.duplicated().sum())"
   ]
  },
  {
   "cell_type": "code",
   "execution_count": 8,
   "id": "2d723780-6bac-4605-8ac6-352bf16beea4",
   "metadata": {},
   "outputs": [
    {
     "data": {
      "image/png": "[encoded data removed]",
      "text/plain": [
       "<Figure size 1000x600 with 1 Axes>"
      ]
     },
     "metadata": {},
     "output_type": "display_data"
    }
   ],
   "source": [
    "import matplotlib.pyplot as plt\n",
    "import seaborn as sns\n",
    "\n",
    "plt.figure(figsize=(10, 6))\n",
    "sns.countplot(data=df, x='Language', order=df['Language'].value_counts().index)\n",
    "plt.title('Language Distribution')\n",
    "plt.xticks(rotation=90)\n",
    "plt.show()"
   ]
  },
  {
   "cell_type": "code",
   "execution_count": 9,
   "id": "6dfda3c6-04fb-441a-acf5-7811bc679723",
   "metadata": {},
   "outputs": [
    {
     "name": "stdout",
     "output_type": "stream",
     "text": [
      "\n",
      "Missing Values Before Handling:\n",
      "Text        0\n",
      "Language    0\n",
      "dtype: int64\n",
      "\n",
      "Missing Values After Handling:\n",
      "Text        0\n",
      "Language    0\n",
      "dtype: int64\n"
     ]
    }
   ],
   "source": [
    "# Count of missing values before handling\n",
    "print(\"\\nMissing Values Before Handling:\")\n",
    "print(df.isnull().sum())\n",
    "\n",
    "# Drop rows with missing values\n",
    "df = df.dropna()\n",
    "\n",
    "# Count of missing values after handling\n",
    "print(\"\\nMissing Values After Handling:\")\n",
    "print(df.isnull().sum())"
   ]
  },
  {
   "cell_type": "code",
   "execution_count": 10,
   "id": "3333c00c-4d3e-477b-855f-8ab578b46f85",
   "metadata": {},
   "outputs": [
    {
     "name": "stdout",
     "output_type": "stream",
     "text": [
      "\n",
      "Duplicate Rows Before Handling: 207\n",
      "\n",
      "Duplicate Rows After Handling: 0\n"
     ]
    }
   ],
   "source": [
    "# Count duplicates before handling\n",
    "print(\"\\nDuplicate Rows Before Handling:\", df.duplicated().sum())\n",
    "\n",
    "# Drop duplicates\n",
    "df = df.drop_duplicates()\n",
    "\n",
    "# Count duplicates after handling\n",
    "print(\"\\nDuplicate Rows After Handling:\", df.duplicated().sum())"
   ]
  },
  {
   "cell_type": "code",
   "execution_count": 11,
   "id": "cf58ba5b-47c0-485a-a684-4892d58f794a",
   "metadata": {},
   "outputs": [],
   "source": [
    "import re\n",
    "\n",
    "# Function to clean text\n",
    "def clean_text(text):\n",
    "    # Remove backslashes, line breaks, and extra whitespaces\n",
    "    text = re.sub(r'\\\\', '', text)       # Remove backslashes\n",
    "    text = re.sub(r'\\n', ' ', text)      # Replace line breaks with a space\n",
    "    text = re.sub(r'\\s+', ' ', text)     # Replace multiple spaces with a single space\n",
    "    \n",
    "    # Remove special characters except for non-English text\n",
    "    text = re.sub(r'[^\\w\\s]', '', text)  # Remove special characters\n",
    "    text = re.sub(r'\\d+', '', text)      # Remove numbers\n",
    "\n",
    "    # Remove leading and trailing whitespaces\n",
    "    text = text.strip()\n",
    "    \n",
    "    return text\n",
    "\n",
    "# Apply text cleaning to the 'Text' column\n",
    "df['Cleaned_Text'] = df['Text'].apply(clean_text)\n",
    "\n",
    "# Convert text to lowercase\n",
    "df['Cleaned_Text'] = df['Cleaned_Text'].str.lower()\n"
   ]
  },
  {
   "cell_type": "code",
   "execution_count": 12,
   "id": "3b982527-2d5d-4cd2-94ab-327ea198bf98",
   "metadata": {},
   "outputs": [
    {
     "name": "stdout",
     "output_type": "stream",
     "text": [
      "\n",
      "Initial Dataset:\n",
      "                                                Text  Language\n",
      "0  klement gottwaldi surnukeha palsameeriti ning ...  Estonian\n",
      "1  sebes joseph pereira thomas  på eng the jesuit...   Swedish\n",
      "2  ถนนเจริญกรุง อักษรโรมัน thanon charoen krung เ...      Thai\n",
      "3  விசாகப்பட்டினம் தமிழ்ச்சங்கத்தை இந்துப் பத்திர...     Tamil\n",
      "4  de spons behoort tot het geslacht haliclona en...     Dutch\n",
      "\n",
      "After Preprocessing:\n",
      "                                        Cleaned_Text  Language\n",
      "0  klement gottwaldi surnukeha palsameeriti ning ...  Estonian\n",
      "1  sebes joseph pereira thomas på eng the jesuits...   Swedish\n",
      "2  ถนนเจรญกรง อกษรโรมน thanon charoen krung เรมตง...      Thai\n",
      "3  வசகபபடடனம தமழசசஙகதத இநதப பததரகவசகபபடடன ஆசரயர ச...     Tamil\n",
      "4  de spons behoort tot het geslacht haliclona en...     Dutch\n"
     ]
    }
   ],
   "source": [
    "print(\"\\nInitial Dataset:\")\n",
    "print(df[['Text', 'Language']].head())  # Original dataset snapshot\n",
    "\n",
    "print(\"\\nAfter Preprocessing:\")\n",
    "print(df[['Cleaned_Text', 'Language']].head())  # Preprocessed dataset snapshot"
   ]
  },
  {
   "cell_type": "code",
   "execution_count": 13,
   "id": "7e967e99-71d3-4efa-b639-4017d3c04f12",
   "metadata": {},
   "outputs": [
    {
     "name": "stdout",
     "output_type": "stream",
     "text": [
      "                                                    Text Language  \\\n",
      "22002  The study of nature is a large, if not the onl...  English   \n",
      "22003  Although humans are part of nature, human acti...  English   \n",
      "22004  [1] The word nature is borrowed from the Old F...  English   \n",
      "22005  [2] In ancient philosophy, natura is mostly us...  English   \n",
      "22006  [3][4] \\nThe concept of nature as a whole, the...  English   \n",
      "...                                                  ...      ...   \n",
      "32332  ನಿಮ್ಮ ತಪ್ಪು ಏನು ಬಂದಿದೆಯೆಂದರೆ ಆ ದಿನದಿಂದ ನಿಮಗೆ ಒ...  Kannada   \n",
      "32333  ನಾರ್ಸಿಸಾ ತಾನು ಮೊದಲಿಗೆ ಹೆಣಗಾಡುತ್ತಿದ್ದ ಮಾರ್ಗಗಳನ್...  Kannada   \n",
      "32334  ಹೇಗೆ ' ನಾರ್ಸಿಸಿಸಮ್ ಈಗ ಮರಿಯನ್ ಅವರಿಗೆ ಸಂಭವಿಸಿದ ಎ...  Kannada   \n",
      "32335  ಅವಳು ಈಗ ಹೆಚ್ಚು ಚಿನ್ನದ ಬ್ರೆಡ್ ಬಯಸುವುದಿಲ್ಲ ಎಂದು ...  Kannada   \n",
      "32336  ಟೆರ್ರಿ ನೀವು ನಿಜವಾಗಿಯೂ ಆ ದೇವದೂತನಂತೆ ಸ್ವಲ್ಪ ಕಾಣು...  Kannada   \n",
      "\n",
      "                                            Cleaned_Text  \n",
      "22002  the study of nature is a large if not the only...  \n",
      "22003  although humans are part of nature human activ...  \n",
      "22004  the word nature is borrowed from the old frenc...  \n",
      "22005  in ancient philosophy natura is mostly used as...  \n",
      "22006  the concept of nature as a whole the physical ...  \n",
      "...                                                  ...  \n",
      "32332           ನಮಮ ತಪಪ ಏನ ಬದದಯದರ ಆ ದನದದ ನಮಗ ಒಳಳಯದನನ ನಡಣ  \n",
      "32333  ನರಸಸ ತನ ಮದಲಗ ಹಣಗಡತತದದ ಮರಗಗಳನನ ಬದಲಯಸದಳ ಆದರ ನಧನವ...  \n",
      "32334  ಹಗ  ನರಸಸಸಮ ಈಗ ಮರಯನ ಅವರಗ ಸಭವಸದ ಎಲಲವನನ ಹಳದ ಮತತ ಅ...  \n",
      "32335        ಅವಳ ಈಗ ಹಚಚ ಚನನದ ಬರಡ ಬಯಸವದಲಲ ಎದ ನನ ess ಹಸದದನ  \n",
      "32336  ಟರರ ನವ ನಜವಗಯ ಆ ದವದತನತ ಸವಲಪ ಕಣತತದದರ ಆದರ ನನ ಏನ ನ...  \n",
      "\n",
      "[10269 rows x 3 columns]\n"
     ]
    }
   ],
   "source": [
    "# Display rows 21861 to 32132 \n",
    "subset = df[21861:32132]\n",
    "print(subset)"
   ]
  },
  {
   "cell_type": "code",
   "execution_count": 14,
   "id": "7d27b14a-77be-441f-99f6-ecbd18a367ee",
   "metadata": {},
   "outputs": [
    {
     "name": "stdout",
     "output_type": "stream",
     "text": [
      "\n",
      "Initial Dataset:\n",
      "                                                    Text Language\n",
      "22002  The study of nature is a large, if not the onl...  English\n",
      "22003  Although humans are part of nature, human acti...  English\n",
      "22004  [1] The word nature is borrowed from the Old F...  English\n",
      "22005  [2] In ancient philosophy, natura is mostly us...  English\n",
      "22006  [3][4] \\nThe concept of nature as a whole, the...  English\n",
      "\n",
      "After Preprocessing:\n",
      "                                            Cleaned_Text Language\n",
      "22002  the study of nature is a large if not the only...  English\n",
      "22003  although humans are part of nature human activ...  English\n",
      "22004  the word nature is borrowed from the old frenc...  English\n",
      "22005  in ancient philosophy natura is mostly used as...  English\n",
      "22006  the concept of nature as a whole the physical ...  English\n"
     ]
    }
   ],
   "source": [
    "print(\"\\nInitial Dataset:\")\n",
    "print(subset[['Text', 'Language']].head())  # Original dataset snapshot\n",
    "\n",
    "print(\"\\nAfter Preprocessing:\")\n",
    "print(subset[['Cleaned_Text', 'Language']].head())  # Preprocessed dataset snapshot"
   ]
  },
  {
   "cell_type": "code",
   "execution_count": 15,
   "id": "ca22a32c-30b7-46fe-ba06-db0a8fc844cc",
   "metadata": {},
   "outputs": [],
   "source": [
    "from sklearn.preprocessing import LabelEncoder\n",
    "\n",
    "le = LabelEncoder()\n",
    "df['Language_Label'] = le.fit_transform(df['Language'])"
   ]
  },
  {
   "cell_type": "code",
   "execution_count": 16,
   "id": "a3de9c70-0946-4ef6-9278-5912b5f8fe34",
   "metadata": {},
   "outputs": [],
   "source": [
    "from sklearn.model_selection import train_test_split\n",
    "from sklearn.feature_extraction.text import CountVectorizer\n",
    "from sklearn.metrics import classification_report, accuracy_score\n",
    "from sklearn.linear_model import LogisticRegression\n",
    "from sklearn.naive_bayes import MultinomialNB\n",
    "from sklearn.svm import SVC\n",
    "from sklearn.ensemble import RandomForestClassifier\n",
    "from sklearn.tree import DecisionTreeClassifier"
   ]
  },
  {
   "cell_type": "code",
   "execution_count": 17,
   "id": "2c59952c-10e9-40b8-8c16-472ed3fefc4a",
   "metadata": {},
   "outputs": [],
   "source": [
    "#Split the data into training and testing sets\n",
    "X = df['Cleaned_Text']  # Features (cleaned text)\n",
    "y = df['Language']      # Labels (languages)\n",
    "\n",
    "x_train, x_test, y_train, y_test = train_test_split(X, y, test_size=0.2, random_state=42)"
   ]
  },
  {
   "cell_type": "code",
   "execution_count": 18,
   "id": "e5a2ba69-b37d-4427-9449-6f0999eedc72",
   "metadata": {},
   "outputs": [
    {
     "name": "stdout",
     "output_type": "stream",
     "text": [
      "Vocabulary Size: 250937\n",
      "Example of Tokenized Sequence (Train): [[246, 1715, 1, 3553, 776, 7328, 1, 1, 7880, 1, 7880, 175, 176, 28, 1, 7881, 1, 51, 3403, 1, 1, 2, 1059, 75, 1235, 2, 1, 1, 7880, 1, 51, 227, 176, 3553, 776, 7328, 246, 2975]]\n",
      "Example of Padded Sequence (Train): [[ 246 1715    1 3553  776 7328    1    1 7880    1 7880  175  176   28\n",
      "     1 7881    1   51 3403    1    1    2 1059   75 1235    2    1    1\n",
      "  7880    1   51  227  176 3553  776 7328  246 2975    0    0    0    0\n",
      "     0    0    0    0    0    0    0    0    0    0    0    0    0    0\n",
      "     0    0    0    0    0    0    0    0    0    0    0    0    0    0\n",
      "     0    0    0    0    0    0    0    0    0    0    0    0    0    0\n",
      "     0    0    0    0    0    0    0    0    0    0    0    0    0    0\n",
      "     0    0]]\n",
      "Example of Tokenized Sequence (Test): [[1, 1]]\n",
      "Example of Padded Sequence (Test): [[1 1 0 0 0 0 0 0 0 0 0 0 0 0 0 0 0 0 0 0 0 0 0 0 0 0 0 0 0 0 0 0 0 0 0 0\n",
      "  0 0 0 0 0 0 0 0 0 0 0 0 0 0 0 0 0 0 0 0 0 0 0 0 0 0 0 0 0 0 0 0 0 0 0 0\n",
      "  0 0 0 0 0 0 0 0 0 0 0 0 0 0 0 0 0 0 0 0 0 0 0 0 0 0 0 0]]\n"
     ]
    }
   ],
   "source": [
    "from tensorflow.keras.preprocessing.text import Tokenizer\n",
    "from tensorflow.keras.preprocessing.sequence import pad_sequences\n",
    "\n",
    "# Initialize the Tokenizer\n",
    "tokenizer = Tokenizer(num_words=10000, oov_token=\"<OOV>\")  # Adjust num_words if needed\n",
    "tokenizer.fit_on_texts(x_train)  # Fit the tokenizer on training data\n",
    "\n",
    "# Convert text to sequences\n",
    "x_train_seq = tokenizer.texts_to_sequences(x_train)\n",
    "x_test_seq = tokenizer.texts_to_sequences(x_test)\n",
    "\n",
    "# Apply padding to sequences\n",
    "max_length = 100 \n",
    "x_train_padded = pad_sequences(x_train_seq, maxlen=max_length, padding='post', truncating='post')\n",
    "x_test_padded = pad_sequences(x_test_seq, maxlen=max_length, padding='post', truncating='post')\n",
    "\n",
    "# Check vocabulary size\n",
    "vocab_size = len(tokenizer.word_index) + 1\n",
    "print(f\"Vocabulary Size: {vocab_size}\")\n",
    "\n",
    "# Print examples of tokenized and padded sequences\n",
    "print(\"Example of Tokenized Sequence (Train):\", x_train_seq[:1])\n",
    "print(\"Example of Padded Sequence (Train):\", x_train_padded[:1])\n",
    "print(\"Example of Tokenized Sequence (Test):\", x_test_seq[:1])\n",
    "print(\"Example of Padded Sequence (Test):\", x_test_padded[:1])\n"
   ]
  },
  {
   "cell_type": "code",
   "execution_count": 19,
   "id": "7b1eb188-dcb4-412f-af69-8c4c4a3f9d5a",
   "metadata": {},
   "outputs": [],
   "source": [
    "from tensorflow.keras.models import Sequential\n",
    "from tensorflow.keras.layers import Embedding, LSTM, Dense, Dropout\n",
    "from sklearn.metrics import classification_report, accuracy_score\n",
    "import numpy as np"
   ]
  },
  {
   "cell_type": "code",
   "execution_count": 20,
   "id": "19b2e784-3d79-4cb4-a038-de1e6b783881",
   "metadata": {},
   "outputs": [],
   "source": [
    "# Define the number of classes (unique languages in the dataset)\n",
    "num_classes = len(set(y_train))"
   ]
  },
  {
   "cell_type": "markdown",
   "id": "48eaa49b-cc71-4395-a5f4-12a0edb09144",
   "metadata": {},
   "source": [
    "# Define the model\n",
    "model = Sequential([\n",
    "    # Embedding layer\n",
    "    Embedding(input_dim=vocab_size, output_dim=128),  # Removed input_length\n",
    "    \n",
    "    # LSTM layers\n",
    "    LSTM(128, return_sequences=True),\n",
    "    Dropout(0.4),\n",
    "    LSTM(64),\n",
    "    \n",
    "    # Dense layers\n",
    "    Dense(32, activation='relu'),\n",
    "    Dense(num_classes, activation='softmax')  # Output layer for multi-class classification\n",
    "])\n"
   ]
  },
  {
   "cell_type": "code",
   "execution_count": 21,
   "id": "1c4dd50a-bbe2-461c-b7c5-91ad758fee31",
   "metadata": {},
   "outputs": [
    {
     "data": {
      "text/plain": [
       "<Embedding name=embedding, built=False>"
      ]
     },
     "execution_count": 21,
     "metadata": {},
     "output_type": "execute_result"
    }
   ],
   "source": [
    "Embedding(input_dim=vocab_size, output_dim=128)\n"
   ]
  },
  {
   "cell_type": "code",
   "execution_count": 22,
   "id": "c3c5efb0-45fc-493b-bbb3-678653e5391e",
   "metadata": {},
   "outputs": [
    {
     "data": {
      "text/plain": [
       "<LSTM name=lstm_1, built=False>"
      ]
     },
     "execution_count": 22,
     "metadata": {},
     "output_type": "execute_result"
    }
   ],
   "source": [
    "LSTM(256, return_sequences=True)\n",
    "LSTM(128)\n"
   ]
  },
  {
   "cell_type": "code",
   "execution_count": 23,
   "id": "439d50c1-90d9-450e-8261-2d6432c4e79b",
   "metadata": {},
   "outputs": [
    {
     "data": {
      "text/plain": [
       "<Dropout name=dropout, built=True>"
      ]
     },
     "execution_count": 23,
     "metadata": {},
     "output_type": "execute_result"
    }
   ],
   "source": [
    "Dropout(0.5)\n"
   ]
  },
  {
   "cell_type": "code",
   "execution_count": 24,
   "id": "f85b5a26-140b-44db-81c2-27e72d7a098d",
   "metadata": {},
   "outputs": [
    {
     "name": "stdout",
     "output_type": "stream",
     "text": [
      "int32\n",
      "object\n"
     ]
    }
   ],
   "source": [
    "print(x_train_padded.dtype)  # Should be numeric, e.g., int32 or float32\n",
    "print(y_train.dtype)         # Should be numeric, e.g., int32\n"
   ]
  },
  {
   "cell_type": "code",
   "execution_count": 25,
   "id": "e1db21d3-323d-40ff-afd5-45f42421c17a",
   "metadata": {},
   "outputs": [],
   "source": [
    "import numpy as np\n",
    "\n",
    "x_train_padded = np.array(x_train_padded, dtype=np.int32)\n",
    "x_test_padded = np.array(x_test_padded, dtype=np.int32)\n"
   ]
  },
  {
   "cell_type": "code",
   "execution_count": 26,
   "id": "c4a19a6b-dcd5-4948-ab8d-f6d282bfe171",
   "metadata": {},
   "outputs": [
    {
     "name": "stdout",
     "output_type": "stream",
     "text": [
      "Label Mapping: {'Arabic': np.int64(0), 'Chinese': np.int64(1), 'Danish': np.int64(2), 'Dutch': np.int64(3), 'English': np.int64(4), 'Estonian': np.int64(5), 'French': np.int64(6), 'German': np.int64(7), 'Greek': np.int64(8), 'Hindi': np.int64(9), 'Indonesian': np.int64(10), 'Italian': np.int64(11), 'Japanese': np.int64(12), 'Kannada': np.int64(13), 'Korean': np.int64(14), 'Latin': np.int64(15), 'Malayalam': np.int64(16), 'Persian': np.int64(17), 'Portugeese': np.int64(18), 'Portugese': np.int64(19), 'Pushto': np.int64(20), 'Romanian': np.int64(21), 'Russian': np.int64(22), 'Spanish': np.int64(23), 'Swedish': np.int64(24), 'Sweedish': np.int64(25), 'Tamil': np.int64(26), 'Thai': np.int64(27), 'Turkish': np.int64(28), 'Urdu': np.int64(29)}\n"
     ]
    }
   ],
   "source": [
    "from sklearn.preprocessing import LabelEncoder\n",
    "\n",
    "# Initialize LabelEncoder\n",
    "le = LabelEncoder()\n",
    "\n",
    "# Fit and transform labels\n",
    "y_train = le.fit_transform(y_train)\n",
    "y_test = le.transform(y_test)  # Use transform, not fit_transform, for consistency\n",
    "\n",
    "# Check the mapping\n",
    "print(\"Label Mapping:\", dict(zip(le.classes_, le.transform(le.classes_))))\n"
   ]
  },
  {
   "cell_type": "code",
   "execution_count": 27,
   "id": "789076da-2d50-41da-a085-be82efc34107",
   "metadata": {},
   "outputs": [],
   "source": [
    "import numpy as np\n",
    "\n",
    "y_train = np.array(y_train, dtype=np.int32)\n",
    "y_test = np.array(y_test, dtype=np.int32)"
   ]
  },
  {
   "cell_type": "code",
   "execution_count": 33,
   "id": "e932e951-f3e3-46e5-a835-e024ca8d9d44",
   "metadata": {},
   "outputs": [
    {
     "name": "stdout",
     "output_type": "stream",
     "text": [
      "Epoch 1/20\n",
      "\u001b[1m804/804\u001b[0m \u001b[32m━━━━━━━━━━━━━━━━━━━━\u001b[0m\u001b[37m\u001b[0m \u001b[1m334s\u001b[0m 404ms/step - accuracy: 0.0919 - loss: 3.2254 - val_accuracy: 0.1243 - val_loss: 3.0570\n",
      "Epoch 2/20\n",
      "\u001b[1m804/804\u001b[0m \u001b[32m━━━━━━━━━━━━━━━━━━━━\u001b[0m\u001b[37m\u001b[0m \u001b[1m338s\u001b[0m 420ms/step - accuracy: 0.1172 - loss: 3.0189 - val_accuracy: 0.1335 - val_loss: 2.9898\n",
      "Epoch 3/20\n",
      "\u001b[1m804/804\u001b[0m \u001b[32m━━━━━━━━━━━━━━━━━━━━\u001b[0m\u001b[37m\u001b[0m \u001b[1m305s\u001b[0m 380ms/step - accuracy: 0.1360 - loss: 2.9357 - val_accuracy: 0.1259 - val_loss: 2.9716\n",
      "Epoch 4/20\n",
      "\u001b[1m804/804\u001b[0m \u001b[32m━━━━━━━━━━━━━━━━━━━━\u001b[0m\u001b[37m\u001b[0m \u001b[1m306s\u001b[0m 380ms/step - accuracy: 0.1879 - loss: 2.5540 - val_accuracy: 0.2077 - val_loss: 2.6167\n",
      "Epoch 5/20\n",
      "\u001b[1m804/804\u001b[0m \u001b[32m━━━━━━━━━━━━━━━━━━━━\u001b[0m\u001b[37m\u001b[0m \u001b[1m303s\u001b[0m 376ms/step - accuracy: 0.2358 - loss: 2.3801 - val_accuracy: 0.3469 - val_loss: 1.9809\n",
      "Epoch 6/20\n",
      "\u001b[1m804/804\u001b[0m \u001b[32m━━━━━━━━━━━━━━━━━━━━\u001b[0m\u001b[37m\u001b[0m \u001b[1m324s\u001b[0m 403ms/step - accuracy: 0.3732 - loss: 1.8190 - val_accuracy: 0.4186 - val_loss: 1.7543\n",
      "Epoch 7/20\n",
      "\u001b[1m804/804\u001b[0m \u001b[32m━━━━━━━━━━━━━━━━━━━━\u001b[0m\u001b[37m\u001b[0m \u001b[1m332s\u001b[0m 412ms/step - accuracy: 0.2173 - loss: 2.6300 - val_accuracy: 0.2613 - val_loss: 2.5007\n",
      "Epoch 8/20\n",
      "\u001b[1m804/804\u001b[0m \u001b[32m━━━━━━━━━━━━━━━━━━━━\u001b[0m\u001b[37m\u001b[0m \u001b[1m332s\u001b[0m 413ms/step - accuracy: 0.3471 - loss: 2.1092 - val_accuracy: 0.5151 - val_loss: 1.3966\n",
      "Epoch 9/20\n",
      "\u001b[1m804/804\u001b[0m \u001b[32m━━━━━━━━━━━━━━━━━━━━\u001b[0m\u001b[37m\u001b[0m \u001b[1m338s\u001b[0m 421ms/step - accuracy: 0.5772 - loss: 1.2418 - val_accuracy: 0.7249 - val_loss: 0.8095\n",
      "Epoch 10/20\n",
      "\u001b[1m804/804\u001b[0m \u001b[32m━━━━━━━━━━━━━━━━━━━━\u001b[0m\u001b[37m\u001b[0m \u001b[1m326s\u001b[0m 405ms/step - accuracy: 0.7896 - loss: 0.6915 - val_accuracy: 0.7095 - val_loss: 0.9089\n",
      "Epoch 11/20\n",
      "\u001b[1m804/804\u001b[0m \u001b[32m━━━━━━━━━━━━━━━━━━━━\u001b[0m\u001b[37m\u001b[0m \u001b[1m322s\u001b[0m 401ms/step - accuracy: 0.8372 - loss: 0.5669 - val_accuracy: 0.8909 - val_loss: 0.3711\n",
      "Epoch 12/20\n",
      "\u001b[1m804/804\u001b[0m \u001b[32m━━━━━━━━━━━━━━━━━━━━\u001b[0m\u001b[37m\u001b[0m \u001b[1m323s\u001b[0m 402ms/step - accuracy: 0.9126 - loss: 0.3071 - val_accuracy: 0.9034 - val_loss: 0.3341\n",
      "Epoch 13/20\n",
      "\u001b[1m804/804\u001b[0m \u001b[32m━━━━━━━━━━━━━━━━━━━━\u001b[0m\u001b[37m\u001b[0m \u001b[1m325s\u001b[0m 404ms/step - accuracy: 0.9199 - loss: 0.2563 - val_accuracy: 0.9102 - val_loss: 0.3056\n",
      "Epoch 14/20\n",
      "\u001b[1m804/804\u001b[0m \u001b[32m━━━━━━━━━━━━━━━━━━━━\u001b[0m\u001b[37m\u001b[0m \u001b[1m342s\u001b[0m 425ms/step - accuracy: 0.9265 - loss: 0.2352 - val_accuracy: 0.9138 - val_loss: 0.3059\n",
      "Epoch 15/20\n",
      "\u001b[1m804/804\u001b[0m \u001b[32m━━━━━━━━━━━━━━━━━━━━\u001b[0m\u001b[37m\u001b[0m \u001b[1m320s\u001b[0m 399ms/step - accuracy: 0.9323 - loss: 0.2224 - val_accuracy: 0.9141 - val_loss: 0.3110\n",
      "Epoch 16/20\n",
      "\u001b[1m804/804\u001b[0m \u001b[32m━━━━━━━━━━━━━━━━━━━━\u001b[0m\u001b[37m\u001b[0m \u001b[1m330s\u001b[0m 411ms/step - accuracy: 0.9354 - loss: 0.1998 - val_accuracy: 0.9171 - val_loss: 0.2875\n",
      "Epoch 17/20\n",
      "\u001b[1m804/804\u001b[0m \u001b[32m━━━━━━━━━━━━━━━━━━━━\u001b[0m\u001b[37m\u001b[0m \u001b[1m327s\u001b[0m 406ms/step - accuracy: 0.9412 - loss: 0.1830 - val_accuracy: 0.9211 - val_loss: 0.2841\n",
      "Epoch 18/20\n",
      "\u001b[1m804/804\u001b[0m \u001b[32m━━━━━━━━━━━━━━━━━━━━\u001b[0m\u001b[37m\u001b[0m \u001b[1m327s\u001b[0m 407ms/step - accuracy: 0.9366 - loss: 0.1891 - val_accuracy: 0.9160 - val_loss: 0.3117\n",
      "Epoch 19/20\n",
      "\u001b[1m804/804\u001b[0m \u001b[32m━━━━━━━━━━━━━━━━━━━━\u001b[0m\u001b[37m\u001b[0m \u001b[1m327s\u001b[0m 407ms/step - accuracy: 0.9437 - loss: 0.1707 - val_accuracy: 0.9172 - val_loss: 0.3141\n",
      "Epoch 20/20\n",
      "\u001b[1m804/804\u001b[0m \u001b[32m━━━━━━━━━━━━━━━━━━━━\u001b[0m\u001b[37m\u001b[0m \u001b[1m328s\u001b[0m 408ms/step - accuracy: 0.9442 - loss: 0.1595 - val_accuracy: 0.9191 - val_loss: 0.3104\n",
      "Test Accuracy: 92.11%\n"
     ]
    }
   ],
   "source": [
    "from tensorflow.keras.models import Sequential\n",
    "from tensorflow.keras.layers import Embedding, LSTM, Dropout, Dense\n",
    "from tensorflow.keras.callbacks import EarlyStopping\n",
    "\n",
    "# Define the model\n",
    "model = Sequential([\n",
    "    Embedding(input_dim=vocab_size, output_dim=128),\n",
    "    LSTM(128, return_sequences=True),\n",
    "    Dropout(0.4),\n",
    "    LSTM(64),\n",
    "    Dense(64, activation='relu'),\n",
    "    Dense(num_classes, activation='softmax')  # Adjust `num_classes` to the number of unique labels\n",
    "])\n",
    "\n",
    "# Compile the model\n",
    "model.compile(optimizer='adam', loss='sparse_categorical_crossentropy', metrics=['accuracy'])\n",
    "\n",
    "# Early stopping callback\n",
    "early_stopping = EarlyStopping(monitor='val_loss', patience=3, restore_best_weights=True)\n",
    "\n",
    "# Train the model\n",
    "history = model.fit(x_train_padded, y_train, epochs=20, batch_size=32, \n",
    "                    validation_data=(x_test_padded, y_test), callbacks=[early_stopping])\n",
    "\n",
    "# Evaluate the model\n",
    "loss, accuracy = model.evaluate(x_test_padded, y_test, verbose=0)\n",
    "print(f\"Test Accuracy: {accuracy * 100:.2f}%\")\n"
   ]
  },
  {
   "cell_type": "code",
   "execution_count": 34,
   "id": "ecbc7813-ce55-45d0-a334-8f61400b640e",
   "metadata": {},
   "outputs": [
    {
     "data": {
      "image/png": "[encoded data removed]",
      "text/plain": [
       "<Figure size 1000x600 with 1 Axes>"
      ]
     },
     "metadata": {},
     "output_type": "display_data"
    }
   ],
   "source": [
    "import matplotlib.pyplot as plt\n",
    "\n",
    "# Plotting Training and Validation Accuracy\n",
    "plt.figure(figsize=(10, 6))\n",
    "plt.plot(history.history['accuracy'], label='Training Accuracy', marker='o')\n",
    "plt.plot(history.history['val_accuracy'], label='Validation Accuracy', marker='o')\n",
    "plt.title('Training and Validation Accuracy')\n",
    "plt.xlabel('Epochs')\n",
    "plt.ylabel('Accuracy')\n",
    "plt.legend()\n",
    "plt.grid(True)\n",
    "plt.show()\n"
   ]
  },
  {
   "cell_type": "code",
   "execution_count": 29,
   "id": "95009dfb-dc44-43d7-895c-315f0024e4aa",
   "metadata": {},
   "outputs": [
    {
     "name": "stdout",
     "output_type": "stream",
     "text": [
      "GRU Model Summary:\n"
     ]
    },
    {
     "data": {
      "text/html": [
       "<pre style=\"white-space:pre;overflow-x:auto;line-height:normal;font-family:Menlo,'DejaVu Sans Mono',consolas,'Courier New',monospace\"><span style=\"font-weight: bold\">Model: \"sequential_1\"</span>\n",
       "</pre>\n"
      ],
      "text/plain": [
       "\u001b[1mModel: \"sequential_1\"\u001b[0m\n"
      ]
     },
     "metadata": {},
     "output_type": "display_data"
    },
    {
     "data": {
      "text/html": [
       "<pre style=\"white-space:pre;overflow-x:auto;line-height:normal;font-family:Menlo,'DejaVu Sans Mono',consolas,'Courier New',monospace\">┏━━━━━━━━━━━━━━━━━━━━━━━━━━━━━━━━━━━━━━┳━━━━━━━━━━━━━━━━━━━━━━━━━━━━━┳━━━━━━━━━━━━━━━━━┓\n",
       "┃<span style=\"font-weight: bold\"> Layer (type)                         </span>┃<span style=\"font-weight: bold\"> Output Shape                </span>┃<span style=\"font-weight: bold\">         Param # </span>┃\n",
       "┡━━━━━━━━━━━━━━━━━━━━━━━━━━━━━━━━━━━━━━╇━━━━━━━━━━━━━━━━━━━━━━━━━━━━━╇━━━━━━━━━━━━━━━━━┩\n",
       "│ embedding_2 (<span style=\"color: #0087ff; text-decoration-color: #0087ff\">Embedding</span>)              │ ?                           │     <span style=\"color: #00af00; text-decoration-color: #00af00\">0</span> (unbuilt) │\n",
       "├──────────────────────────────────────┼─────────────────────────────┼─────────────────┤\n",
       "│ gru_2 (<span style=\"color: #0087ff; text-decoration-color: #0087ff\">GRU</span>)                          │ ?                           │     <span style=\"color: #00af00; text-decoration-color: #00af00\">0</span> (unbuilt) │\n",
       "├──────────────────────────────────────┼─────────────────────────────┼─────────────────┤\n",
       "│ dropout_2 (<span style=\"color: #0087ff; text-decoration-color: #0087ff\">Dropout</span>)                  │ ?                           │               <span style=\"color: #00af00; text-decoration-color: #00af00\">0</span> │\n",
       "├──────────────────────────────────────┼─────────────────────────────┼─────────────────┤\n",
       "│ gru_3 (<span style=\"color: #0087ff; text-decoration-color: #0087ff\">GRU</span>)                          │ ?                           │     <span style=\"color: #00af00; text-decoration-color: #00af00\">0</span> (unbuilt) │\n",
       "├──────────────────────────────────────┼─────────────────────────────┼─────────────────┤\n",
       "│ dense_2 (<span style=\"color: #0087ff; text-decoration-color: #0087ff\">Dense</span>)                      │ ?                           │     <span style=\"color: #00af00; text-decoration-color: #00af00\">0</span> (unbuilt) │\n",
       "├──────────────────────────────────────┼─────────────────────────────┼─────────────────┤\n",
       "│ dense_3 (<span style=\"color: #0087ff; text-decoration-color: #0087ff\">Dense</span>)                      │ ?                           │     <span style=\"color: #00af00; text-decoration-color: #00af00\">0</span> (unbuilt) │\n",
       "└──────────────────────────────────────┴─────────────────────────────┴─────────────────┘\n",
       "</pre>\n"
      ],
      "text/plain": [
       "┏━━━━━━━━━━━━━━━━━━━━━━━━━━━━━━━━━━━━━━┳━━━━━━━━━━━━━━━━━━━━━━━━━━━━━┳━━━━━━━━━━━━━━━━━┓\n",
       "┃\u001b[1m \u001b[0m\u001b[1mLayer (type)                        \u001b[0m\u001b[1m \u001b[0m┃\u001b[1m \u001b[0m\u001b[1mOutput Shape               \u001b[0m\u001b[1m \u001b[0m┃\u001b[1m \u001b[0m\u001b[1m        Param #\u001b[0m\u001b[1m \u001b[0m┃\n",
       "┡━━━━━━━━━━━━━━━━━━━━━━━━━━━━━━━━━━━━━━╇━━━━━━━━━━━━━━━━━━━━━━━━━━━━━╇━━━━━━━━━━━━━━━━━┩\n",
       "│ embedding_2 (\u001b[38;5;33mEmbedding\u001b[0m)              │ ?                           │     \u001b[38;5;34m0\u001b[0m (unbuilt) │\n",
       "├──────────────────────────────────────┼─────────────────────────────┼─────────────────┤\n",
       "│ gru_2 (\u001b[38;5;33mGRU\u001b[0m)                          │ ?                           │     \u001b[38;5;34m0\u001b[0m (unbuilt) │\n",
       "├──────────────────────────────────────┼─────────────────────────────┼─────────────────┤\n",
       "│ dropout_2 (\u001b[38;5;33mDropout\u001b[0m)                  │ ?                           │               \u001b[38;5;34m0\u001b[0m │\n",
       "├──────────────────────────────────────┼─────────────────────────────┼─────────────────┤\n",
       "│ gru_3 (\u001b[38;5;33mGRU\u001b[0m)                          │ ?                           │     \u001b[38;5;34m0\u001b[0m (unbuilt) │\n",
       "├──────────────────────────────────────┼─────────────────────────────┼─────────────────┤\n",
       "│ dense_2 (\u001b[38;5;33mDense\u001b[0m)                      │ ?                           │     \u001b[38;5;34m0\u001b[0m (unbuilt) │\n",
       "├──────────────────────────────────────┼─────────────────────────────┼─────────────────┤\n",
       "│ dense_3 (\u001b[38;5;33mDense\u001b[0m)                      │ ?                           │     \u001b[38;5;34m0\u001b[0m (unbuilt) │\n",
       "└──────────────────────────────────────┴─────────────────────────────┴─────────────────┘\n"
      ]
     },
     "metadata": {},
     "output_type": "display_data"
    },
    {
     "data": {
      "text/html": [
       "<pre style=\"white-space:pre;overflow-x:auto;line-height:normal;font-family:Menlo,'DejaVu Sans Mono',consolas,'Courier New',monospace\"><span style=\"font-weight: bold\"> Total params: </span><span style=\"color: #00af00; text-decoration-color: #00af00\">0</span> (0.00 B)\n",
       "</pre>\n"
      ],
      "text/plain": [
       "\u001b[1m Total params: \u001b[0m\u001b[38;5;34m0\u001b[0m (0.00 B)\n"
      ]
     },
     "metadata": {},
     "output_type": "display_data"
    },
    {
     "data": {
      "text/html": [
       "<pre style=\"white-space:pre;overflow-x:auto;line-height:normal;font-family:Menlo,'DejaVu Sans Mono',consolas,'Courier New',monospace\"><span style=\"font-weight: bold\"> Trainable params: </span><span style=\"color: #00af00; text-decoration-color: #00af00\">0</span> (0.00 B)\n",
       "</pre>\n"
      ],
      "text/plain": [
       "\u001b[1m Trainable params: \u001b[0m\u001b[38;5;34m0\u001b[0m (0.00 B)\n"
      ]
     },
     "metadata": {},
     "output_type": "display_data"
    },
    {
     "data": {
      "text/html": [
       "<pre style=\"white-space:pre;overflow-x:auto;line-height:normal;font-family:Menlo,'DejaVu Sans Mono',consolas,'Courier New',monospace\"><span style=\"font-weight: bold\"> Non-trainable params: </span><span style=\"color: #00af00; text-decoration-color: #00af00\">0</span> (0.00 B)\n",
       "</pre>\n"
      ],
      "text/plain": [
       "\u001b[1m Non-trainable params: \u001b[0m\u001b[38;5;34m0\u001b[0m (0.00 B)\n"
      ]
     },
     "metadata": {},
     "output_type": "display_data"
    },
    {
     "name": "stdout",
     "output_type": "stream",
     "text": [
      "\n",
      "Starting GRU model training...\n",
      "\n",
      "Epoch 1/10\n",
      "\u001b[1m804/804\u001b[0m \u001b[32m━━━━━━━━━━━━━━━━━━━━\u001b[0m\u001b[37m\u001b[0m \u001b[1m224s\u001b[0m 267ms/step - accuracy: 0.1262 - loss: 3.0298 - val_accuracy: 0.5269 - val_loss: 1.4750\n",
      "Epoch 2/10\n",
      "\u001b[1m804/804\u001b[0m \u001b[32m━━━━━━━━━━━━━━━━━━━━\u001b[0m\u001b[37m\u001b[0m \u001b[1m214s\u001b[0m 266ms/step - accuracy: 0.6139 - loss: 1.2261 - val_accuracy: 0.8540 - val_loss: 0.5317\n",
      "Epoch 3/10\n",
      "\u001b[1m804/804\u001b[0m \u001b[32m━━━━━━━━━━━━━━━━━━━━\u001b[0m\u001b[37m\u001b[0m \u001b[1m210s\u001b[0m 262ms/step - accuracy: 0.8657 - loss: 0.4849 - val_accuracy: 0.8970 - val_loss: 0.3848\n",
      "Epoch 4/10\n",
      "\u001b[1m804/804\u001b[0m \u001b[32m━━━━━━━━━━━━━━━━━━━━\u001b[0m\u001b[37m\u001b[0m \u001b[1m205s\u001b[0m 255ms/step - accuracy: 0.9168 - loss: 0.2966 - val_accuracy: 0.9048 - val_loss: 0.3411\n",
      "Epoch 5/10\n",
      "\u001b[1m804/804\u001b[0m \u001b[32m━━━━━━━━━━━━━━━━━━━━\u001b[0m\u001b[37m\u001b[0m \u001b[1m246s\u001b[0m 306ms/step - accuracy: 0.9275 - loss: 0.2373 - val_accuracy: 0.9080 - val_loss: 0.3325\n",
      "Epoch 6/10\n",
      "\u001b[1m804/804\u001b[0m \u001b[32m━━━━━━━━━━━━━━━━━━━━\u001b[0m\u001b[37m\u001b[0m \u001b[1m214s\u001b[0m 266ms/step - accuracy: 0.9342 - loss: 0.2111 - val_accuracy: 0.9097 - val_loss: 0.3261\n",
      "Epoch 7/10\n",
      "\u001b[1m804/804\u001b[0m \u001b[32m━━━━━━━━━━━━━━━━━━━━\u001b[0m\u001b[37m\u001b[0m \u001b[1m213s\u001b[0m 265ms/step - accuracy: 0.9376 - loss: 0.1843 - val_accuracy: 0.9102 - val_loss: 0.3380\n",
      "Epoch 8/10\n",
      "\u001b[1m804/804\u001b[0m \u001b[32m━━━━━━━━━━━━━━━━━━━━\u001b[0m\u001b[37m\u001b[0m \u001b[1m214s\u001b[0m 266ms/step - accuracy: 0.9412 - loss: 0.1756 - val_accuracy: 0.9132 - val_loss: 0.3364\n",
      "Epoch 9/10\n",
      "\u001b[1m804/804\u001b[0m \u001b[32m━━━━━━━━━━━━━━━━━━━━\u001b[0m\u001b[37m\u001b[0m \u001b[1m213s\u001b[0m 265ms/step - accuracy: 0.9449 - loss: 0.1633 - val_accuracy: 0.9143 - val_loss: 0.3433\n",
      "GRU Test Accuracy: 90.97%\n"
     ]
    },
    {
     "data": {
      "image/png": "[encoded data removed]",
      "text/plain": [
       "<Figure size 1000x600 with 1 Axes>"
      ]
     },
     "metadata": {},
     "output_type": "display_data"
    },
    {
     "name": "stdout",
     "output_type": "stream",
     "text": [
      "GRU Test Accuracy: 90.97%\n"
     ]
    }
   ],
   "source": [
    "from tensorflow.keras.models import Sequential\n",
    "from tensorflow.keras.layers import Embedding, GRU, Dense, Dropout\n",
    "\n",
    "# Define the GRU model\n",
    "gru_model = Sequential([\n",
    "    # Embedding layer\n",
    "    Embedding(input_dim=vocab_size, output_dim=64),\n",
    "\n",
    "    # GRU layers\n",
    "    GRU(128, return_sequences=True),\n",
    "    Dropout(0.3),\n",
    "    GRU(64),\n",
    "\n",
    "    # Dense layers\n",
    "    Dense(32, activation='relu'),\n",
    "    Dense(num_classes, activation='softmax')  # Output layer for multi-class classification\n",
    "])\n",
    "\n",
    "# Compile the GRU model\n",
    "gru_model.compile(optimizer='adam', loss='sparse_categorical_crossentropy', metrics=['accuracy'])\n",
    "\n",
    "# Print the GRU model summary\n",
    "print(\"GRU Model Summary:\")\n",
    "gru_model.summary()\n",
    "\n",
    "# Train the GRU model\n",
    "from tensorflow.keras.callbacks import EarlyStopping\n",
    "\n",
    "early_stopping = EarlyStopping(monitor='val_loss', patience=3, restore_best_weights=True)\n",
    "print(\"\\nStarting GRU model training...\\n\")\n",
    "gru_history = gru_model.fit(\n",
    "    x_train_padded, \n",
    "    y_train, \n",
    "    epochs=10, \n",
    "    batch_size=32, \n",
    "    validation_data=(x_test_padded, y_test), \n",
    "    callbacks=[early_stopping]\n",
    ")\n",
    "\n",
    "# Evaluate the GRU model\n",
    "loss, gru_accuracy = gru_model.evaluate(x_test_padded, y_test, verbose=0)\n",
    "print(f\"GRU Test Accuracy: {gru_accuracy * 100:.2f}%\")\n",
    "\n",
    "# Plot Training and Validation Accuracy for GRU\n",
    "plt.figure(figsize=(10, 6))\n",
    "plt.plot(gru_history.history['accuracy'], label='GRU Training Accuracy', marker='o')\n",
    "plt.plot(gru_history.history['val_accuracy'], label='GRU Validation Accuracy', marker='o')\n",
    "plt.title('GRU Training and Validation Accuracy')\n",
    "plt.xlabel('Epochs')\n",
    "plt.ylabel('Accuracy')\n",
    "plt.legend()\n",
    "plt.grid(True)\n",
    "plt.show()\n",
    "\n",
    "print(f\"GRU Test Accuracy: {gru_accuracy * 100:.2f}%\")\n"
   ]
  },
  {
   "cell_type": "code",
   "execution_count": null,
   "id": "b8868b44-cdf0-47ff-baca-bf6f9b083fb2",
   "metadata": {},
   "outputs": [],
   "source": []
  }
 ],
 "metadata": {
  "kernelspec": {
   "display_name": "Python 3 (ipykernel)",
   "language": "python",
   "name": "python3"
  },
  "language_info": {
   "codemirror_mode": {
    "name": "ipython",
    "version": 3
   },
   "file_extension": ".py",
   "mimetype": "text/x-python",
   "name": "python",
   "nbconvert_exporter": "python",
   "pygments_lexer": "ipython3",
   "version": "3.12.7"
  }
 },
 "nbformat": 4,
 "nbformat_minor": 5
}
