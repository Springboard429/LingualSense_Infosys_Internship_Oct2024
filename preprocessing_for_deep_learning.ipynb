{
  "cells": [
    {
      "cell_type": "code",
      "execution_count": 37,
      "id": "e0a8326c-29d5-45ac-ac16-72b537662d45",
      "metadata": {
        "id": "e0a8326c-29d5-45ac-ac16-72b537662d45"
      },
      "outputs": [],
      "source": [
        "import pandas as pd\n",
        "import numpy as np\n",
        "import re\n",
        "from sklearn.preprocessing import LabelEncoder\n",
        "from sklearn.model_selection import train_test_split\n",
        "import tensorflow as tf\n",
        "from tensorflow.keras.models import Sequential\n",
        "from tensorflow.keras.layers import Dense,Input,GRU,Embedding,Dropout,LSTM\n",
        "from tensorflow.keras.preprocessing.text import Tokenizer\n",
        "from tensorflow.keras.preprocessing.sequence import pad_sequences\n",
        "from tensorflow.keras.callbacks import EarlyStopping\n",
        "from tensorflow.keras.regularizers import l2\n",
        "from tensorflow.keras.optimizers import Adam,RMSprop,Nadam"
      ]
    },
    {
      "cell_type": "code",
      "execution_count": 38,
      "id": "b34ad3c3-4030-4977-bfe0-ae82a610301d",
      "metadata": {
        "id": "b34ad3c3-4030-4977-bfe0-ae82a610301d"
      },
      "outputs": [],
      "source": [
        "# Load the dataset\n",
        "df = pd.read_csv('merged_dataset.csv')"
      ]
    },
    {
      "cell_type": "code",
      "execution_count": 39,
      "id": "21159e36-db76-4bef-b62f-405c0437e8f7",
      "metadata": {
        "colab": {
          "base_uri": "https://localhost:8080/"
        },
        "id": "21159e36-db76-4bef-b62f-405c0437e8f7",
        "outputId": "81791395-2744-4497-dd62-6b70982d0597"
      },
      "outputs": [
        {
          "output_type": "stream",
          "name": "stdout",
          "text": [
            "                                                Text  Language\n",
            "0  klement gottwaldi surnukeha palsameeriti ning ...  Estonian\n",
            "1  sebes joseph pereira thomas  på eng the jesuit...   Swedish\n",
            "2  ถนนเจริญกรุง อักษรโรมัน thanon charoen krung เ...      Thai\n",
            "3  விசாகப்பட்டினம் தமிழ்ச்சங்கத்தை இந்துப் பத்திர...     Tamil\n",
            "4  de spons behoort tot het geslacht haliclona en...     Dutch\n"
          ]
        }
      ],
      "source": [
        "# first few rows\n",
        "print(df.head())\n"
      ]
    },
    {
      "cell_type": "code",
      "execution_count": 40,
      "id": "30ccc9f2-4e35-469d-abe4-122d2792b776",
      "metadata": {
        "colab": {
          "base_uri": "https://localhost:8080/"
        },
        "id": "30ccc9f2-4e35-469d-abe4-122d2792b776",
        "outputId": "266a569a-803a-4a0e-c5b9-bddd62fbc62a"
      },
      "outputs": [
        {
          "output_type": "stream",
          "name": "stdout",
          "text": [
            "<class 'pandas.core.frame.DataFrame'>\n",
            "RangeIndex: 32337 entries, 0 to 32336\n",
            "Data columns (total 2 columns):\n",
            " #   Column    Non-Null Count  Dtype \n",
            "---  ------    --------------  ----- \n",
            " 0   Text      32337 non-null  object\n",
            " 1   Language  32337 non-null  object\n",
            "dtypes: object(2)\n",
            "memory usage: 505.4+ KB\n",
            "None\n"
          ]
        }
      ],
      "source": [
        "# Get basic information about the dataset\n",
        "print(df.info())"
      ]
    },
    {
      "cell_type": "code",
      "execution_count": 41,
      "id": "cf07c6be-ab8f-4cc4-af08-03a58b53f9a7",
      "metadata": {
        "colab": {
          "base_uri": "https://localhost:8080/"
        },
        "id": "cf07c6be-ab8f-4cc4-af08-03a58b53f9a7",
        "outputId": "79f10bfc-a61e-49b4-f849-e62e1b8edb98"
      },
      "outputs": [
        {
          "output_type": "stream",
          "name": "stdout",
          "text": [
            "                                                     Text Language\n",
            "count                                               32337    32337\n",
            "unique                                              32126       30\n",
            "top     haec commentatio automatice praeparata res ast...  English\n",
            "freq                                                   48     2385\n"
          ]
        }
      ],
      "source": [
        "# Summary statistics\n",
        "print(df.describe())"
      ]
    },
    {
      "cell_type": "code",
      "execution_count": 42,
      "id": "283a6365-fc2d-42e0-bd0c-551ab0c3c9c0",
      "metadata": {
        "colab": {
          "base_uri": "https://localhost:8080/"
        },
        "id": "283a6365-fc2d-42e0-bd0c-551ab0c3c9c0",
        "outputId": "975c91a5-df04-417d-ecbb-df48979640ec"
      },
      "outputs": [
        {
          "output_type": "stream",
          "name": "stdout",
          "text": [
            "Text        0\n",
            "Language    0\n",
            "dtype: int64\n"
          ]
        }
      ],
      "source": [
        "# Check for missing values\n",
        "print(df.isnull().sum())"
      ]
    },
    {
      "cell_type": "code",
      "execution_count": 43,
      "id": "a64838b1-edb1-41be-9852-abc4a672d24c",
      "metadata": {
        "colab": {
          "base_uri": "https://localhost:8080/"
        },
        "id": "a64838b1-edb1-41be-9852-abc4a672d24c",
        "outputId": "3790ebe5-60d6-4dbd-e5c0-ed54c4a7464e"
      },
      "outputs": [
        {
          "output_type": "stream",
          "name": "stdout",
          "text": [
            "(32337, 2)\n"
          ]
        }
      ],
      "source": [
        "# check shape\n",
        "print(df.shape)"
      ]
    },
    {
      "cell_type": "code",
      "execution_count": 44,
      "id": "2211a565-1302-4375-9523-66f296957556",
      "metadata": {
        "colab": {
          "base_uri": "https://localhost:8080/"
        },
        "id": "2211a565-1302-4375-9523-66f296957556",
        "outputId": "93d8f02c-b222-4f7a-b407-d03042072700"
      },
      "outputs": [
        {
          "output_type": "stream",
          "name": "stdout",
          "text": [
            "Language\n",
            "English       2385\n",
            "French        2014\n",
            "Spanish       1819\n",
            "Russian       1692\n",
            "Dutch         1546\n",
            "Arabic        1536\n",
            "Turkish       1474\n",
            "Tamil         1469\n",
            "Hindi         1063\n",
            "Urdu          1000\n",
            "Japanese      1000\n",
            "Thai          1000\n",
            "Swedish       1000\n",
            "Estonian      1000\n",
            "Korean        1000\n",
            "Chinese       1000\n",
            "Portugese     1000\n",
            "Indonesian    1000\n",
            "Latin         1000\n",
            "Pushto        1000\n",
            "Persian       1000\n",
            "Romanian      1000\n",
            "Portugeese     739\n",
            "Italian        698\n",
            "Sweedish       676\n",
            "Malayalam      594\n",
            "German         470\n",
            "Danish         428\n",
            "Kannada        369\n",
            "Greek          365\n",
            "Name: count, dtype: int64\n"
          ]
        }
      ],
      "source": [
        "# distribution of each language on datasets\n",
        "print(df['Language'].value_counts())\n"
      ]
    },
    {
      "cell_type": "code",
      "execution_count": 45,
      "id": "488c27fc-f3c9-47a3-9f0f-e5829812f901",
      "metadata": {
        "colab": {
          "base_uri": "https://localhost:8080/"
        },
        "id": "488c27fc-f3c9-47a3-9f0f-e5829812f901",
        "outputId": "64c1c5cc-11e2-4d8c-989c-2ff785bd222e"
      },
      "outputs": [
        {
          "output_type": "stream",
          "name": "stdout",
          "text": [
            "1467     in august  gordon gano was the subject of a la...\n",
            "23268                                            go ahead.\n",
            "20806    in bold contrast to the limitations of the ani...\n",
            "3580     in court hearst made a poor impression and app...\n",
            "22257    It is one of the 15 most popular websites as r...\n",
            "Name: Text, dtype: object\n"
          ]
        }
      ],
      "source": [
        "# View a few random samples for specific languages:\n",
        "language_sample = df[df['Language'] == 'English'].sample(5)\n",
        "print(language_sample['Text'])\n"
      ]
    },
    {
      "cell_type": "markdown",
      "id": "d07bedd0-5bde-4a1f-ae46-09e64c9f510a",
      "metadata": {
        "id": "d07bedd0-5bde-4a1f-ae46-09e64c9f510a"
      },
      "source": [
        "# Text Cleaning"
      ]
    },
    {
      "cell_type": "code",
      "execution_count": 46,
      "id": "9909b0ed-8d0b-40f7-807d-d7a6927b8d8c",
      "metadata": {
        "id": "9909b0ed-8d0b-40f7-807d-d7a6927b8d8c"
      },
      "outputs": [],
      "source": [
        "import re\n",
        "\n",
        "def clean_text(text):\n",
        "    # Remove text in brackets\n",
        "    text = re.sub(r'\\[.*?\\]', '', text)\n",
        "    return text.strip()\n",
        "\n",
        "# Apply to the entire dataset\n",
        "df['Cleaned_Text'] = df['Text'].apply(clean_text)\n"
      ]
    },
    {
      "cell_type": "code",
      "execution_count": 47,
      "id": "ab57c934-51f2-480d-92be-7d660471bc91",
      "metadata": {
        "id": "ab57c934-51f2-480d-92be-7d660471bc91"
      },
      "outputs": [],
      "source": [
        "# Lowercasing: Normalize text by converting it to lowercase\n",
        "df['Cleaned_Text'] = df['Cleaned_Text'].str.lower()\n"
      ]
    },
    {
      "cell_type": "code",
      "execution_count": 48,
      "id": "27bf8089-6d32-41d4-899e-34316a616074",
      "metadata": {
        "colab": {
          "base_uri": "https://localhost:8080/"
        },
        "id": "27bf8089-6d32-41d4-899e-34316a616074",
        "outputId": "113c8d56-4fa9-4a4b-c8c9-f611ca4637e0"
      },
      "outputs": [
        {
          "output_type": "stream",
          "name": "stdout",
          "text": [
            "                                                Text  \\\n",
            "0  klement gottwaldi surnukeha palsameeriti ning ...   \n",
            "1  sebes joseph pereira thomas  på eng the jesuit...   \n",
            "2  ถนนเจริญกรุง อักษรโรมัน thanon charoen krung เ...   \n",
            "3  விசாகப்பட்டினம் தமிழ்ச்சங்கத்தை இந்துப் பத்திர...   \n",
            "4  de spons behoort tot het geslacht haliclona en...   \n",
            "\n",
            "                                        Cleaned_Text  \n",
            "0  klement gottwaldi surnukeha palsameeriti ning ...  \n",
            "1  sebes joseph pereira thomas  på eng the jesuit...  \n",
            "2  ถนนเจริญกรุง อักษรโรมัน thanon charoen krung เ...  \n",
            "3  விசாகப்பட்டினம் தமிழ்ச்சங்கத்தை இந்துப் பத்திர...  \n",
            "4  de spons behoort tot het geslacht haliclona en...  \n"
          ]
        }
      ],
      "source": [
        "# Verify Cleaning: Check a few rows to ensure the cleaning worked as expected:\n",
        "print(df[['Text', 'Cleaned_Text']].head())\n"
      ]
    },
    {
      "cell_type": "code",
      "execution_count": 49,
      "id": "7f2aa437-7758-4d5f-ba33-23d36cac3ea5",
      "metadata": {
        "colab": {
          "base_uri": "https://localhost:8080/"
        },
        "id": "7f2aa437-7758-4d5f-ba33-23d36cac3ea5",
        "outputId": "215a3fa9-944a-485b-d516-aaa51eb9d414"
      },
      "outputs": [
        {
          "output_type": "stream",
          "name": "stdout",
          "text": [
            "                                                    Text  \\\n",
            "11865  سازمان ملل همه ساله اقدام به انتشار شاخص توسعه...   \n",
            "21140  dizinin geçtiği zamandan beş yıl önce devasa b...   \n",
            "16459  ovanför sakristian finns ett rum med öppen spi...   \n",
            "11839  ธีรภัทร์ สุวรรณดี เริ่มเข้าสู่วงการบันเทิง จาก...   \n",
            "20261  environ  appartements ont été supprimés afin d...   \n",
            "15938  ولكن احداثيات خط الطول للمدينة المنورة هذا يتف...   \n",
            "24082  [34] விக்கிப்பீடியா ஆரம்பித்து சில மாதங்களில்,...   \n",
            "22625  Some language editions, such as the English Wi...   \n",
            "28138  Она основана и на принципе, согласно которому ...   \n",
            "1335    में अमेरिका में पीईटी pet की कीमतें  डॉलरटन स...   \n",
            "\n",
            "                                            Cleaned_Text  \n",
            "11865  سازمان ملل همه ساله اقدام به انتشار شاخص توسعه...  \n",
            "21140  dizinin geçtiği zamandan beş yıl önce devasa b...  \n",
            "16459  ovanför sakristian finns ett rum med öppen spi...  \n",
            "11839  ธีรภัทร์ สุวรรณดี เริ่มเข้าสู่วงการบันเทิง จาก...  \n",
            "20261  environ  appartements ont été supprimés afin d...  \n",
            "15938  ولكن احداثيات خط الطول للمدينة المنورة هذا يتف...  \n",
            "24082  விக்கிப்பீடியா ஆரம்பித்து சில மாதங்களில், 'நடு...  \n",
            "22625  some language editions, such as the english wi...  \n",
            "28138  она основана и на принципе, согласно которому ...  \n",
            "1335   में अमेरिका में पीईटी pet की कीमतें  डॉलरटन से...  \n"
          ]
        }
      ],
      "source": [
        "# Inspect cleaned rows again\n",
        "print(df[['Text', 'Cleaned_Text']].sample(10))\n"
      ]
    },
    {
      "cell_type": "code",
      "execution_count": 50,
      "id": "6908ee07-ee77-4de8-a4bf-e02df28d5a71",
      "metadata": {
        "colab": {
          "base_uri": "https://localhost:8080/"
        },
        "id": "6908ee07-ee77-4de8-a4bf-e02df28d5a71",
        "outputId": "d5208354-31f0-4242-fdb1-9dcc34a1b419"
      },
      "outputs": [
        {
          "output_type": "stream",
          "name": "stdout",
          "text": [
            "0\n"
          ]
        }
      ],
      "source": [
        "# Check for null values\n",
        "print(df['Cleaned_Text'].isnull().sum())  # Check for null values\n"
      ]
    },
    {
      "cell_type": "code",
      "execution_count": 51,
      "id": "364b3573-4e8f-42b7-bd36-a64af3727a31",
      "metadata": {
        "colab": {
          "base_uri": "https://localhost:8080/"
        },
        "id": "364b3573-4e8f-42b7-bd36-a64af3727a31",
        "outputId": "3a9b863a-09cf-4a8f-8cd9-542529737b96"
      },
      "outputs": [
        {
          "output_type": "stream",
          "name": "stdout",
          "text": [
            "                                                    Text  \\\n",
            "30595  Författarna visar att dessa användare går att ...   \n",
            "12434  in  scottish actor gerard butler was close to ...   \n",
            "16904  카그라스 증후군이라는 이름은 이 증상을 년 르블-라쇼reboul-lachaux와의 ...   \n",
            "29256  Le varie edizioni di Wikipedia, facenti capo a...   \n",
            "26449  heel zacht zo slim woord nummer vier is afschu...   \n",
            "9012   linnaosavalitsus täidab oma haldusterritoorium...   \n",
            "31030  نظرًا لتزايد شعبية ويكيبيديا، أدخلت بعض الإصدا...   \n",
            "9294   発祥は高級懐中時計で、文字盤や裏蓋の一部ないし大部分を切り取ってガラスを嵌めるなどし、精密な...   \n",
            "9259   in spring  stick figure embarked on their firs...   \n",
            "15298  dublin on üle maailma tuntud kirjanduslinnana ...   \n",
            "\n",
            "                                            Cleaned_Text  \n",
            "30595  författarna visar att dessa användare går att ...  \n",
            "12434  in  scottish actor gerard butler was close to ...  \n",
            "16904  카그라스 증후군이라는 이름은 이 증상을 년 르블-라쇼reboul-lachaux와의 ...  \n",
            "29256  le varie edizioni di wikipedia, facenti capo a...  \n",
            "26449  heel zacht zo slim woord nummer vier is afschu...  \n",
            "9012   linnaosavalitsus täidab oma haldusterritoorium...  \n",
            "31030  نظرًا لتزايد شعبية ويكيبيديا، أدخلت بعض الإصدا...  \n",
            "9294   発祥は高級懐中時計で、文字盤や裏蓋の一部ないし大部分を切り取ってガラスを嵌めるなどし、精密な...  \n",
            "9259   in spring  stick figure embarked on their firs...  \n",
            "15298  dublin on üle maailma tuntud kirjanduslinnana ...  \n"
          ]
        }
      ],
      "source": [
        "# Inspect a random sample:\n",
        "print(df[['Text', 'Cleaned_Text']].sample(10))\n"
      ]
    },
    {
      "cell_type": "code",
      "execution_count": 52,
      "id": "9eec5d0f-9ae8-4991-8845-91693f24cac7",
      "metadata": {
        "colab": {
          "base_uri": "https://localhost:8080/"
        },
        "id": "9eec5d0f-9ae8-4991-8845-91693f24cac7",
        "outputId": "0677f3c4-f644-432d-bd31-26ae02e84863"
      },
      "outputs": [
        {
          "output_type": "stream",
          "name": "stdout",
          "text": [
            "                                                    Text  Language  \\\n",
            "18747  前面提到，隨著分子生物學的進展，dna黏合酶對於研究人員的貢獻也越來越顯得重要，尤其是在進行...   Chinese   \n",
            "28099  Хотя некоторые участники сильны в своей област...   Russian   \n",
            "1090   ذوالقعدہکو آپ خالق حقیقی سے جا ملے اس طرح کم و...      Urdu   \n",
            "20966  그러나 불타는 군단의 아키몬드가 칼림도어로 침공하자 급히 맬퓨리언을 동면에서 깨워 ...    Korean   \n",
            "8209   基本的には支払手段としての貨幣機能から生じたもので、「貨幣支払約束書」としての性格を有する。...  Japanese   \n",
            "23305                                i'm afraid i can't.   English   \n",
            "156    obreption and subreption both from the latin w...   English   \n",
            "30272  ama yenmez olan her şey için kalbi kırıldı, ya...   Turkish   \n",
            "16959  در دوران اشکانیان سرزمین کرمانشاه به دو ایالت ...   Persian   \n",
            "14104  panmunjom är en övergiven by i norra hwanghae-...   Swedish   \n",
            "\n",
            "                                            Cleaned_Text  \n",
            "18747  前面提到，隨著分子生物學的進展，dna黏合酶對於研究人員的貢獻也越來越顯得重要，尤其是在進行...  \n",
            "28099  хотя некоторые участники сильны в своей област...  \n",
            "1090   ذوالقعدہکو آپ خالق حقیقی سے جا ملے اس طرح کم و...  \n",
            "20966  그러나 불타는 군단의 아키몬드가 칼림도어로 침공하자 급히 맬퓨리언을 동면에서 깨워 ...  \n",
            "8209   基本的には支払手段としての貨幣機能から生じたもので、「貨幣支払約束書」としての性格を有する。...  \n",
            "23305                                i'm afraid i can't.  \n",
            "156    obreption and subreption both from the latin w...  \n",
            "30272  ama yenmez olan her şey için kalbi kırıldı, ya...  \n",
            "16959  در دوران اشکانیان سرزمین کرمانشاه به دو ایالت ...  \n",
            "14104  panmunjom är en övergiven by i norra hwanghae-...  \n"
          ]
        }
      ],
      "source": [
        "# Check the cleaned data\n",
        "print(df[['Text', 'Language', 'Cleaned_Text']].sample(10))"
      ]
    },
    {
      "cell_type": "code",
      "execution_count": 53,
      "id": "ba2a5eb7-6150-4a80-9d08-e9befb0d660a",
      "metadata": {
        "colab": {
          "base_uri": "https://localhost:8080/",
          "height": 1000
        },
        "id": "ba2a5eb7-6150-4a80-9d08-e9befb0d660a",
        "outputId": "ef00493f-3cc0-4a16-da40-077bcd194483"
      },
      "outputs": [
        {
          "output_type": "stream",
          "name": "stdout",
          "text": [
            "Language\n",
            "English       2385\n",
            "French        2014\n",
            "Spanish       1819\n",
            "Russian       1692\n",
            "Dutch         1546\n",
            "Arabic        1536\n",
            "Turkish       1474\n",
            "Tamil         1469\n",
            "Hindi         1063\n",
            "Urdu          1000\n",
            "Japanese      1000\n",
            "Thai          1000\n",
            "Swedish       1000\n",
            "Estonian      1000\n",
            "Korean        1000\n",
            "Chinese       1000\n",
            "Portugese     1000\n",
            "Indonesian    1000\n",
            "Latin         1000\n",
            "Pushto        1000\n",
            "Persian       1000\n",
            "Romanian      1000\n",
            "Portugeese     739\n",
            "Italian        698\n",
            "Sweedish       676\n",
            "Malayalam      594\n",
            "German         470\n",
            "Danish         428\n",
            "Kannada        369\n",
            "Greek          365\n",
            "Name: count, dtype: int64\n"
          ]
        },
        {
          "output_type": "execute_result",
          "data": {
            "text/plain": [
              "<Axes: title={'center': 'Language Distribution'}, xlabel='Language'>"
            ]
          },
          "metadata": {},
          "execution_count": 53
        },
        {
          "output_type": "display_data",
          "data": {
            "text/plain": [
              "<Figure size 1000x600 with 1 Axes>"
            ],
            "image/png": "[encoded data removed]"
          },
          "metadata": {}
        }
      ],
      "source": [
        "# Examine the Data:\n",
        "language_count = df['Language'].value_counts()\n",
        "print(language_count)\n",
        "language_count.plot(kind='bar', figsize=(10, 6), title='Language Distribution')\n"
      ]
    },
    {
      "cell_type": "code",
      "source": [
        "# Plot bar graph for language distribution percentages\n",
        "plt.figure(figsize=(12, 8))\n",
        "plt.barh(languages, percentages, color='skyblue')\n",
        "plt.xlabel(\"Percentage (%)\")\n",
        "plt.ylabel(\"Languages\")\n",
        "plt.title(\"Language Distribution in Dataset (%)\")\n",
        "plt.grid(axis='x', linestyle='--', alpha=0.7)\n",
        "plt.tight_layout()\n",
        "plt.show()\n"
      ],
      "metadata": {
        "colab": {
          "base_uri": "https://localhost:8080/",
          "height": 228
        },
        "id": "sgNmrITprF8G",
        "outputId": "b004c483-27ae-425f-a6d9-89e4dec1957d"
      },
      "id": "sgNmrITprF8G",
      "execution_count": 65,
      "outputs": [
        {
          "output_type": "error",
          "ename": "NameError",
          "evalue": "name 'languages' is not defined",
          "traceback": [
            "\u001b[0;31m---------------------------------------------------------------------------\u001b[0m",
            "\u001b[0;31mNameError\u001b[0m                                 Traceback (most recent call last)",
            "\u001b[0;32m<ipython-input-65-2303f1aaba60>\u001b[0m in \u001b[0;36m<cell line: 3>\u001b[0;34m()\u001b[0m\n\u001b[1;32m      1\u001b[0m \u001b[0;31m# Plot bar graph for language distribution percentages\u001b[0m\u001b[0;34m\u001b[0m\u001b[0;34m\u001b[0m\u001b[0m\n\u001b[1;32m      2\u001b[0m \u001b[0mplt\u001b[0m\u001b[0;34m.\u001b[0m\u001b[0mfigure\u001b[0m\u001b[0;34m(\u001b[0m\u001b[0mfigsize\u001b[0m\u001b[0;34m=\u001b[0m\u001b[0;34m(\u001b[0m\u001b[0;36m12\u001b[0m\u001b[0;34m,\u001b[0m \u001b[0;36m8\u001b[0m\u001b[0;34m)\u001b[0m\u001b[0;34m)\u001b[0m\u001b[0;34m\u001b[0m\u001b[0;34m\u001b[0m\u001b[0m\n\u001b[0;32m----> 3\u001b[0;31m \u001b[0mplt\u001b[0m\u001b[0;34m.\u001b[0m\u001b[0mbarh\u001b[0m\u001b[0;34m(\u001b[0m\u001b[0mlanguages\u001b[0m\u001b[0;34m,\u001b[0m \u001b[0mpercentages\u001b[0m\u001b[0;34m,\u001b[0m \u001b[0mcolor\u001b[0m\u001b[0;34m=\u001b[0m\u001b[0;34m'skyblue'\u001b[0m\u001b[0;34m)\u001b[0m\u001b[0;34m\u001b[0m\u001b[0;34m\u001b[0m\u001b[0m\n\u001b[0m\u001b[1;32m      4\u001b[0m \u001b[0mplt\u001b[0m\u001b[0;34m.\u001b[0m\u001b[0mxlabel\u001b[0m\u001b[0;34m(\u001b[0m\u001b[0;34m\"Percentage (%)\"\u001b[0m\u001b[0;34m)\u001b[0m\u001b[0;34m\u001b[0m\u001b[0;34m\u001b[0m\u001b[0m\n\u001b[1;32m      5\u001b[0m \u001b[0mplt\u001b[0m\u001b[0;34m.\u001b[0m\u001b[0mylabel\u001b[0m\u001b[0;34m(\u001b[0m\u001b[0;34m\"Languages\"\u001b[0m\u001b[0;34m)\u001b[0m\u001b[0;34m\u001b[0m\u001b[0;34m\u001b[0m\u001b[0m\n",
            "\u001b[0;31mNameError\u001b[0m: name 'languages' is not defined"
          ]
        },
        {
          "output_type": "display_data",
          "data": {
            "text/plain": [
              "<Figure size 1200x800 with 0 Axes>"
            ]
          },
          "metadata": {}
        }
      ]
    },
    {
      "source": [
        "# it shows each language persentages\n",
        "import pandas as pd\n",
        "import matplotlib.pyplot as plt\n",
        "\n",
        "# Calculate the language counts\n",
        "language_counts = df['Language'].value_counts()\n",
        "\n",
        "# Extract languages and their corresponding percentages\n",
        "languages = language_counts.index.tolist()\n",
        "percentages = (language_counts.values / len(df) * 100).tolist()\n",
        "\n",
        "# Plot bar graph for language distribution percentages\n",
        "plt.figure(figsize=(12, 8))\n",
        "plt.barh(languages, percentages, color='green')\n",
        "plt.xlabel(\"Percentage (%)\")\n",
        "plt.ylabel(\"Languages\")\n",
        "plt.title(\"Language Distribution in Dataset (%)\")\n",
        "plt.grid(axis='x', linestyle='--', alpha=0.7)\n",
        "plt.tight_layout()\n",
        "plt.show()"
      ],
      "cell_type": "code",
      "metadata": {
        "colab": {
          "base_uri": "https://localhost:8080/",
          "height": 586
        },
        "id": "BPLTFMe8rOT1",
        "outputId": "5bd5c824-ddaf-4b4b-a80e-e69ad4988364"
      },
      "id": "BPLTFMe8rOT1",
      "execution_count": 70,
      "outputs": [
        {
          "output_type": "display_data",
          "data": {
            "text/plain": [
              "<Figure size 1200x800 with 1 Axes>"
            ],
            "image/png": "[encoded data removed]"
          },
          "metadata": {}
        }
      ]
    },
    {
      "cell_type": "code",
      "execution_count": 54,
      "id": "3d099fe7-67ed-4796-8683-7cfba8903b8f",
      "metadata": {
        "colab": {
          "base_uri": "https://localhost:8080/"
        },
        "id": "3d099fe7-67ed-4796-8683-7cfba8903b8f",
        "outputId": "90b695f7-1cc2-456f-ea8d-fca0e2eaaec6"
      },
      "outputs": [
        {
          "output_type": "stream",
          "name": "stdout",
          "text": [
            "Text            0\n",
            "Language        0\n",
            "Cleaned_Text    0\n",
            "dtype: int64\n"
          ]
        }
      ],
      "source": [
        "# Check for any missing values\n",
        "print(df.isnull().sum())\n"
      ]
    },
    {
      "cell_type": "code",
      "source": [
        "print(df.shape)"
      ],
      "metadata": {
        "colab": {
          "base_uri": "https://localhost:8080/"
        },
        "id": "T8hH1mEGoyYj",
        "outputId": "cee9adfc-39f0-4d45-dd43-24cda70143e9"
      },
      "id": "T8hH1mEGoyYj",
      "execution_count": 56,
      "outputs": [
        {
          "output_type": "stream",
          "name": "stdout",
          "text": [
            "(32337, 3)\n"
          ]
        }
      ]
    },
    {
      "cell_type": "markdown",
      "id": "adde733c-fe86-4241-8e86-3518ec787ae5",
      "metadata": {
        "id": "adde733c-fe86-4241-8e86-3518ec787ae5"
      },
      "source": [
        " # Split the Data"
      ]
    },
    {
      "cell_type": "code",
      "execution_count": 57,
      "id": "4cb05000-568a-48d1-ada4-8dc7b4fdca37",
      "metadata": {
        "colab": {
          "base_uri": "https://localhost:8080/"
        },
        "id": "4cb05000-568a-48d1-ada4-8dc7b4fdca37",
        "outputId": "49478054-4ec1-4e2b-c82c-d2649e619817"
      },
      "outputs": [
        {
          "output_type": "stream",
          "name": "stdout",
          "text": [
            "Index(['Text', 'Language', 'Cleaned_Text'], dtype='object')\n"
          ]
        }
      ],
      "source": [
        "print(df.columns)\n"
      ]
    },
    {
      "cell_type": "code",
      "execution_count": 58,
      "id": "11a5cecf-b371-433e-ac7a-73de15befe80",
      "metadata": {
        "id": "11a5cecf-b371-433e-ac7a-73de15befe80"
      },
      "outputs": [],
      "source": [
        "# split dataset\n",
        "from sklearn.model_selection import train_test_split\n",
        "\n",
        "X = df['Cleaned_Text']\n",
        "y = df['Language']\n",
        "X_train,X_test,y_train,y_test = train_test_split(X,y,random_state=42,test_size=0.2)"
      ]
    },
    {
      "cell_type": "markdown",
      "id": "d646d7c9-1083-4f61-ae1a-f833ead75b7a",
      "metadata": {
        "id": "d646d7c9-1083-4f61-ae1a-f833ead75b7a"
      },
      "source": [
        "# label encoding"
      ]
    },
    {
      "cell_type": "code",
      "execution_count": 59,
      "id": "c6ae9e0d-dfab-4491-812a-642901df2fcb",
      "metadata": {
        "colab": {
          "base_uri": "https://localhost:8080/"
        },
        "id": "c6ae9e0d-dfab-4491-812a-642901df2fcb",
        "outputId": "6a473fdd-25ed-4c36-9a1f-5b1403a1dfc1"
      },
      "outputs": [
        {
          "output_type": "execute_result",
          "data": {
            "text/plain": [
              "array(['Arabic', 'Chinese', 'Danish', 'Dutch', 'English', 'Estonian',\n",
              "       'French', 'German', 'Greek', 'Hindi', 'Indonesian', 'Italian',\n",
              "       'Japanese', 'Kannada', 'Korean', 'Latin', 'Malayalam', 'Persian',\n",
              "       'Portugeese', 'Portugese', 'Pushto', 'Romanian', 'Russian',\n",
              "       'Spanish', 'Swedish', 'Sweedish', 'Tamil', 'Thai', 'Turkish',\n",
              "       'Urdu'], dtype=object)"
            ]
          },
          "metadata": {},
          "execution_count": 59
        }
      ],
      "source": [
        "le =LabelEncoder()\n",
        "y_train= le.fit_transform(y_train)\n",
        "le.classes_"
      ]
    },
    {
      "cell_type": "code",
      "execution_count": 60,
      "id": "b120b3ca-c818-4c18-9469-1bbbfe260bc0",
      "metadata": {
        "id": "b120b3ca-c818-4c18-9469-1bbbfe260bc0"
      },
      "outputs": [],
      "source": [
        "y_test = le.transform(y_test)"
      ]
    },
    {
      "cell_type": "markdown",
      "id": "976534a4-0c26-40fe-8b08-d84c3119ef95",
      "metadata": {
        "id": "976534a4-0c26-40fe-8b08-d84c3119ef95"
      },
      "source": [
        "# tokenization"
      ]
    },
    {
      "cell_type": "code",
      "execution_count": 61,
      "id": "e56b95c3-58ff-4e4c-b12f-e081d3657926",
      "metadata": {
        "id": "e56b95c3-58ff-4e4c-b12f-e081d3657926"
      },
      "outputs": [],
      "source": [
        "tokenizer = Tokenizer(num_words=40000)\n",
        "tokenizer.fit_on_texts(X_train)\n",
        "X_train_seq = tokenizer.texts_to_sequences(X_train)\n",
        "X_test_seq = tokenizer.texts_to_sequences(X_test)"
      ]
    },
    {
      "cell_type": "markdown",
      "source": [
        "# padding"
      ],
      "metadata": {
        "id": "P4E5YAJ2pds3"
      },
      "id": "P4E5YAJ2pds3"
    },
    {
      "cell_type": "code",
      "execution_count": 62,
      "id": "7f207906-1094-4d43-82e0-22093701484e",
      "metadata": {
        "id": "7f207906-1094-4d43-82e0-22093701484e"
      },
      "outputs": [],
      "source": [
        "X_train_padded = pad_sequences(X_train_seq,maxlen=100,padding='post')\n",
        "X_test_padded = pad_sequences(X_test_seq,maxlen=100,padding='post')"
      ]
    },
    {
      "cell_type": "code",
      "execution_count": 63,
      "id": "0cdd6cee-3087-46c3-b543-e9201e5fa13c",
      "metadata": {
        "colab": {
          "base_uri": "https://localhost:8080/"
        },
        "id": "0cdd6cee-3087-46c3-b543-e9201e5fa13c",
        "outputId": "082a8554-7f28-49a7-a525-23b7e8be87ec"
      },
      "outputs": [
        {
          "output_type": "execute_result",
          "data": {
            "text/plain": [
              "100"
            ]
          },
          "metadata": {},
          "execution_count": 63
        }
      ],
      "source": [
        "input_dim = tokenizer.num_words\n",
        "embedding_dim = 128\n",
        "max_lenght = X_train_padded.shape[1]\n",
        "num_classes = len(le.classes_)\n",
        "max_lenght"
      ]
    },
    {
      "cell_type": "code",
      "source": [
        "# Save the cleaned dataset to a new CSV file\n",
        "df.to_csv('cleaned_dataset.csv', index=False)\n",
        "\n",
        "print(\"Cleaned dataset saved as 'cleaned_dataset.csv'.\")\n"
      ],
      "metadata": {
        "colab": {
          "base_uri": "https://localhost:8080/"
        },
        "id": "FUIPE2tOp89w",
        "outputId": "0f743233-f02b-4b70-c999-5ffe86acb9c6"
      },
      "id": "FUIPE2tOp89w",
      "execution_count": 64,
      "outputs": [
        {
          "output_type": "stream",
          "name": "stdout",
          "text": [
            "Cleaned dataset saved as 'cleaned_dataset.csv'.\n"
          ]
        }
      ]
    },
    {
      "cell_type": "markdown",
      "id": "1ac6faca-8155-423c-bd13-48ae638395f1",
      "metadata": {
        "id": "1ac6faca-8155-423c-bd13-48ae638395f1"
      },
      "source": [
        "# gru model"
      ]
    }
  ],
  "metadata": {
    "accelerator": "GPU",
    "colab": {
      "gpuType": "T4",
      "provenance": []
    },
    "kernelspec": {
      "display_name": "Python 3 (ipykernel)",
      "language": "python",
      "name": "python3"
    },
    "language_info": {
      "codemirror_mode": {
        "name": "ipython",
        "version": 3
      },
      "file_extension": ".py",
      "mimetype": "text/x-python",
      "name": "python",
      "nbconvert_exporter": "python",
      "pygments_lexer": "ipython3",
      "version": "3.12.7"
    }
  },
  "nbformat": 4,
  "nbformat_minor": 5
}