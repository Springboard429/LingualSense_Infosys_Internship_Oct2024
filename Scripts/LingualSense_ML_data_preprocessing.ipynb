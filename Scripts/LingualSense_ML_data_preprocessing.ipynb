{
 "cells": [
  {
   "cell_type": "markdown",
   "id": "6795cc8a-99d7-41ef-9582-7092667a0038",
   "metadata": {},
   "source": [
    "# Dataset Preprocessing Steps\n",
    "\n",
    "## 1. Importing Required Libraries\n",
    "We import the necessary libraries:\n",
    "- `pandas` for data manipulation and analysis.\n",
    "- `re` for regular expressions to clean text.\n",
    "- `matplotlib.pyplot` and `seaborn` for visualization.\n",
    "- `tensorflow.keras` for text tokenization and sequence padding.\n",
    "- `joblib` for saving models and `sklearn.feature_extraction.text` for text vectorization.\n"
   ]
  },
  {
   "cell_type": "markdown",
   "id": "7b79bc8e-49c0-45c9-9b4a-e559a4195f91",
   "metadata": {},
   "source": [
    "## 2. Load Dataset\n",
    "Load the dataset `merged_dataset.csv` using pandas and display the first few rows to understand its structure."
   ]
  },
  {
   "cell_type": "code",
   "execution_count": 1,
   "id": "e38aedf9-5fc3-46c2-a59c-1f94fd87d5b4",
   "metadata": {},
   "outputs": [
    {
     "data": {
      "text/html": [
       "<div>\n",
       "<style scoped>\n",
       "    .dataframe tbody tr th:only-of-type {\n",
       "        vertical-align: middle;\n",
       "    }\n",
       "\n",
       "    .dataframe tbody tr th {\n",
       "        vertical-align: top;\n",
       "    }\n",
       "\n",
       "    .dataframe thead th {\n",
       "        text-align: right;\n",
       "    }\n",
       "</style>\n",
       "<table border=\"1\" class=\"dataframe\">\n",
       "  <thead>\n",
       "    <tr style=\"text-align: right;\">\n",
       "      <th></th>\n",
       "      <th>Text</th>\n",
       "      <th>Language</th>\n",
       "    </tr>\n",
       "  </thead>\n",
       "  <tbody>\n",
       "    <tr>\n",
       "      <th>0</th>\n",
       "      <td>klement gottwaldi surnukeha palsameeriti ning ...</td>\n",
       "      <td>Estonian</td>\n",
       "    </tr>\n",
       "    <tr>\n",
       "      <th>1</th>\n",
       "      <td>sebes joseph pereira thomas  på eng the jesuit...</td>\n",
       "      <td>Swedish</td>\n",
       "    </tr>\n",
       "    <tr>\n",
       "      <th>2</th>\n",
       "      <td>ถนนเจริญกรุง อักษรโรมัน thanon charoen krung เ...</td>\n",
       "      <td>Thai</td>\n",
       "    </tr>\n",
       "    <tr>\n",
       "      <th>3</th>\n",
       "      <td>விசாகப்பட்டினம் தமிழ்ச்சங்கத்தை இந்துப் பத்திர...</td>\n",
       "      <td>Tamil</td>\n",
       "    </tr>\n",
       "    <tr>\n",
       "      <th>4</th>\n",
       "      <td>de spons behoort tot het geslacht haliclona en...</td>\n",
       "      <td>Dutch</td>\n",
       "    </tr>\n",
       "  </tbody>\n",
       "</table>\n",
       "</div>"
      ],
      "text/plain": [
       "                                                Text  Language\n",
       "0  klement gottwaldi surnukeha palsameeriti ning ...  Estonian\n",
       "1  sebes joseph pereira thomas  på eng the jesuit...   Swedish\n",
       "2  ถนนเจริญกรุง อักษรโรมัน thanon charoen krung เ...      Thai\n",
       "3  விசாகப்பட்டினம் தமிழ்ச்சங்கத்தை இந்துப் பத்திர...     Tamil\n",
       "4  de spons behoort tot het geslacht haliclona en...     Dutch"
      ]
     },
     "execution_count": 1,
     "metadata": {},
     "output_type": "execute_result"
    }
   ],
   "source": [
    "import pandas as pd\n",
    "\n",
    "# Load dataset\n",
    "df = pd.read_csv(\"merged_dataset.csv\")\n",
    "df.head()"
   ]
  },
  {
   "cell_type": "markdown",
   "id": "9bc9cc61-2b0d-4e3e-a39d-f92f7e89ed66",
   "metadata": {},
   "source": [
    "### Dataset Information and Summary Statistics\n",
    "- `info()` provides information about columns, data types, and non-null values.\n",
    "- `describe()` generates summary statistics for numerical columns."
   ]
  },
  {
   "cell_type": "code",
   "execution_count": 2,
   "id": "c5c9b83d-1147-4a35-98a8-5a5ed3ef71a4",
   "metadata": {},
   "outputs": [
    {
     "name": "stdout",
     "output_type": "stream",
     "text": [
      "\n",
      "Dataset Information:\n",
      "<class 'pandas.core.frame.DataFrame'>\n",
      "RangeIndex: 32337 entries, 0 to 32336\n",
      "Data columns (total 2 columns):\n",
      " #   Column    Non-Null Count  Dtype \n",
      "---  ------    --------------  ----- \n",
      " 0   Text      32337 non-null  object\n",
      " 1   Language  32337 non-null  object\n",
      "dtypes: object(2)\n",
      "memory usage: 505.4+ KB\n"
     ]
    }
   ],
   "source": [
    "# General information about the dataset\n",
    "print(\"\\nDataset Information:\")\n",
    "df.info()"
   ]
  },
  {
   "cell_type": "code",
   "execution_count": 3,
   "id": "4fa28dee-0629-4625-a877-f81d6aa9b0cf",
   "metadata": {},
   "outputs": [
    {
     "name": "stdout",
     "output_type": "stream",
     "text": [
      "\n",
      "Summary Statistics:\n",
      "                                                     Text Language\n",
      "count                                               32337    32337\n",
      "unique                                              32126       30\n",
      "top     haec commentatio automatice praeparata res ast...  English\n",
      "freq                                                   48     2385\n"
     ]
    }
   ],
   "source": [
    "# Summary statistics for numerical columns (if any)\n",
    "print(\"\\nSummary Statistics:\")\n",
    "print(df.describe())"
   ]
  },
  {
   "cell_type": "markdown",
   "id": "72c179a8-beb3-4486-84b2-a2a7f10a15fd",
   "metadata": {},
   "source": [
    "## 3. Handling Missing Values and Duplicates\n",
    "### Check and Remove Missing Values\n",
    "- `isnull().sum()` identifies columns with missing values.\n",
    "- `dropna()` removes rows containing missing values."
   ]
  },
  {
   "cell_type": "code",
   "execution_count": 4,
   "id": "fbd87017-4a93-4d8b-b3bd-7c77c054038e",
   "metadata": {},
   "outputs": [
    {
     "name": "stdout",
     "output_type": "stream",
     "text": [
      "\n",
      "Missing Values:\n",
      "Text        0\n",
      "Language    0\n",
      "dtype: int64\n"
     ]
    }
   ],
   "source": [
    "# Check for missing values\n",
    "print(\"\\nMissing Values:\")\n",
    "print(df.isnull().sum())"
   ]
  },
  {
   "cell_type": "code",
   "execution_count": 5,
   "id": "8261ce0c-8b7c-4407-8305-1046773c1460",
   "metadata": {},
   "outputs": [
    {
     "name": "stdout",
     "output_type": "stream",
     "text": [
      "\n",
      "Missing Values After Handling:\n",
      "Text        0\n",
      "Language    0\n",
      "dtype: int64\n"
     ]
    }
   ],
   "source": [
    "# Drop rows with missing values\n",
    "df = df.dropna()\n",
    "\n",
    "# Count of missing values after handling\n",
    "print(\"\\nMissing Values After Handling:\")\n",
    "print(df.isnull().sum())\n"
   ]
  },
  {
   "cell_type": "markdown",
   "id": "c689e80a-ce23-436f-b346-9894d1f4bb84",
   "metadata": {},
   "source": [
    "### Check and Remove Duplicate Rows\n",
    "- `duplicated().sum()` counts duplicate rows.\n",
    "- `drop_duplicates()` removes duplicates."
   ]
  },
  {
   "cell_type": "code",
   "execution_count": 6,
   "id": "9c9a4b67-2ee2-40ac-8ab9-a42f73ebb634",
   "metadata": {},
   "outputs": [
    {
     "name": "stdout",
     "output_type": "stream",
     "text": [
      "\n",
      "Duplicate Rows Count: 207\n"
     ]
    }
   ],
   "source": [
    "# Check for duplicate rows\n",
    "print(\"\\nDuplicate Rows Count:\", df.duplicated().sum())"
   ]
  },
  {
   "cell_type": "code",
   "execution_count": 7,
   "id": "a322e0a8-441e-42b2-9bb7-bd493c24b9ff",
   "metadata": {},
   "outputs": [
    {
     "name": "stdout",
     "output_type": "stream",
     "text": [
      "\n",
      "Duplicate Rows After Handling: 0\n"
     ]
    }
   ],
   "source": [
    "# Drop duplicates\n",
    "df = df.drop_duplicates()\n",
    "\n",
    "# Count duplicates after handling\n",
    "print(\"\\nDuplicate Rows After Handling:\", df.duplicated().sum())"
   ]
  },
  {
   "cell_type": "markdown",
   "id": "2722f08e-b9ed-49c1-a749-d8777a7fa620",
   "metadata": {},
   "source": [
    "## 4. Cleaning Text Data\n",
    "A custom clean_text function performs the following:\n",
    "\n",
    "1. Removes backslashes and line breaks.\n",
    "2. Removes special characters and numbers.\n",
    "3. Strips leading and trailing spaces.\n",
    "Text is converted to lowercase using `.str.lower()` for uniformity."
   ]
  },
  {
   "cell_type": "code",
   "execution_count": 8,
   "id": "db8d321a-5e0e-452f-b57d-65128e403667",
   "metadata": {},
   "outputs": [],
   "source": [
    "import re\n",
    "\n",
    "# Function to clean text\n",
    "def clean_text(text):\n",
    "    # Remove backslashes, line breaks, and extra whitespaces\n",
    "    text = re.sub(r'\\\\', '', text)       # Remove backslashes\n",
    "    text = re.sub(r'\\n', ' ', text)      # Replace line breaks with a space\n",
    "    text = re.sub(r'\\s+', ' ', text)     # Replace multiple spaces with a single space\n",
    "    \n",
    "    # Remove special characters except for non-English text\n",
    "    text = re.sub(r'[^\\w\\s]', '', text)  # Remove special characters\n",
    "    text = re.sub(r'\\d+', '', text)      # Remove numbers\n",
    "\n",
    "    # Remove leading and trailing whitespaces\n",
    "    text = text.strip()\n",
    "    \n",
    "    return text\n",
    "\n",
    "# Apply text cleaning to the 'Text' column\n",
    "df['Cleaned_Text'] = df['Text'].apply(clean_text)\n",
    "\n",
    "# Convert text to lowercase\n",
    "df['Cleaned_Text'] = df['Cleaned_Text'].str.lower()"
   ]
  },
  {
   "cell_type": "markdown",
   "id": "d1a9cf82-ecf6-4af5-9b46-940267f39c23",
   "metadata": {},
   "source": [
    "## 5. Displaying Dataset Snapshots\n",
    "### Original and Cleaned Text Snapshots\n",
    "Snapshots of the dataset are displayed before and after preprocessing."
   ]
  },
  {
   "cell_type": "code",
   "execution_count": 9,
   "id": "f21039e7-442b-4ed5-a2d0-970a48889ffa",
   "metadata": {},
   "outputs": [
    {
     "name": "stdout",
     "output_type": "stream",
     "text": [
      "\n",
      "Initial Dataset:\n",
      "                                                Text  Language\n",
      "0  klement gottwaldi surnukeha palsameeriti ning ...  Estonian\n",
      "1  sebes joseph pereira thomas  på eng the jesuit...   Swedish\n",
      "2  ถนนเจริญกรุง อักษรโรมัน thanon charoen krung เ...      Thai\n",
      "3  விசாகப்பட்டினம் தமிழ்ச்சங்கத்தை இந்துப் பத்திர...     Tamil\n",
      "4  de spons behoort tot het geslacht haliclona en...     Dutch\n",
      "\n",
      "After Preprocessing:\n",
      "                                        Cleaned_Text  Language\n",
      "0  klement gottwaldi surnukeha palsameeriti ning ...  Estonian\n",
      "1  sebes joseph pereira thomas på eng the jesuits...   Swedish\n",
      "2  ถนนเจรญกรง อกษรโรมน thanon charoen krung เรมตง...      Thai\n",
      "3  வசகபபடடனம தமழசசஙகதத இநதப பததரகவசகபபடடன ஆசரயர ச...     Tamil\n",
      "4  de spons behoort tot het geslacht haliclona en...     Dutch\n"
     ]
    }
   ],
   "source": [
    "print(\"\\nInitial Dataset:\")\n",
    "print(df[['Text', 'Language']].head())  # Original dataset snapshot\n",
    "\n",
    "print(\"\\nAfter Preprocessing:\")\n",
    "print(df[['Cleaned_Text', 'Language']].head())  # Preprocessed dataset snapshot"
   ]
  },
  {
   "cell_type": "markdown",
   "id": "8d906fea-8fa6-4938-be3e-77b7b45e892e",
   "metadata": {},
   "source": [
    "### Subset View\n",
    "Display and preprocess a specific range of rows (21861 to 32132)."
   ]
  },
  {
   "cell_type": "code",
   "execution_count": 10,
   "id": "8bf928a2-aa20-42eb-8838-c607da65b093",
   "metadata": {},
   "outputs": [
    {
     "name": "stdout",
     "output_type": "stream",
     "text": [
      "                                                    Text Language  \\\n",
      "22002  The study of nature is a large, if not the onl...  English   \n",
      "22003  Although humans are part of nature, human acti...  English   \n",
      "22004  [1] The word nature is borrowed from the Old F...  English   \n",
      "22005  [2] In ancient philosophy, natura is mostly us...  English   \n",
      "22006  [3][4] \\nThe concept of nature as a whole, the...  English   \n",
      "...                                                  ...      ...   \n",
      "32332  ನಿಮ್ಮ ತಪ್ಪು ಏನು ಬಂದಿದೆಯೆಂದರೆ ಆ ದಿನದಿಂದ ನಿಮಗೆ ಒ...  Kannada   \n",
      "32333  ನಾರ್ಸಿಸಾ ತಾನು ಮೊದಲಿಗೆ ಹೆಣಗಾಡುತ್ತಿದ್ದ ಮಾರ್ಗಗಳನ್...  Kannada   \n",
      "32334  ಹೇಗೆ ' ನಾರ್ಸಿಸಿಸಮ್ ಈಗ ಮರಿಯನ್ ಅವರಿಗೆ ಸಂಭವಿಸಿದ ಎ...  Kannada   \n",
      "32335  ಅವಳು ಈಗ ಹೆಚ್ಚು ಚಿನ್ನದ ಬ್ರೆಡ್ ಬಯಸುವುದಿಲ್ಲ ಎಂದು ...  Kannada   \n",
      "32336  ಟೆರ್ರಿ ನೀವು ನಿಜವಾಗಿಯೂ ಆ ದೇವದೂತನಂತೆ ಸ್ವಲ್ಪ ಕಾಣು...  Kannada   \n",
      "\n",
      "                                            Cleaned_Text  \n",
      "22002  the study of nature is a large if not the only...  \n",
      "22003  although humans are part of nature human activ...  \n",
      "22004  the word nature is borrowed from the old frenc...  \n",
      "22005  in ancient philosophy natura is mostly used as...  \n",
      "22006  the concept of nature as a whole the physical ...  \n",
      "...                                                  ...  \n",
      "32332           ನಮಮ ತಪಪ ಏನ ಬದದಯದರ ಆ ದನದದ ನಮಗ ಒಳಳಯದನನ ನಡಣ  \n",
      "32333  ನರಸಸ ತನ ಮದಲಗ ಹಣಗಡತತದದ ಮರಗಗಳನನ ಬದಲಯಸದಳ ಆದರ ನಧನವ...  \n",
      "32334  ಹಗ  ನರಸಸಸಮ ಈಗ ಮರಯನ ಅವರಗ ಸಭವಸದ ಎಲಲವನನ ಹಳದ ಮತತ ಅ...  \n",
      "32335        ಅವಳ ಈಗ ಹಚಚ ಚನನದ ಬರಡ ಬಯಸವದಲಲ ಎದ ನನ ess ಹಸದದನ  \n",
      "32336  ಟರರ ನವ ನಜವಗಯ ಆ ದವದತನತ ಸವಲಪ ಕಣತತದದರ ಆದರ ನನ ಏನ ನ...  \n",
      "\n",
      "[10269 rows x 3 columns]\n"
     ]
    }
   ],
   "source": [
    "# Display rows 21861 to 32132 \n",
    "subset = df[21861:32132]\n",
    "print(subset)"
   ]
  },
  {
   "cell_type": "code",
   "execution_count": 11,
   "id": "7f0a2941-20cd-46f1-bf87-b19205cf8fcb",
   "metadata": {},
   "outputs": [
    {
     "name": "stdout",
     "output_type": "stream",
     "text": [
      "\n",
      "Initial Dataset:\n",
      "                                                    Text Language\n",
      "22002  The study of nature is a large, if not the onl...  English\n",
      "22003  Although humans are part of nature, human acti...  English\n",
      "22004  [1] The word nature is borrowed from the Old F...  English\n",
      "22005  [2] In ancient philosophy, natura is mostly us...  English\n",
      "22006  [3][4] \\nThe concept of nature as a whole, the...  English\n",
      "\n",
      "After Preprocessing:\n",
      "                                            Cleaned_Text Language\n",
      "22002  the study of nature is a large if not the only...  English\n",
      "22003  although humans are part of nature human activ...  English\n",
      "22004  the word nature is borrowed from the old frenc...  English\n",
      "22005  in ancient philosophy natura is mostly used as...  English\n",
      "22006  the concept of nature as a whole the physical ...  English\n"
     ]
    }
   ],
   "source": [
    "print(\"\\nInitial Dataset:\")\n",
    "print(subset[['Text', 'Language']].head())  # Original dataset snapshot\n",
    "\n",
    "print(\"\\nAfter Preprocessing:\")\n",
    "print(subset[['Cleaned_Text', 'Language']].head())  # Preprocessed dataset snapshot"
   ]
  },
  {
   "cell_type": "markdown",
   "id": "02590384-ba91-4a2e-a46b-c54863177b8c",
   "metadata": {},
   "source": [
    "## 6. Visualizing Language Distribution\n",
    "Using `seaborn`, a count plot of languages in the dataset is generated."
   ]
  },
  {
   "cell_type": "code",
   "execution_count": 12,
   "id": "b4fa2478-2287-4a7a-b416-dc3ec9fe7d30",
   "metadata": {},
   "outputs": [
    {
     "data": {
      "image/png": "[encoded data removed]",
      "text/plain": [
       "<Figure size 1000x600 with 1 Axes>"
      ]
     },
     "metadata": {},
     "output_type": "display_data"
    }
   ],
   "source": [
    "import matplotlib.pyplot as plt\n",
    "import seaborn as sns\n",
    "\n",
    "plt.figure(figsize=(10, 6))\n",
    "sns.countplot(data=df, x='Language', order=df['Language'].value_counts().index)\n",
    "plt.title('Language Distribution')\n",
    "plt.xticks(rotation=90)\n",
    "plt.show()"
   ]
  },
  {
   "cell_type": "markdown",
   "id": "e46da442-7a6f-4282-90c6-bf7e7a53a158",
   "metadata": {},
   "source": [
    "## 7. Correcting Language Labels\n",
    "### Display and Update Unique Languages\n",
    "Before and after correcting a typo in the language column (`Sweedish` → `Swedish`)."
   ]
  },
  {
   "cell_type": "code",
   "execution_count": 13,
   "id": "f1ad6393-3abc-46b8-80ce-b3f7a2f2dcd7",
   "metadata": {},
   "outputs": [
    {
     "name": "stdout",
     "output_type": "stream",
     "text": [
      "Unique languages in the dataset before updating:\n",
      "['Estonian' 'Swedish' 'Thai' 'Tamil' 'Dutch' 'Japanese' 'Turkish' 'Latin'\n",
      " 'Urdu' 'Indonesian' 'Portugese' 'French' 'Chinese' 'Korean' 'Hindi'\n",
      " 'Spanish' 'Pushto' 'Persian' 'Romanian' 'Russian' 'English' 'Arabic'\n",
      " 'Malayalam' 'Portugeese' 'Greek' 'Danish' 'Italian' 'Sweedish' 'German'\n",
      " 'Kannada']\n",
      "Unique languages in the dataset after updating:\n",
      "['Estonian' 'Swedish' 'Thai' 'Tamil' 'Dutch' 'Japanese' 'Turkish' 'Latin'\n",
      " 'Urdu' 'Indonesian' 'Portugese' 'French' 'Chinese' 'Korean' 'Hindi'\n",
      " 'Spanish' 'Pushto' 'Persian' 'Romanian' 'Russian' 'English' 'Arabic'\n",
      " 'Malayalam' 'Portugeese' 'Greek' 'Danish' 'Italian' 'German' 'Kannada']\n"
     ]
    }
   ],
   "source": [
    "# Define the column name for languages\n",
    "language_column = 'Language'\n",
    "\n",
    "# Display unique languages in the dataset before updating\n",
    "unique_languages_before = df[language_column].unique()\n",
    "print(\"Unique languages in the dataset before updating:\")\n",
    "print(unique_languages_before)\n",
    "\n",
    "# Correcting the spelling of specific language\n",
    "df[language_column] = df[language_column].replace({'Sweedish': 'Swedish'})\n",
    "\n",
    "# Display unique languages in the dataset after updating\n",
    "unique_languages_after = df[language_column].unique()\n",
    "print(\"Unique languages in the dataset after updating:\")\n",
    "print(unique_languages_after)"
   ]
  },
  {
   "cell_type": "markdown",
   "id": "16c9eaed-bc89-4503-b0b3-7d4381010df3",
   "metadata": {},
   "source": [
    "## 8. Tokenizing and Padding Sequences\n",
    "### Tokenizing Text\n",
    "The `Tokenizer` from Keras is used to:\n",
    "\n",
    "- Convert text to a sequence of integer tokens.\n",
    "- Calculate the maximum sequence length for padding."
   ]
  },
  {
   "cell_type": "code",
   "execution_count": 14,
   "id": "d7b2bbcf-99ea-4197-ba7f-3faf291c7c5a",
   "metadata": {},
   "outputs": [],
   "source": [
    "import pandas as pd\n",
    "from tensorflow.keras.preprocessing.text import Tokenizer\n",
    "from tensorflow.keras.preprocessing.sequence import pad_sequences"
   ]
  },
  {
   "cell_type": "code",
   "execution_count": 15,
   "id": "c7271015-0e1e-4e36-b449-a9df3aff2076",
   "metadata": {},
   "outputs": [
    {
     "name": "stdout",
     "output_type": "stream",
     "text": [
      "[[ 36700 105773  17040 ...      0      0      0]\n",
      " [105787   2975  25327 ...      0      0      0]\n",
      " [ 65064  65065  65066 ...      0      0      0]\n",
      " [105799 105800  19174 ...      0      0      0]\n",
      " [     1  15332   5999 ...      0      0      0]]\n"
     ]
    }
   ],
   "source": [
    "word_column = 'Cleaned_Text'\n",
    "\n",
    "df = df[df[word_column].notna() & (df[word_column] != '')]\n",
    "\n",
    "tokenizer = Tokenizer()\n",
    "\n",
    "tokenizer.fit_on_texts(df[word_column])\n",
    "\n",
    "sequences = tokenizer.texts_to_sequences(df[word_column])\n",
    "\n",
    "\n",
    "max_length = max([len(seq) for seq in sequences])\n",
    "padded_sequences = pad_sequences(sequences, padding='post', maxlen=max_length)\n",
    "\n",
    "# Print the first 5 padded sequences\n",
    "print(padded_sequences[:5])\n",
    "\n",
    "df['padded_sequences'] = list(padded_sequences)"
   ]
  },
  {
   "cell_type": "markdown",
   "id": "360e63c9-e45e-4d56-8042-b88ca2dadde8",
   "metadata": {},
   "source": [
    "## 9. Text Vectorization\n",
    "### CountVectorizer\n",
    "`CountVectorizer` transforms text data into numerical feature vectors, limited to 10,000 features.\n",
    "The vectorizer is saved for reuse using `joblib`."
   ]
  },
  {
   "cell_type": "code",
   "execution_count": 16,
   "id": "75a5eb1f-6542-4eee-a319-0ba5dd948735",
   "metadata": {},
   "outputs": [
    {
     "name": "stdout",
     "output_type": "stream",
     "text": [
      "Vectorizer has been saved as 'lingual_vectorizer.pkl'\n"
     ]
    }
   ],
   "source": [
    "import joblib\n",
    "import pandas as pd\n",
    "from sklearn.feature_extraction.text import CountVectorizer\n",
    "\n",
    "# Specify the column containing cleaned text\n",
    "text_column = 'Cleaned_Text'\n",
    "\n",
    "# Initialize CountVectorizer with a feature limit\n",
    "vectorizer = CountVectorizer(max_features=10000)\n",
    "\n",
    "# Transform the text column into feature vectors\n",
    "features = vectorizer.fit_transform(df[text_column]).toarray()\n",
    "\n",
    "# Save the vectorizer model for reuse\n",
    "vectorizer_filename = 'lingual_vectorizer.pkl'\n",
    "joblib.dump(vectorizer, vectorizer_filename)\n",
    "\n",
    "print(f\"Vectorizer has been saved as '{vectorizer_filename}'\")"
   ]
  },
  {
   "cell_type": "markdown",
   "id": "002c03c1-154f-4a90-8f82-3c331bba7631",
   "metadata": {},
   "source": [
    "## 10. Saving the Processed Dataset\n",
    "The processed dataset is saved to `pre_processed_dataset.csv`."
   ]
  },
  {
   "cell_type": "code",
   "execution_count": 18,
   "id": "42ba25a7-ba7c-483e-a208-62bbe0d69b09",
   "metadata": {},
   "outputs": [],
   "source": [
    "# Transfer the contents of 'Cleaned_Text' to 'Text'\n",
    "df['Text'] = df['Cleaned_Text']\n",
    "\n",
    "# Drop the 'Cleaned_Text' column\n",
    "df.drop(columns=['Cleaned_Text'], inplace=True)\n",
    "\n",
    "# Save the updated dataset \n",
    "df.to_csv('pre_processed_dataset.csv', index=False)"
   ]
  }
 ],
 "metadata": {
  "kernelspec": {
   "display_name": "Python 3 (ipykernel)",
   "language": "python",
   "name": "python3"
  },
  "language_info": {
   "codemirror_mode": {
    "name": "ipython",
    "version": 3
   },
   "file_extension": ".py",
   "mimetype": "text/x-python",
   "name": "python",
   "nbconvert_exporter": "python",
   "pygments_lexer": "ipython3",
   "version": "3.12.7"
  }
 },
 "nbformat": 4,
 "nbformat_minor": 5
}
