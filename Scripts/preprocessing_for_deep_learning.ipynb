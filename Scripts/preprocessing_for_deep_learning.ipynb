{
  "cells": [
    {
      "cell_type": "markdown",
      "id": "5b2a86c6",
      "metadata": {
        "id": "5b2a86c6"
      },
      "source": [
        "# Preprocessing for Deep Learning\n",
        "In this notebook, we preprocess the dataset on 'merged_dataset.csv' to prepare it for deep learning models. This involves steps like cleaning, encoding, and padding the text data."
      ]
    },
    {
      "cell_type": "markdown",
      "id": "18e5e7f3",
      "metadata": {
        "id": "18e5e7f3"
      },
      "source": [
        "### Importing Necessary Libraries\n",
        "Here, we importing the necessary libraries for data preprocessing, visualization, and encoding. These libraries provide essential tools for handling data and implementing the required transformations."
      ]
    },
    {
      "cell_type": "code",
      "execution_count": 1,
      "id": "e0a8326c-29d5-45ac-ac16-72b537662d45",
      "metadata": {
        "id": "e0a8326c-29d5-45ac-ac16-72b537662d45"
      },
      "outputs": [],
      "source": [
        "import pandas as pd\n",
        "import numpy as np\n",
        "import re\n",
        "from sklearn.preprocessing import LabelEncoder\n",
        "from sklearn.model_selection import train_test_split\n",
        "from tensorflow.keras.preprocessing.text import Tokenizer\n",
        "from tensorflow.keras.preprocessing.sequence import pad_sequences"
      ]
    },
    {
      "cell_type": "markdown",
      "id": "9f106d77",
      "metadata": {
        "id": "9f106d77"
      },
      "source": [
        "### Loading the Dataset\n",
        "The dataset is loaded from a CSV file into a pandas DataFrame. This allows us to inspect, clean, and preprocess the data.\n"
      ]
    },
    {
      "cell_type": "code",
      "execution_count": 2,
      "id": "b34ad3c3-4030-4977-bfe0-ae82a610301d",
      "metadata": {
        "id": "b34ad3c3-4030-4977-bfe0-ae82a610301d"
      },
      "outputs": [],
      "source": [
        "# Load the dataset\n",
        "df = pd.read_csv('merged_dataset.csv')"
      ]
    },
    {
      "cell_type": "markdown",
      "id": "458943fa",
      "metadata": {
        "id": "458943fa"
      },
      "source": [
        "### Exploring the Dataset\n",
        "We inspect the dataset structure and summary statistics to understand its content and quality.\n"
      ]
    },
    {
      "cell_type": "code",
      "execution_count": 3,
      "id": "21159e36-db76-4bef-b62f-405c0437e8f7",
      "metadata": {
        "colab": {
          "base_uri": "https://localhost:8080/"
        },
        "id": "21159e36-db76-4bef-b62f-405c0437e8f7",
        "outputId": "ca8bc7b5-7fc7-4f85-a62b-48a0d37e8bd8"
      },
      "outputs": [
        {
          "output_type": "stream",
          "name": "stdout",
          "text": [
            "                                                Text  Language\n",
            "0  klement gottwaldi surnukeha palsameeriti ning ...  Estonian\n",
            "1  sebes joseph pereira thomas  på eng the jesuit...   Swedish\n",
            "2  ถนนเจริญกรุง อักษรโรมัน thanon charoen krung เ...      Thai\n",
            "3  விசாகப்பட்டினம் தமிழ்ச்சங்கத்தை இந்துப் பத்திர...     Tamil\n",
            "4  de spons behoort tot het geslacht haliclona en...     Dutch\n"
          ]
        }
      ],
      "source": [
        "# first few rows\n",
        "print(df.head())\n"
      ]
    },
    {
      "cell_type": "markdown",
      "id": "424cf8e8",
      "metadata": {
        "id": "424cf8e8"
      },
      "source": [
        "This step provides a summary of the dataset's structure and metadata:\n",
        "\n",
        "1. **`info()` Method**:\n",
        "   - Displays essential details about the DataFrame, including:\n",
        "     - The number of rows and columns.\n",
        "     - Column names and their data types.\n",
        "     - The count of non-null values in each column.\n",
        "     - Memory usage of the DataFrame.\n",
        "\n",
        "2. **Purpose**:\n",
        "   - Understand the structure of the dataset.\n",
        "   - Identify data types of columns (e.g., numerical, categorical, or object).\n",
        "   - Check for columns with missing values or inconsistent data types.\n",
        "\n",
        "This information helps in:\n",
        "- Planning preprocessing steps, such as handling missing values or converting data types.\n",
        "- Ensuring the dataset is ready for analysis and modeling.\n"
      ]
    },
    {
      "cell_type": "code",
      "execution_count": 4,
      "id": "30ccc9f2-4e35-469d-abe4-122d2792b776",
      "metadata": {
        "colab": {
          "base_uri": "https://localhost:8080/"
        },
        "id": "30ccc9f2-4e35-469d-abe4-122d2792b776",
        "outputId": "8712e339-246e-4c76-91cd-2efe10b14a67"
      },
      "outputs": [
        {
          "output_type": "stream",
          "name": "stdout",
          "text": [
            "<class 'pandas.core.frame.DataFrame'>\n",
            "RangeIndex: 32337 entries, 0 to 32336\n",
            "Data columns (total 2 columns):\n",
            " #   Column    Non-Null Count  Dtype \n",
            "---  ------    --------------  ----- \n",
            " 0   Text      32337 non-null  object\n",
            " 1   Language  32337 non-null  object\n",
            "dtypes: object(2)\n",
            "memory usage: 505.4+ KB\n",
            "None\n"
          ]
        }
      ],
      "source": [
        "# Get basic information about the dataset\n",
        "print(df.info())"
      ]
    },
    {
      "cell_type": "markdown",
      "id": "aa68e6d7",
      "metadata": {
        "id": "aa68e6d7"
      },
      "source": [
        "### Checking for Missing Values\n",
        "\n",
        "This step identifies any missing values in the dataset:\n",
        "\n",
        "1. **`isnull()` Method**:\n",
        "   - This method checks each cell in the DataFrame to see if it contains a missing value (`NaN`).\n",
        "   \n",
        "2. **`sum()` Method**:\n",
        "   - By applying `.sum()` on the result of `isnull()`, we calculate the total number of missing values for each column.\n",
        "\n",
        "Understanding missing values is crucial for:\n",
        "- Deciding whether to remove rows/columns with too many missing values.\n",
        "- Applying imputation techniques to fill missing values with appropriate substitutes.\n",
        "- Ensuring data quality and consistency before proceeding with further preprocessing.\n"
      ]
    },
    {
      "cell_type": "code",
      "execution_count": 5,
      "id": "283a6365-fc2d-42e0-bd0c-551ab0c3c9c0",
      "metadata": {
        "colab": {
          "base_uri": "https://localhost:8080/"
        },
        "id": "283a6365-fc2d-42e0-bd0c-551ab0c3c9c0",
        "outputId": "220437ab-a7d1-4647-8b5a-c18f20fe6c18"
      },
      "outputs": [
        {
          "output_type": "stream",
          "name": "stdout",
          "text": [
            "Text        0\n",
            "Language    0\n",
            "dtype: int64\n"
          ]
        }
      ],
      "source": [
        "print(df.isnull().sum())"
      ]
    },
    {
      "cell_type": "markdown",
      "id": "79dd222b",
      "metadata": {
        "id": "79dd222b"
      },
      "source": [
        "The `df.shape` attribute gives the number of rows (samples) and columns (features) in the dataset. This helps quickly assess the dataset's size and structure.\n"
      ]
    },
    {
      "cell_type": "code",
      "execution_count": 6,
      "id": "a64838b1-edb1-41be-9852-abc4a672d24c",
      "metadata": {
        "colab": {
          "base_uri": "https://localhost:8080/"
        },
        "id": "a64838b1-edb1-41be-9852-abc4a672d24c",
        "outputId": "c8bcfd36-0d0b-4230-80b7-bf7f13c37ed9"
      },
      "outputs": [
        {
          "output_type": "stream",
          "name": "stdout",
          "text": [
            "(32337, 2)\n"
          ]
        }
      ],
      "source": [
        "# check shape\n",
        "print(df.shape)"
      ]
    },
    {
      "cell_type": "markdown",
      "id": "346bda3d",
      "metadata": {
        "id": "346bda3d"
      },
      "source": [
        "View a few random samples for specific languages:\n"
      ]
    },
    {
      "cell_type": "code",
      "execution_count": 7,
      "id": "488c27fc-f3c9-47a3-9f0f-e5829812f901",
      "metadata": {
        "colab": {
          "base_uri": "https://localhost:8080/"
        },
        "id": "488c27fc-f3c9-47a3-9f0f-e5829812f901",
        "outputId": "199b10b1-e212-4115-bb48-36c331af292e"
      },
      "outputs": [
        {
          "output_type": "stream",
          "name": "stdout",
          "text": [
            "22737    In particular, it commonly serves as a target ...\n",
            "16762    all one tribe hand drum e-mu procussion linn l...\n",
            "1914     the ride channel a youtube skateboarding chann...\n",
            "6846     at least  of googles products features and ser...\n",
            "22917    [61] Rule-based machine learning approaches in...\n",
            "Name: Text, dtype: object\n"
          ]
        }
      ],
      "source": [
        "language_sample = df[df['Language'] == 'English'].sample(5)\n",
        "print(language_sample['Text'])\n"
      ]
    },
    {
      "cell_type": "markdown",
      "id": "d07bedd0-5bde-4a1f-ae46-09e64c9f510a",
      "metadata": {
        "id": "d07bedd0-5bde-4a1f-ae46-09e64c9f510a"
      },
      "source": [
        "# Text Cleaning"
      ]
    },
    {
      "cell_type": "markdown",
      "id": "9541bbe0",
      "metadata": {
        "id": "9541bbe0"
      },
      "source": [
        "This step removes unwanted patterns from the text data to ensure consistency:\n",
        "\n",
        "1. **Using Regular Expressions (`re`)**:\n",
        "   - The function `clean_text` removes any content within square brackets (`[ ... ]`) from the text using the `re.sub` method.\n",
        "\n",
        "2. **Stripping Whitespace**:\n",
        "   - The `.strip()` method is used to remove leading and trailing whitespace for cleaner text.\n",
        "\n",
        "3. **Applying the Function**:\n",
        "   - The `apply(clean_text)` method applies the `clean_text` function to the `Text` column, creating a new `Cleaned_Text` column with the processed text.\n",
        "\n",
        "This ensures the text is cleaner and more standardized for further analysis and model training.\n",
        "\n"
      ]
    },
    {
      "cell_type": "code",
      "execution_count": 8,
      "id": "9909b0ed-8d0b-40f7-807d-d7a6927b8d8c",
      "metadata": {
        "id": "9909b0ed-8d0b-40f7-807d-d7a6927b8d8c"
      },
      "outputs": [],
      "source": [
        "import re\n",
        "\n",
        "def clean_text(text):\n",
        "    # Remove text in brackets\n",
        "    text = re.sub(r'\\[.*?\\]', '', text)\n",
        "    return text.strip()\n",
        "\n",
        "# Apply to the entire dataset\n",
        "df['Cleaned_Text'] = df['Text'].apply(clean_text)\n"
      ]
    },
    {
      "cell_type": "markdown",
      "id": "b43da7a1",
      "metadata": {
        "id": "b43da7a1"
      },
      "source": [
        "### Converting Text to Lowercase\n",
        "\n",
        "This step standardizes the text data by converting all characters to lowercase:\n",
        "\n",
        "1. **`str.lower()` Method**:\n",
        "   - Transforms all uppercase letters in the `Cleaned_Text` column to lowercase.\n",
        "\n",
        "2. **Purpose**:\n",
        "   - Ensures uniformity in the text data.\n",
        "   - Avoids treating words like \"Hello\" and \"hello\" as different during analysis or modeling.\n",
        "\n",
        "\n",
        "\n"
      ]
    },
    {
      "cell_type": "code",
      "execution_count": 9,
      "id": "ab57c934-51f2-480d-92be-7d660471bc91",
      "metadata": {
        "id": "ab57c934-51f2-480d-92be-7d660471bc91"
      },
      "outputs": [],
      "source": [
        "df['Cleaned_Text'] = df['Cleaned_Text'].str.lower()\n"
      ]
    },
    {
      "cell_type": "markdown",
      "id": "fb7f6045",
      "metadata": {
        "id": "fb7f6045"
      },
      "source": [
        "### Viewing Sample Text Data\n",
        "\n",
        "Displays 10 random rows from the `Text` and `Cleaned_Text` columns to compare the original and cleaned text. This helps verify the effectiveness of the cleaning process.\n",
        "\n",
        "\n"
      ]
    },
    {
      "cell_type": "code",
      "execution_count": 10,
      "id": "7f2aa437-7758-4d5f-ba33-23d36cac3ea5",
      "metadata": {
        "colab": {
          "base_uri": "https://localhost:8080/"
        },
        "id": "7f2aa437-7758-4d5f-ba33-23d36cac3ea5",
        "outputId": "c3cc8c9c-d296-4581-de88-9a0698ea61a0"
      },
      "outputs": [
        {
          "output_type": "stream",
          "name": "stdout",
          "text": [
            "                                                    Text  \\\n",
            "25476  Lorsque le magazine Time a reconnu « Vous » (Y...   \n",
            "1432   العقد الفريد في اثبات الفرد الشرعي من التقليد ...   \n",
            "31129  مبني بلغة بي إتش بي، ويعتمد على قواعد بيانات م...   \n",
            "20251  en el departamento hay tres operadores de tele...   \n",
            "12096  dezumflarea vestei de salvare în vederea cobor...   \n",
            "13311  ocymyrmex gordoni is een mierensoort uit de on...   \n",
            "23392  പ്രപഞ്ചത്തിലെ വസ്തുക്കളുടെ അന്തരീക്ഷത്തിന് പുറ...   \n",
            "21813  oyama station was opened on  april  the statio...   \n",
            "9321   پیغمبر اکرم صلی اللہ علیہ و آلہ و سلم  تمہارا ...   \n",
            "27837  μπορώ να πω φροντίστε, που σημαίνει να φροντίζ...   \n",
            "\n",
            "                                            Cleaned_Text  \n",
            "25476  lorsque le magazine time a reconnu « vous » (y...  \n",
            "1432   العقد الفريد في اثبات الفرد الشرعي من التقليد ...  \n",
            "31129  مبني بلغة بي إتش بي، ويعتمد على قواعد بيانات م...  \n",
            "20251  en el departamento hay tres operadores de tele...  \n",
            "12096  dezumflarea vestei de salvare în vederea cobor...  \n",
            "13311  ocymyrmex gordoni is een mierensoort uit de on...  \n",
            "23392  പ്രപഞ്ചത്തിലെ വസ്തുക്കളുടെ അന്തരീക്ഷത്തിന് പുറ...  \n",
            "21813  oyama station was opened on  april  the statio...  \n",
            "9321   پیغمبر اکرم صلی اللہ علیہ و آلہ و سلم  تمہارا ...  \n",
            "27837  μπορώ να πω φροντίστε, που σημαίνει να φροντίζ...  \n"
          ]
        }
      ],
      "source": [
        "print(df[['Text', 'Cleaned_Text']].sample(10))\n"
      ]
    },
    {
      "cell_type": "markdown",
      "id": "409d0c8a",
      "metadata": {
        "id": "409d0c8a"
      },
      "source": [
        "### Here we check null values on cleaned_Text\n"
      ]
    },
    {
      "cell_type": "code",
      "execution_count": 11,
      "id": "6908ee07-ee77-4de8-a4bf-e02df28d5a71",
      "metadata": {
        "colab": {
          "base_uri": "https://localhost:8080/"
        },
        "id": "6908ee07-ee77-4de8-a4bf-e02df28d5a71",
        "outputId": "a0ddbb21-e787-426e-825b-2426caf0ad4d"
      },
      "outputs": [
        {
          "output_type": "stream",
          "name": "stdout",
          "text": [
            "0\n"
          ]
        }
      ],
      "source": [
        "print(df['Cleaned_Text'].isnull().sum())\n"
      ]
    },
    {
      "cell_type": "markdown",
      "id": "2be0be42",
      "metadata": {
        "id": "2be0be42"
      },
      "source": [
        "### Viewing Sample Data\n",
        "\n",
        "Displays 10 random rows from the `Text`, `Language`, and `Cleaned_Text` columns to compare the original text, its language label, and the cleaned text. This helps verify the preprocessing and understand the dataset's structure.\n",
        "\n",
        "\n"
      ]
    },
    {
      "cell_type": "code",
      "execution_count": 12,
      "id": "9eec5d0f-9ae8-4991-8845-91693f24cac7",
      "metadata": {
        "colab": {
          "base_uri": "https://localhost:8080/"
        },
        "id": "9eec5d0f-9ae8-4991-8845-91693f24cac7",
        "outputId": "d3a303f2-dbc7-4ba7-fd12-5d6619fceb5f"
      },
      "outputs": [
        {
          "output_type": "stream",
          "name": "stdout",
          "text": [
            "                                                    Text    Language  \\\n",
            "25044                                          Meu Deus.  Portugeese   \n",
            "24953  para mim embaixo dele me dizendo qual dessas 1...  Portugeese   \n",
            "31901                        Sie waren Mellie und Terry.      German   \n",
            "1726   پښتو د سترې هندو اروپايي ژبنۍ کورنۍ په اَريايي...      Pushto   \n",
            "25425  Dans Anthropologie Structurale 2, Lévi-Strauss...      French   \n",
            "28769  og få disse beundrende udseende fra dine venne...      Danish   \n",
            "2944    juli  - pasukan thariq bin ziyad dibantu oleh...  Indonesian   \n",
            "25843  Le programme jouait au Jeu de Dames et s'améli...      French   \n",
            "26967  Una vez que la comunidad logra el consenso sob...     Spanish   \n",
            "16740  i̇stanbul üniversitesi hukuk fakültesinden  yı...     Turkish   \n",
            "\n",
            "                                            Cleaned_Text  \n",
            "25044                                          meu deus.  \n",
            "24953  para mim embaixo dele me dizendo qual dessas 1...  \n",
            "31901                        sie waren mellie und terry.  \n",
            "1726   پښتو د سترې هندو اروپايي ژبنۍ کورنۍ په اَريايي...  \n",
            "25425  dans anthropologie structurale 2, lévi-strauss...  \n",
            "28769  og få disse beundrende udseende fra dine venne...  \n",
            "2944   juli  - pasukan thariq bin ziyad dibantu oleh ...  \n",
            "25843  le programme jouait au jeu de dames et s'améli...  \n",
            "26967  una vez que la comunidad logra el consenso sob...  \n",
            "16740  i̇stanbul üniversitesi hukuk fakültesinden  yı...  \n"
          ]
        }
      ],
      "source": [
        "print(df[['Text', 'Language', 'Cleaned_Text']].sample(10))"
      ]
    },
    {
      "cell_type": "markdown",
      "id": "81f56e1f",
      "metadata": {
        "id": "81f56e1f"
      },
      "source": [
        "### Examining Language Distribution in the Dataset\n",
        "\n",
        "This step helps us understand the distribution of languages in the dataset. We perform the following tasks:\n",
        "\n",
        "1. **Count Language Occurrences**:\n",
        "   - The `value_counts()` method is used to calculate the frequency of each language in the dataset. This provides insight into how balanced or imbalanced the dataset is across different language categories.\n",
        "\n",
        "2. **Visualize the Distribution**:\n",
        "   - A bar plot is generated to visually represent the frequency of each language. This helps in identifying patterns or anomalies, such as overrepresented or underrepresented languages.\n",
        "\n",
        "Understanding the language distribution is crucial for:\n",
        "- Balancing the dataset, if necessary.\n",
        "- Ensuring the model is not biased toward the majority class.\n",
        "- Designing preprocessing and sampling strategies based on class representation.\n"
      ]
    },
    {
      "cell_type": "code",
      "execution_count": 13,
      "id": "ba2a5eb7-6150-4a80-9d08-e9befb0d660a",
      "metadata": {
        "colab": {
          "base_uri": "https://localhost:8080/",
          "height": 1000
        },
        "id": "ba2a5eb7-6150-4a80-9d08-e9befb0d660a",
        "outputId": "20c5086c-6126-406a-a631-3903a24a6138"
      },
      "outputs": [
        {
          "output_type": "stream",
          "name": "stdout",
          "text": [
            "Language\n",
            "English       2385\n",
            "French        2014\n",
            "Spanish       1819\n",
            "Russian       1692\n",
            "Dutch         1546\n",
            "Arabic        1536\n",
            "Turkish       1474\n",
            "Tamil         1469\n",
            "Hindi         1063\n",
            "Romanian      1000\n",
            "Persian       1000\n",
            "Pushto        1000\n",
            "Swedish       1000\n",
            "Estonian      1000\n",
            "Korean        1000\n",
            "Chinese       1000\n",
            "Portugese     1000\n",
            "Indonesian    1000\n",
            "Urdu          1000\n",
            "Latin         1000\n",
            "Japanese      1000\n",
            "Thai          1000\n",
            "Portugeese     739\n",
            "Italian        698\n",
            "Sweedish       676\n",
            "Malayalam      594\n",
            "German         470\n",
            "Danish         428\n",
            "Kannada        369\n",
            "Greek          365\n",
            "Name: count, dtype: int64\n"
          ]
        },
        {
          "output_type": "execute_result",
          "data": {
            "text/plain": [
              "<Axes: title={'center': 'Language Distribution'}, xlabel='Language'>"
            ]
          },
          "metadata": {},
          "execution_count": 13
        },
        {
          "output_type": "display_data",
          "data": {
            "text/plain": [
              "<Figure size 1000x600 with 1 Axes>"
            ],
            "image/png": "[encoded data removed]"
          },
          "metadata": {}
        }
      ],
      "source": [
        "language_count = df['Language'].value_counts()\n",
        "print(language_count)\n",
        "language_count.plot(kind='bar', figsize=(10, 6), title='Language Distribution')\n"
      ]
    },
    {
      "cell_type": "markdown",
      "id": "6b363ece",
      "metadata": {
        "id": "6b363ece"
      },
      "source": [
        "### Visualizing Language Distribution as Percentages\n",
        "\n",
        "This code generates a horizontal bar chart to visualize the distribution of languages in the dataset as percentages:\n",
        "\n",
        "1. **Calculating Percentages**:\n",
        "   - The `value_counts()` method counts the occurrences of each language.\n",
        "   - Percentages are calculated by dividing the counts by the total number of rows and multiplying by 100.\n",
        "\n",
        "2. **Purpose**:\n",
        "   - Provides a clear visual understanding of how the dataset is distributed across different languages.\n",
        "   - Highlights any imbalances that might affect model performance.\n"
      ]
    },
    {
      "cell_type": "code",
      "execution_count": 14,
      "id": "BPLTFMe8rOT1",
      "metadata": {
        "colab": {
          "base_uri": "https://localhost:8080/",
          "height": 646
        },
        "id": "BPLTFMe8rOT1",
        "outputId": "80b93be0-f726-4184-dcb6-a10e2ca36ad7"
      },
      "outputs": [
        {
          "output_type": "display_data",
          "data": {
            "text/plain": [
              "<Figure size 1200x800 with 1 Axes>"
            ],
            "image/png": "[encoded data removed]"
          },
          "metadata": {}
        }
      ],
      "source": [
        "import pandas as pd\n",
        "import matplotlib.pyplot as plt\n",
        "\n",
        "# Calculate the language counts\n",
        "language_counts = df['Language'].value_counts()\n",
        "\n",
        "# Extract languages and their corresponding percentages\n",
        "languages = language_counts.index.tolist()\n",
        "percentages = (language_counts.values / len(df) * 100).tolist()\n",
        "\n",
        "# Plot bar graph for language distribution percentages\n",
        "plt.figure(figsize=(12, 8))\n",
        "plt.barh(languages, percentages, color='green')\n",
        "plt.xlabel(\"Percentage (%)\")\n",
        "plt.ylabel(\"Languages\")\n",
        "plt.title(\"Language Distribution in Dataset (%)\")\n",
        "plt.grid(axis='x', linestyle='--', alpha=0.7)\n",
        "plt.tight_layout()\n",
        "plt.show()"
      ]
    },
    {
      "cell_type": "markdown",
      "id": "c6c2aa9b",
      "metadata": {
        "id": "c6c2aa9b"
      },
      "source": [
        "**Plotting the Distribution**:\n",
        "   - A horizontal bar chart (`barh`) is created to display the percentage of each language in the dataset.\n",
        "   - The plot includes:\n",
        "     - **X-axis**: Percentage of samples.\n",
        "     - **Y-axis**: Language names.\n",
        "     - **Title**: Describes the chart."
      ]
    },
    {
      "cell_type": "markdown",
      "id": "5d59f752",
      "metadata": {
        "id": "5d59f752"
      },
      "source": [
        "### verify the  any missing values"
      ]
    },
    {
      "cell_type": "code",
      "execution_count": 15,
      "id": "3d099fe7-67ed-4796-8683-7cfba8903b8f",
      "metadata": {
        "colab": {
          "base_uri": "https://localhost:8080/"
        },
        "id": "3d099fe7-67ed-4796-8683-7cfba8903b8f",
        "outputId": "5a573880-b416-4f1c-95c7-e54787a39865"
      },
      "outputs": [
        {
          "output_type": "stream",
          "name": "stdout",
          "text": [
            "Text            0\n",
            "Language        0\n",
            "Cleaned_Text    0\n",
            "dtype: int64\n"
          ]
        }
      ],
      "source": [
        "print(df.isnull().sum())\n"
      ]
    },
    {
      "cell_type": "markdown",
      "id": "1abd3138",
      "metadata": {
        "id": "1abd3138"
      },
      "source": [
        "### verify shape after cleaning datset"
      ]
    },
    {
      "cell_type": "code",
      "execution_count": 16,
      "id": "T8hH1mEGoyYj",
      "metadata": {
        "colab": {
          "base_uri": "https://localhost:8080/"
        },
        "id": "T8hH1mEGoyYj",
        "outputId": "35f73961-7ff5-4304-cdad-59c95851a91d"
      },
      "outputs": [
        {
          "output_type": "stream",
          "name": "stdout",
          "text": [
            "(32337, 3)\n"
          ]
        }
      ],
      "source": [
        "print(df.shape)"
      ]
    },
    {
      "cell_type": "markdown",
      "id": "adde733c-fe86-4241-8e86-3518ec787ae5",
      "metadata": {
        "id": "adde733c-fe86-4241-8e86-3518ec787ae5"
      },
      "source": [
        " # Split the Data"
      ]
    },
    {
      "cell_type": "markdown",
      "id": "c76a2971",
      "metadata": {
        "id": "c76a2971"
      },
      "source": [
        "### Splitting the Dataset\n",
        "\n",
        "This code splits the dataset into training and testing subsets:\n",
        "\n",
        "1. **Features (`X`) and Labels (`y`)**:\n",
        "   - `X`: The `Cleaned_Text` column, which contains the preprocessed text data.\n",
        "   - `y`: The `Language` column, which contains the corresponding language labels.\n",
        "\n",
        "2. **`train_test_split` Function**:\n",
        "   - Splits the data into:\n",
        "     - `X_train` and `y_train`: For training the model.\n",
        "     - `X_test` and `y_test`: For evaluating the model's performance.\n",
        "   - `test_size=0.2`: 20% of the data is allocated to the test set.\n",
        "   - `random_state=42`: Ensures reproducibility by producing the same split every time.\n",
        "\n",
        "3. **Purpose**:\n",
        "   - Separates data for training and validation to prevent overfitting.\n",
        "   - Ensures the model is tested on unseen data for reliable performance evaluation.\n"
      ]
    },
    {
      "cell_type": "code",
      "execution_count": 17,
      "id": "4cb05000-568a-48d1-ada4-8dc7b4fdca37",
      "metadata": {
        "colab": {
          "base_uri": "https://localhost:8080/"
        },
        "id": "4cb05000-568a-48d1-ada4-8dc7b4fdca37",
        "outputId": "17b61b70-356d-480c-e1d0-27c34dc9d290"
      },
      "outputs": [
        {
          "output_type": "stream",
          "name": "stdout",
          "text": [
            "Index(['Text', 'Language', 'Cleaned_Text'], dtype='object')\n"
          ]
        }
      ],
      "source": [
        "# just check the columns name\n",
        "print(df.columns)"
      ]
    },
    {
      "cell_type": "code",
      "execution_count": 18,
      "id": "11a5cecf-b371-433e-ac7a-73de15befe80",
      "metadata": {
        "id": "11a5cecf-b371-433e-ac7a-73de15befe80"
      },
      "outputs": [],
      "source": [
        "# split dataset\n",
        "from sklearn.model_selection import train_test_split\n",
        "\n",
        "X = df['Cleaned_Text']\n",
        "y = df['Language']\n",
        "X_train,X_test,y_train,y_test = train_test_split(X,y,random_state=42,test_size=0.2)"
      ]
    },
    {
      "cell_type": "markdown",
      "id": "18efad1b",
      "metadata": {
        "id": "18efad1b"
      },
      "source": [
        "# Encoding Labels for Training\n",
        "\n",
        "This code encodes the language labels into numerical format using `LabelEncoder`:\n",
        "\n",
        "1. **`LabelEncoder` Initialization**:\n",
        "   - `LabelEncoder` is a preprocessing tool from `sklearn` that converts categorical data into numerical values.\n",
        "\n",
        "2. **Fitting and Transforming**:\n",
        "   - `le.fit_transform(y_train)`:\n",
        "     - Learns the unique classes in `y_train`.\n",
        "     - Converts each class (language) into a unique integer.\n",
        "\n",
        "3. **`le.classes_`**:\n",
        "   - Lists all the unique classes (languages) in the dataset in the order they are encoded.\n",
        "\n",
        "4. **Purpose**:\n",
        "   - Converts categorical labels into numerical form required by machine learning models.\n",
        "   - Ensures consistent mapping between languages and their numerical representations.\n"
      ]
    },
    {
      "cell_type": "code",
      "execution_count": 19,
      "id": "c6ae9e0d-dfab-4491-812a-642901df2fcb",
      "metadata": {
        "colab": {
          "base_uri": "https://localhost:8080/"
        },
        "id": "c6ae9e0d-dfab-4491-812a-642901df2fcb",
        "outputId": "3fffa547-5b02-4a84-a577-a274e0aab758"
      },
      "outputs": [
        {
          "output_type": "execute_result",
          "data": {
            "text/plain": [
              "array(['Arabic', 'Chinese', 'Danish', 'Dutch', 'English', 'Estonian',\n",
              "       'French', 'German', 'Greek', 'Hindi', 'Indonesian', 'Italian',\n",
              "       'Japanese', 'Kannada', 'Korean', 'Latin', 'Malayalam', 'Persian',\n",
              "       'Portugeese', 'Portugese', 'Pushto', 'Romanian', 'Russian',\n",
              "       'Spanish', 'Swedish', 'Sweedish', 'Tamil', 'Thai', 'Turkish',\n",
              "       'Urdu'], dtype=object)"
            ]
          },
          "metadata": {},
          "execution_count": 19
        }
      ],
      "source": [
        "le =LabelEncoder()\n",
        "y_train= le.fit_transform(y_train)\n",
        "le.classes_"
      ]
    },
    {
      "cell_type": "markdown",
      "id": "64611093",
      "metadata": {
        "id": "64611093"
      },
      "source": [
        "### Transforming Test Labels\n",
        "\n",
        "This code converts the `y_test` labels into numerical format using the previously fitted `LabelEncoder`:\n",
        "\n",
        "1. **`le.transform(y_test)`**:\n",
        "   - Transforms the language labels in `y_test` to their corresponding numeric values based on the encoding learned during `le.fit_transform(y_train)`.\n",
        "\n",
        "2. **Purpose**:\n",
        "   - Ensures that the same label-to-integer mapping is applied to both training and test sets for consistency.\n",
        "   - Prepares the `y_test` labels for evaluation during model testing.\n"
      ]
    },
    {
      "cell_type": "code",
      "execution_count": 20,
      "id": "b120b3ca-c818-4c18-9469-1bbbfe260bc0",
      "metadata": {
        "id": "b120b3ca-c818-4c18-9469-1bbbfe260bc0"
      },
      "outputs": [],
      "source": [
        "y_test = le.transform(y_test)"
      ]
    },
    {
      "cell_type": "markdown",
      "id": "fae85f52",
      "metadata": {
        "id": "fae85f52"
      },
      "source": [
        "# Tokenizing Text Data\n",
        "\n",
        "This code prepares the text data for deep learning by converting it into sequences of integers:\n",
        "\n",
        "1. **Initializing the Tokenizer**:\n",
        "   - `Tokenizer(num_words=40000)`:\n",
        "     - Limits the vocabulary to the top 40,000 most frequent words in the training data.\n",
        "     - Helps in reducing memory usage and focusing on the most relevant words.\n",
        "\n",
        "2. **Fitting the Tokenizer**:\n",
        "   - `tokenizer.fit_on_texts(X_train)`:\n",
        "     - Builds the vocabulary based on the `X_train` data.\n",
        "     - Assigns a unique integer to each word in the vocabulary.\n",
        "\n",
        "3. **Converting Text to Sequences**:\n",
        "   - `texts_to_sequences(X_train)` and `texts_to_sequences(X_test)`:\n",
        "     - Transforms the text in `X_train` and `X_test` into sequences of integers where each integer corresponds to a word in the tokenizer's vocabulary.\n",
        "\n",
        "4. **Purpose**:\n",
        "   - Converts textual data into numerical format required for input to deep learning models.\n",
        "   - Ensures that both training and test data are tokenized using the same vocabulary.\n"
      ]
    },
    {
      "cell_type": "code",
      "execution_count": 21,
      "id": "e56b95c3-58ff-4e4c-b12f-e081d3657926",
      "metadata": {
        "id": "e56b95c3-58ff-4e4c-b12f-e081d3657926"
      },
      "outputs": [],
      "source": [
        "tokenizer = Tokenizer(num_words=40000)\n",
        "tokenizer.fit_on_texts(X_train)\n",
        "X_train_seq = tokenizer.texts_to_sequences(X_train)\n",
        "X_test_seq = tokenizer.texts_to_sequences(X_test)"
      ]
    },
    {
      "cell_type": "markdown",
      "id": "eb7960d7",
      "metadata": {
        "id": "eb7960d7"
      },
      "source": [
        "# Padding Sequences\n",
        "\n",
        "This code ensures that all input sequences have the same length, making them suitable for deep learning models:\n",
        "\n",
        "1. **`pad_sequences` Function**:\n",
        "   - Converts sequences of varying lengths into fixed-length sequences by adding padding.\n",
        "\n",
        "2. **Parameters**:\n",
        "   - `X_train_seq` and `X_test_seq`: Input sequences to be padded.\n",
        "   - `maxlen=100`: Ensures all sequences are either truncated or padded to a maximum length of 100.\n",
        "   - `padding='post'`: Adds padding at the end of each sequence.\n",
        "\n",
        "3. **Purpose**:\n",
        "   - Standardizes the input size for the model.\n",
        "   - Prevents issues caused by varying sequence lengths during training and testing.\n"
      ]
    },
    {
      "cell_type": "code",
      "execution_count": 22,
      "id": "7f207906-1094-4d43-82e0-22093701484e",
      "metadata": {
        "id": "7f207906-1094-4d43-82e0-22093701484e"
      },
      "outputs": [],
      "source": [
        "X_train_padded = pad_sequences(X_train_seq,maxlen=100,padding='post')\n",
        "X_test_padded = pad_sequences(X_test_seq,maxlen=100,padding='post')"
      ]
    },
    {
      "cell_type": "markdown",
      "id": "fab53cc6",
      "metadata": {
        "id": "fab53cc6"
      },
      "source": [
        "# Explanation of below code\n",
        "- **`input_dim`**: This represents the number of unique words in the tokenizer, which is crucial for defining the size of the input layer of the neural network. It is obtained using `tokenizer.num_words`. We use this to create an embedding layer that can map each unique word to a vector of real numbers.\n",
        "  \n",
        "- **`embedding_dim`**: This specifies the dimensionality of the word embeddings (i.e., the size of the vector for each word). We set it to 128, a commonly used value that balances model complexity and performance. The embedding layer will learn a vector representation of each word, which helps in capturing semantic relationships between words.\n",
        "\n",
        "- **`max_length`**: This represents the maximum length of the input sequences. We set it using `X_train_padded.shape[1]`, which is the length of the padded sequences. Padding ensures that all sequences in the input data have the same length, which is required for processing them in batches by the neural network.\n",
        "\n",
        "- **`num_classes`**: This is the number of unique labels (or classes) in the dataset. We determine it using `len(le.classes_)`. It is used to define the output layer of the model, ensuring that the network can classify the input into one of these classes.\n",
        "\n",
        "- **`max_length` (again)**: This is repeated to emphasize that it's an important parameter when working with sequences, as it defines the maximum number of tokens in each input sequence.\n",
        "\n"
      ]
    },
    {
      "cell_type": "code",
      "execution_count": 23,
      "id": "0cdd6cee-3087-46c3-b543-e9201e5fa13c",
      "metadata": {
        "colab": {
          "base_uri": "https://localhost:8080/"
        },
        "id": "0cdd6cee-3087-46c3-b543-e9201e5fa13c",
        "outputId": "7e8d69e0-ed9f-4eb7-b1bc-9675b9e2205d"
      },
      "outputs": [
        {
          "output_type": "execute_result",
          "data": {
            "text/plain": [
              "100"
            ]
          },
          "metadata": {},
          "execution_count": 23
        }
      ],
      "source": [
        "input_dim = tokenizer.num_words\n",
        "embedding_dim = 128\n",
        "max_lenght = X_train_padded.shape[1]\n",
        "num_classes = len(le.classes_)\n",
        "max_lenght"
      ]
    },
    {
      "cell_type": "markdown",
      "id": "5e1934dc",
      "metadata": {
        "id": "5e1934dc"
      },
      "source": [
        "# saving cleaned dataset\n",
        "This code saves the cleaned dataset to a new CSV file named `cleaned_dataset.csv` and prints a confirmation message indicating the successful save. It is useful for storing processed data for future use or analysis.\n",
        "\n"
      ]
    },
    {
      "cell_type": "code",
      "execution_count": 24,
      "id": "FUIPE2tOp89w",
      "metadata": {
        "colab": {
          "base_uri": "https://localhost:8080/"
        },
        "id": "FUIPE2tOp89w",
        "outputId": "f521a9a6-1ced-4947-9691-aa54f4c3881f"
      },
      "outputs": [
        {
          "output_type": "stream",
          "name": "stdout",
          "text": [
            "Cleaned dataset saved as 'cleaned_dataset.csv'.\n"
          ]
        }
      ],
      "source": [
        "# Save the cleaned dataset to a new CSV file\n",
        "df.to_csv('cleaned_dataset.csv', index=False)\n",
        "\n",
        "print(\"Cleaned dataset saved as 'cleaned_dataset.csv'.\")\n"
      ]
    },
    {
      "cell_type": "markdown",
      "source": [
        "# Why Use `joblib`?\n",
        "\n",
        "We used `joblib` to save the tokenizer and label encoder because:\n",
        "\n",
        "1. **Efficiency:** It's optimized for handling large objects, like transformers or models, faster than `pickle`.\n",
        "2. **Compression:** Creates smaller, compressed files for better storage management.\n",
        "3. **Ease of Use:** Simple `dump` and `load` methods for saving and reloading objects.\n",
        "4. **Reliability:** Handles complex objects like NumPy arrays without issues.\n"
      ],
      "metadata": {
        "id": "RC4wZRgJtl2c"
      },
      "id": "RC4wZRgJtl2c"
    },
    {
      "cell_type": "code",
      "source": [
        "import joblib\n",
        "\n",
        "joblib.dump(tokenizer, 'tokenizer.joblib')\n",
        "\n",
        "joblib.dump(le, 'label_encoder.joblib')\n"
      ],
      "metadata": {
        "colab": {
          "base_uri": "https://localhost:8080/"
        },
        "id": "IqJGI9z5tu6D",
        "outputId": "eecf62ab-5ed7-4b76-ab10-d9f4fad398c7"
      },
      "id": "IqJGI9z5tu6D",
      "execution_count": 26,
      "outputs": [
        {
          "output_type": "execute_result",
          "data": {
            "text/plain": [
              "['label_encoder.joblib']"
            ]
          },
          "metadata": {},
          "execution_count": 26
        }
      ]
    }
  ],
  "metadata": {
    "language_info": {
      "name": "python"
    },
    "colab": {
      "provenance": []
    },
    "kernelspec": {
      "name": "python3",
      "display_name": "Python 3"
    }
  },
  "nbformat": 4,
  "nbformat_minor": 5
}