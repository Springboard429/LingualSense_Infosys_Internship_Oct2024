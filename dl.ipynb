{
 "cells": [
  {
   "cell_type": "code",
   "execution_count": 15,
   "id": "d341d398-7d2e-454f-a695-7853fcf4f50d",
   "metadata": {
    "scrolled": true
   },
   "outputs": [],
   "source": [
    "import pandas as pd\n",
    "import re\n",
    "import matplotlib.pyplot as plt\n",
    "import seaborn as sns\n",
    "from collections import Counter\n",
    "import nltk\n",
    "from nltk.corpus import stopwords\n",
    "from tensorflow.keras.preprocessing.text import Tokenizer\n",
    "from tensorflow.keras.preprocessing.sequence import pad_sequences\n",
    "import joblib\n",
    "from sklearn.feature_extraction.text import CountVectorizer\n",
    "from tensorflow.keras.models import Sequential\n",
    "from tensorflow.keras.layers import Embedding, LSTM, Dense, Dropout, Flatten, GRU\n",
    "from sklearn.preprocessing import LabelEncoder\n",
    "from sklearn.model_selection import train_test_split\n",
    "import pickle\n",
    "import tensorflow as tf\n",
    "import numpy as np"
   ]
  },
  {
   "cell_type": "code",
   "execution_count": 33,
   "id": "abab8896-382e-4136-a480-64eca6799404",
   "metadata": {},
   "outputs": [
    {
     "data": {
      "text/html": [
       "<div>\n",
       "<style scoped>\n",
       "    .dataframe tbody tr th:only-of-type {\n",
       "        vertical-align: middle;\n",
       "    }\n",
       "\n",
       "    .dataframe tbody tr th {\n",
       "        vertical-align: top;\n",
       "    }\n",
       "\n",
       "    .dataframe thead th {\n",
       "        text-align: right;\n",
       "    }\n",
       "</style>\n",
       "<table border=\"1\" class=\"dataframe\">\n",
       "  <thead>\n",
       "    <tr style=\"text-align: right;\">\n",
       "      <th></th>\n",
       "      <th>Text</th>\n",
       "      <th>Language</th>\n",
       "    </tr>\n",
       "  </thead>\n",
       "  <tbody>\n",
       "    <tr>\n",
       "      <th>0</th>\n",
       "      <td>klement gottwaldi surnukeha palsameeriti ning ...</td>\n",
       "      <td>Estonian</td>\n",
       "    </tr>\n",
       "    <tr>\n",
       "      <th>1</th>\n",
       "      <td>sebes joseph pereira thomas  på eng the jesuit...</td>\n",
       "      <td>Swedish</td>\n",
       "    </tr>\n",
       "    <tr>\n",
       "      <th>2</th>\n",
       "      <td>ถนนเจริญกรุง อักษรโรมัน thanon charoen krung เ...</td>\n",
       "      <td>Thai</td>\n",
       "    </tr>\n",
       "    <tr>\n",
       "      <th>3</th>\n",
       "      <td>விசாகப்பட்டினம் தமிழ்ச்சங்கத்தை இந்துப் பத்திர...</td>\n",
       "      <td>Tamil</td>\n",
       "    </tr>\n",
       "    <tr>\n",
       "      <th>4</th>\n",
       "      <td>de spons behoort tot het geslacht haliclona en...</td>\n",
       "      <td>Dutch</td>\n",
       "    </tr>\n",
       "    <tr>\n",
       "      <th>5</th>\n",
       "      <td>エノが行きがかりでバスに乗ってしまい、気分が悪くなった際に助けるが、今すぐバスを降りたいと運...</td>\n",
       "      <td>Japanese</td>\n",
       "    </tr>\n",
       "    <tr>\n",
       "      <th>6</th>\n",
       "      <td>tsutinalar i̇ngilizce tsuutina kanadada albert...</td>\n",
       "      <td>Turkish</td>\n",
       "    </tr>\n",
       "    <tr>\n",
       "      <th>7</th>\n",
       "      <td>müller mox figura centralis circulorum doctoru...</td>\n",
       "      <td>Latin</td>\n",
       "    </tr>\n",
       "    <tr>\n",
       "      <th>8</th>\n",
       "      <td>برقی بار electric charge تمام زیرجوہری ذرات کی...</td>\n",
       "      <td>Urdu</td>\n",
       "    </tr>\n",
       "    <tr>\n",
       "      <th>9</th>\n",
       "      <td>シャーリー・フィールドは、サン・ベルナルド・アベニュー沿い市民センターとrtマーティン高校に...</td>\n",
       "      <td>Japanese</td>\n",
       "    </tr>\n",
       "  </tbody>\n",
       "</table>\n",
       "</div>"
      ],
      "text/plain": [
       "                                                Text  Language\n",
       "0  klement gottwaldi surnukeha palsameeriti ning ...  Estonian\n",
       "1  sebes joseph pereira thomas  på eng the jesuit...   Swedish\n",
       "2  ถนนเจริญกรุง อักษรโรมัน thanon charoen krung เ...      Thai\n",
       "3  விசாகப்பட்டினம் தமிழ்ச்சங்கத்தை இந்துப் பத்திர...     Tamil\n",
       "4  de spons behoort tot het geslacht haliclona en...     Dutch\n",
       "5  エノが行きがかりでバスに乗ってしまい、気分が悪くなった際に助けるが、今すぐバスを降りたいと運...  Japanese\n",
       "6  tsutinalar i̇ngilizce tsuutina kanadada albert...   Turkish\n",
       "7  müller mox figura centralis circulorum doctoru...     Latin\n",
       "8  برقی بار electric charge تمام زیرجوہری ذرات کی...      Urdu\n",
       "9  シャーリー・フィールドは、サン・ベルナルド・アベニュー沿い市民センターとrtマーティン高校に...  Japanese"
      ]
     },
     "execution_count": 33,
     "metadata": {},
     "output_type": "execute_result"
    }
   ],
   "source": [
    "dataset=pd.read_csv(\"Language Detection.csv\")\n",
    "dataset.head(10)"
   ]
  },
  {
   "cell_type": "code",
   "execution_count": 2,
   "id": "b0a8dd5c-6fb1-4b6f-8fb1-0ac00e522967",
   "metadata": {},
   "outputs": [
    {
     "name": "stdout",
     "output_type": "stream",
     "text": [
      "Cleaned dataset saved to Lingual_data_cleaned.csv\n"
     ]
    }
   ],
   "source": [
    "# Block 3: Preprocess Dataset\n",
    "def clean_text(text):\n",
    "    text = re.sub(r'http\\S+', '', text)  # Remove URLs\n",
    "    text = re.sub(r'@[A-Za-z0-9]+', '', text)  # Remove mentions\n",
    "    text = re.sub(r'#', '', text)  # Remove hashtags\n",
    "    text = re.sub(r'[^\\w\\s]', '', text)  # Remove special characters\n",
    "    text = re.sub(r'\\d+', '', text)  # Remove numbers\n",
    "    text = text.lower()  # Convert to lowercase\n",
    "    return text\n",
    "\n",
    "# Apply preprocessing\n",
    "dataset.dropna(subset=['Text', 'Language'], inplace=True)\n",
    "dataset.drop_duplicates(inplace=True)\n",
    "dataset['Cleaned_Text'] = dataset['Text'].apply(clean_text)\n",
    "\n",
    "# Save cleaned dataset\n",
    "cleaned_file = \"Lingual_data_cleaned.csv\"\n",
    "dataset.to_csv(cleaned_file, index=False)\n",
    "print(f\"Cleaned dataset saved to {cleaned_file}\")"
   ]
  },
  {
   "cell_type": "code",
   "execution_count": 31,
   "id": "787eb6d8-e2d7-40a7-9a61-f70a57a6c60c",
   "metadata": {},
   "outputs": [
    {
     "name": "stdout",
     "output_type": "stream",
     "text": [
      "Dataset Overview:\n",
      "Shape: (32130, 3)\n",
      "Columns: ['Text', 'Language', 'Cleaned_Text']\n",
      "\n",
      "Data Types:\n",
      " Text            object\n",
      "Language        object\n",
      "Cleaned_Text    object\n",
      "dtype: object\n",
      "\n",
      "Missing Values Per Column:\n",
      " Text            0\n",
      "Language        0\n",
      "Cleaned_Text    4\n",
      "dtype: int64\n",
      "\n",
      "Sample of Data:\n",
      "                                                 Text  Language  \\\n",
      "0  klement gottwaldi surnukeha palsameeriti ning ...  Estonian   \n",
      "1  sebes joseph pereira thomas  på eng the jesuit...   Swedish   \n",
      "2  ถนนเจริญกรุง อักษรโรมัน thanon charoen krung เ...      Thai   \n",
      "3  விசாகப்பட்டினம் தமிழ்ச்சங்கத்தை இந்துப் பத்திர...     Tamil   \n",
      "4  de spons behoort tot het geslacht haliclona en...     Dutch   \n",
      "\n",
      "                                        Cleaned_Text  \n",
      "0  klement gottwaldi surnukeha palsameeriti ning ...  \n",
      "1  sebes joseph pereira thomas  på eng the jesuit...  \n",
      "2  ถนนเจรญกรง อกษรโรมน thanon charoen krung เรมตง...  \n",
      "3  வசகபபடடனம தமழசசஙகதத இநதப பததரகவசகபபடடன ஆசரயர ச...  \n",
      "4  de spons behoort tot het geslacht haliclona en...  \n",
      "\n",
      "Number of Duplicate Rows: 0\n"
     ]
    }
   ],
   "source": [
    "# Load the dataset\n",
    "data = pd.read_csv(\"Lingual_data_cleaned.csv\")\n",
    "\n",
    "# Dataset Exploration\n",
    "print(\"Dataset Overview:\")\n",
    "print(f\"Shape: {data.shape}\")\n",
    "print(f\"Columns: {list(data.columns)}\")\n",
    "print(\"\\nData Types:\\n\", data.dtypes)\n",
    "print(\"\\nMissing Values Per Column:\\n\", data.isnull().sum())\n",
    "print(\"\\nSample of Data:\\n\", data.head())\n",
    "print(\"\\nNumber of Duplicate Rows:\", data.duplicated().sum())"
   ]
  },
  {
   "cell_type": "code",
   "execution_count": 17,
   "id": "d5bcdd89-f56b-496c-b64f-435f7104dcad",
   "metadata": {},
   "outputs": [
    {
     "name": "stdout",
     "output_type": "stream",
     "text": [
      "\n",
      "Language Distribution Summary:\n",
      "Language\n",
      "English       2382\n",
      "French        1997\n",
      "Spanish       1812\n",
      "Russian       1687\n",
      "Dutch         1538\n",
      "Arabic        1530\n",
      "Turkish       1471\n",
      "Tamil         1445\n",
      "Hindi         1052\n",
      "Persian       1000\n",
      "Thai          1000\n",
      "Japanese      1000\n",
      "Urdu          1000\n",
      "Chinese       1000\n",
      "Korean        1000\n",
      "Romanian      1000\n",
      "Estonian       999\n",
      "Portugese      997\n",
      "Pushto         993\n",
      "Swedish        992\n",
      "Indonesian     975\n",
      "Latin          953\n",
      "Portugeese     736\n",
      "Italian        694\n",
      "Sweedish       673\n",
      "Malayalam      591\n",
      "German         465\n",
      "Danish         424\n",
      "Kannada        366\n",
      "Greek          358\n",
      "Name: count, dtype: int64\n"
     ]
    },
    {
     "name": "stderr",
     "output_type": "stream",
     "text": [
      "C:\\Users\\aksha\\AppData\\Local\\Temp\\ipykernel_19384\\1479120577.py:8: FutureWarning: \n",
      "\n",
      "Passing `palette` without assigning `hue` is deprecated and will be removed in v0.14.0. Assign the `y` variable to `hue` and set `legend=False` for the same effect.\n",
      "\n",
      "  sns.barplot(\n"
     ]
    },
    {
     "data": {
      "image/png": "[encoded data removed]",
      "text/plain": [
       "<Figure size 1000x600 with 1 Axes>"
      ]
     },
     "metadata": {},
     "output_type": "display_data"
    }
   ],
   "source": [
    "# Class Distribution Analysis\n",
    "if \"Language\" in data.columns:\n",
    "    print(\"\\nLanguage Distribution Summary:\")\n",
    "    print(data[\"Language\"].value_counts())\n",
    "\n",
    "    # Visualize language distribution\n",
    "    plt.figure(figsize=(10, 6))\n",
    "    sns.barplot(\n",
    "        y=data[\"Language\"].value_counts().index,\n",
    "        x=data[\"Language\"].value_counts().values,\n",
    "        palette=\"viridis\"\n",
    "    )\n",
    "    plt.title(\"Language Distribution in Dataset\")\n",
    "    plt.xlabel(\"Count\")\n",
    "    plt.ylabel(\"Language\")\n",
    "    plt.tight_layout()\n",
    "    plt.show()"
   ]
  },
  {
   "cell_type": "code",
   "execution_count": 20,
   "id": "3b24e5be-b8f9-4318-a9e3-f5ce7b38c849",
   "metadata": {},
   "outputs": [
    {
     "name": "stderr",
     "output_type": "stream",
     "text": [
      "C:\\Users\\aksha\\AppData\\Local\\Temp\\ipykernel_19384\\1505528281.py:8: FutureWarning: \n",
      "\n",
      "Passing `palette` without assigning `hue` is deprecated and will be removed in v0.14.0. Assign the `y` variable to `hue` and set `legend=False` for the same effect.\n",
      "\n",
      "  sns.barplot(x='Count', y='Word', data=common_words_df, palette=\"coolwarm\")\n",
      "C:\\Users\\aksha\\AppData\\Local\\Temp\\ipykernel_19384\\1505528281.py:12: UserWarning: Glyph 2325 (\\N{DEVANAGARI LETTER KA}) missing from current font.\n",
      "  plt.tight_layout()\n",
      "C:\\Users\\aksha\\AppData\\Local\\Temp\\ipykernel_19384\\1505528281.py:12: UserWarning: Matplotlib currently does not support Devanagari natively.\n",
      "  plt.tight_layout()\n",
      "C:\\Users\\aksha\\AppData\\Local\\Temp\\ipykernel_19384\\1505528281.py:12: UserWarning: Glyph 2361 (\\N{DEVANAGARI LETTER HA}) missing from current font.\n",
      "  plt.tight_layout()\n",
      "C:\\Users\\aksha\\anaconda3\\Lib\\site-packages\\IPython\\core\\pylabtools.py:170: UserWarning: Glyph 2325 (\\N{DEVANAGARI LETTER KA}) missing from current font.\n",
      "  fig.canvas.print_figure(bytes_io, **kw)\n",
      "C:\\Users\\aksha\\anaconda3\\Lib\\site-packages\\IPython\\core\\pylabtools.py:170: UserWarning: Matplotlib currently does not support Devanagari natively.\n",
      "  fig.canvas.print_figure(bytes_io, **kw)\n",
      "C:\\Users\\aksha\\anaconda3\\Lib\\site-packages\\IPython\\core\\pylabtools.py:170: UserWarning: Glyph 2361 (\\N{DEVANAGARI LETTER HA}) missing from current font.\n",
      "  fig.canvas.print_figure(bytes_io, **kw)\n"
     ]
    },
    {
     "data": {
      "image/png": "[encoded data removed]",
      "text/plain": [
       "<Figure size 1000x600 with 1 Axes>"
      ]
     },
     "metadata": {},
     "output_type": "display_data"
    }
   ],
   "source": [
    "# Top 10 Most Common Words\n",
    "from collections import Counter\n",
    "all_words = ' '.join(data['Cleaned_Text']).split()\n",
    "common_words = Counter(all_words).most_common(10)\n",
    "common_words_df = pd.DataFrame(common_words, columns=['Word', 'Count'])\n",
    "\n",
    "plt.figure(figsize=(10, 6))\n",
    "sns.barplot(x='Count', y='Word', data=common_words_df, palette=\"coolwarm\")\n",
    "plt.title(\"Top 10 Most Common Words\")\n",
    "plt.xlabel(\"Count\")\n",
    "plt.ylabel(\"Word\")\n",
    "plt.tight_layout()\n",
    "plt.show()"
   ]
  },
  {
   "cell_type": "code",
   "execution_count": 35,
   "id": "01ef6da0-a0ea-4ac0-a388-4628aa5717aa",
   "metadata": {},
   "outputs": [
    {
     "name": "stdout",
     "output_type": "stream",
     "text": [
      "\n",
      "Duplicate Rows After Handling: 0\n"
     ]
    }
   ],
   "source": [
    "#  Preprocessing\n",
    "# Handle missing values\n",
    "data.dropna(inplace=True)\n",
    "\n",
    "# Remove duplicates\n",
    "data.drop_duplicates(inplace=True)\n",
    "print(\"\\nDuplicate Rows After Handling:\", data.duplicated().sum())\n",
    "\n",
    "# Clean text\n",
    "def clean_text(text):\n",
    "    text = re.sub(r'\\\\', '', text)       # Remove backslashes\n",
    "    text = re.sub(r'\\n', ' ', text)      # Replace line breaks with a space\n",
    "    text = re.sub(r'\\s+', ' ', text)     # Replace multiple spaces with a single space\n",
    "    text = re.sub(r'[^\\w\\s]', '', text)  # Remove special characters\n",
    "    text = re.sub(r'\\d+', '', text)      # Remove numbers\n",
    "    text = text.strip()                   # Remove leading and trailing whitespaces\n",
    "    return text\n",
    "\n",
    "data['Cleaned_Text'] = data['Cleaned_Text'].apply(clean_text)\n",
    "# Save clean dataset\n",
    "data.to_csv(\"new_merged_dataset.csv\", index=False)"
   ]
  },
  {
   "cell_type": "code",
   "execution_count": 37,
   "id": "3279cc05-29ab-420c-887c-e2887fd05b75",
   "metadata": {},
   "outputs": [],
   "source": [
    "file_path = 'new_merged_dataset.csv'\n",
    "df = pd.read_csv(file_path)\n",
    "\n",
    "word_column = 'Cleaned_Text'\n",
    "\n",
    "df = df[df[word_column].notna() & (df[word_column] != '')]\n",
    "\n",
    "tokenizer = Tokenizer()\n",
    "\n",
    "tokenizer.fit_on_texts(df[word_column])\n",
    "\n",
    "sequences = tokenizer.texts_to_sequences(df[word_column])\n",
    "\n",
    "\n",
    "max_length = max([len(seq) for seq in sequences])\n",
    "padded_sequences = pad_sequences(sequences, padding='post', maxlen=max_length)\n",
    "\n",
    "\n",
    "df['padded_sequences'] = list(padded_sequences)\n"
   ]
  },
  {
   "cell_type": "code",
   "execution_count": 7,
   "id": "e953c216-aa34-4bf1-a46a-2bf1e28ccd9f",
   "metadata": {},
   "outputs": [
    {
     "name": "stdout",
     "output_type": "stream",
     "text": [
      "Processed dataset saved to final_dataset.csv\n"
     ]
    }
   ],
   "source": [
    "# Save the updated dataset\n",
    "output_path = 'final_dataset.csv'\n",
    "df.to_csv(output_path, index=False)\n",
    "\n",
    "print(f\"Processed dataset saved to {output_path}\")"
   ]
  },
  {
   "cell_type": "code",
   "execution_count": 38,
   "id": "4b316cc8-45e6-4cdb-ac2c-f77e56eea455",
   "metadata": {},
   "outputs": [
    {
     "name": "stdout",
     "output_type": "stream",
     "text": [
      "Vectorizer has been saved as 'vectorizer.pkl'\n"
     ]
    }
   ],
   "source": [
    "# File path and dataset loading\n",
    "dataset_path = 'Lingual_data_cleaned.csv'\n",
    "data = pd.read_csv(dataset_path)\n",
    "\n",
    "# Specify the column containing cleaned text\n",
    "text_column = 'Cleaned_Text'\n",
    "\n",
    "# Handle missing values by filling them with an empty string\n",
    "data[text_column] = data[text_column].fillna('')\n",
    "# Initialize CountVectorizer with a feature limit\n",
    "vectorizer = CountVectorizer(max_features=10000)\n",
    "\n",
    "# Transform the text column into feature vectors\n",
    "features = vectorizer.fit_transform(data[text_column]).toarray()\n",
    "\n",
    "# Save the vectorizer model for reuse\n",
    "vectorizer_filename = 'vectorizer.pkl'\n",
    "joblib.dump(vectorizer, vectorizer_filename)\n",
    "\n",
    "print(f\"Vectorizer has been saved as '{vectorizer_filename}'\")\n"
   ]
  },
  {
   "cell_type": "code",
   "execution_count": 23,
   "id": "79bad687-fc6f-4bb5-a062-4ce6c9ec0811",
   "metadata": {},
   "outputs": [
    {
     "name": "stderr",
     "output_type": "stream",
     "text": [
      "C:\\Users\\aksha\\anaconda3\\Lib\\site-packages\\keras\\src\\layers\\reshaping\\flatten.py:37: UserWarning: Do not pass an `input_shape`/`input_dim` argument to a layer. When using Sequential models, prefer using an `Input(shape)` object as the first layer in the model instead.\n",
      "  super().__init__(**kwargs)\n"
     ]
    },
    {
     "name": "stdout",
     "output_type": "stream",
     "text": [
      "Epoch 1/15\n",
      "\u001b[1m402/402\u001b[0m \u001b[32m━━━━━━━━━━━━━━━━━━━━\u001b[0m\u001b[37m\u001b[0m \u001b[1m3s\u001b[0m 4ms/step - accuracy: 0.0561 - loss: 357.4233 - val_accuracy: 0.0735 - val_loss: 3.3519\n",
      "Epoch 2/15\n",
      "\u001b[1m402/402\u001b[0m \u001b[32m━━━━━━━━━━━━━━━━━━━━\u001b[0m\u001b[37m\u001b[0m \u001b[1m1s\u001b[0m 2ms/step - accuracy: 0.0739 - loss: 4.2620 - val_accuracy: 0.0735 - val_loss: 3.3224\n",
      "Epoch 3/15\n",
      "\u001b[1m402/402\u001b[0m \u001b[32m━━━━━━━━━━━━━━━━━━━━\u001b[0m\u001b[37m\u001b[0m \u001b[1m1s\u001b[0m 2ms/step - accuracy: 0.0740 - loss: 3.5502 - val_accuracy: 0.0735 - val_loss: 3.3100\n",
      "Epoch 4/15\n",
      "\u001b[1m402/402\u001b[0m \u001b[32m━━━━━━━━━━━━━━━━━━━━\u001b[0m\u001b[37m\u001b[0m \u001b[1m1s\u001b[0m 2ms/step - accuracy: 0.0727 - loss: 3.4098 - val_accuracy: 0.0735 - val_loss: 3.3050\n",
      "Epoch 5/15\n",
      "\u001b[1m402/402\u001b[0m \u001b[32m━━━━━━━━━━━━━━━━━━━━\u001b[0m\u001b[37m\u001b[0m \u001b[1m1s\u001b[0m 2ms/step - accuracy: 0.0758 - loss: 3.3617 - val_accuracy: 0.0735 - val_loss: 3.3029\n",
      "Epoch 6/15\n",
      "\u001b[1m402/402\u001b[0m \u001b[32m━━━━━━━━━━━━━━━━━━━━\u001b[0m\u001b[37m\u001b[0m \u001b[1m1s\u001b[0m 3ms/step - accuracy: 0.0747 - loss: 3.3786 - val_accuracy: 0.0735 - val_loss: 3.3020\n",
      "Epoch 7/15\n",
      "\u001b[1m402/402\u001b[0m \u001b[32m━━━━━━━━━━━━━━━━━━━━\u001b[0m\u001b[37m\u001b[0m \u001b[1m1s\u001b[0m 3ms/step - accuracy: 0.0788 - loss: 3.3235 - val_accuracy: 0.0735 - val_loss: 3.3014\n",
      "Epoch 8/15\n",
      "\u001b[1m402/402\u001b[0m \u001b[32m━━━━━━━━━━━━━━━━━━━━\u001b[0m\u001b[37m\u001b[0m \u001b[1m1s\u001b[0m 2ms/step - accuracy: 0.0750 - loss: 3.3229 - val_accuracy: 0.0735 - val_loss: 3.3012\n",
      "Epoch 9/15\n",
      "\u001b[1m402/402\u001b[0m \u001b[32m━━━━━━━━━━━━━━━━━━━━\u001b[0m\u001b[37m\u001b[0m \u001b[1m1s\u001b[0m 3ms/step - accuracy: 0.0746 - loss: 3.3108 - val_accuracy: 0.0735 - val_loss: 3.3012\n",
      "Epoch 10/15\n",
      "\u001b[1m402/402\u001b[0m \u001b[32m━━━━━━━━━━━━━━━━━━━━\u001b[0m\u001b[37m\u001b[0m \u001b[1m1s\u001b[0m 3ms/step - accuracy: 0.0782 - loss: 3.3456 - val_accuracy: 0.0735 - val_loss: 3.3010\n",
      "Epoch 11/15\n",
      "\u001b[1m402/402\u001b[0m \u001b[32m━━━━━━━━━━━━━━━━━━━━\u001b[0m\u001b[37m\u001b[0m \u001b[1m1s\u001b[0m 3ms/step - accuracy: 0.0761 - loss: 3.3066 - val_accuracy: 0.0735 - val_loss: 3.3010\n",
      "Epoch 12/15\n",
      "\u001b[1m402/402\u001b[0m \u001b[32m━━━━━━━━━━━━━━━━━━━━\u001b[0m\u001b[37m\u001b[0m \u001b[1m1s\u001b[0m 3ms/step - accuracy: 0.0744 - loss: 3.3123 - val_accuracy: 0.0735 - val_loss: 3.3009\n",
      "Epoch 13/15\n",
      "\u001b[1m402/402\u001b[0m \u001b[32m━━━━━━━━━━━━━━━━━━━━\u001b[0m\u001b[37m\u001b[0m \u001b[1m1s\u001b[0m 3ms/step - accuracy: 0.0749 - loss: 3.3188 - val_accuracy: 0.0735 - val_loss: 3.3009\n",
      "Epoch 14/15\n",
      "\u001b[1m402/402\u001b[0m \u001b[32m━━━━━━━━━━━━━━━━━━━━\u001b[0m\u001b[37m\u001b[0m \u001b[1m1s\u001b[0m 3ms/step - accuracy: 0.0730 - loss: 3.3226 - val_accuracy: 0.0735 - val_loss: 3.3009\n",
      "Epoch 15/15\n",
      "\u001b[1m402/402\u001b[0m \u001b[32m━━━━━━━━━━━━━━━━━━━━\u001b[0m\u001b[37m\u001b[0m \u001b[1m1s\u001b[0m 3ms/step - accuracy: 0.0731 - loss: 3.3103 - val_accuracy: 0.0735 - val_loss: 3.3009\n"
     ]
    },
    {
     "name": "stderr",
     "output_type": "stream",
     "text": [
      "WARNING:absl:You are saving your model as an HDF5 file via `model.save()` or `keras.saving.save_model(model)`. This file format is considered legacy. We recommend using instead the native Keras format, e.g. `model.save('my_model.keras')` or `keras.saving.save_model(model, 'my_model.keras')`. \n"
     ]
    },
    {
     "name": "stdout",
     "output_type": "stream",
     "text": [
      "Model Evaluation - Accuracy: 0.07\n",
      "Model has been saved as 'MLP_NEW_model.h5'\n",
      "Tokenizer saved as 'tokenizer_mlp.pkl'\n",
      "Label encoder saved as 'label_encoder_mlp.pkl'\n"
     ]
    }
   ],
   "source": [
    "# Load the dataset\n",
    "data_file = \"Lingual_data_cleaned.csv\"\n",
    "dataset = pd.read_csv(data_file)\n",
    "\n",
    "# Extract features and labels\n",
    "text_data = dataset['Cleaned_Text'].astype(str).values\n",
    "language_labels = dataset['Language'].values\n",
    "\n",
    "# Encode the labels\n",
    "label_encoder = LabelEncoder()\n",
    "numeric_labels = label_encoder.fit_transform(language_labels)\n",
    "\n",
    "# Tokenization\n",
    "max_words = 10000\n",
    "tokenizer = Tokenizer(num_words=max_words, oov_token=\"<UNK>\")  # Use \"<UNK>\" for unknown words\n",
    "tokenizer.fit_on_texts(text_data)\n",
    "\n",
    "# Text to sequences\n",
    "text_sequences = tokenizer.texts_to_sequences(text_data)\n",
    "\n",
    "# Padding sequences\n",
    "sequence_length = 120  # Adjusted sequence length\n",
    "padded_texts = pad_sequences(text_sequences, maxlen=sequence_length, padding='post', truncating='post')\n",
    "\n",
    "# Split data\n",
    "X_train, X_test, y_train, y_test = train_test_split(padded_texts, numeric_labels, test_size=0.2, random_state=42)\n",
    "\n",
    "# Build the MLP model\n",
    "mlp_model = Sequential([\n",
    "    Flatten(input_shape=(sequence_length,)),\n",
    "    Dense(256, activation='relu'),\n",
    "    Dropout(0.3),\n",
    "    Dense(128, activation='relu'),\n",
    "    Dropout(0.3),\n",
    "    Dense(len(label_encoder.classes_), activation='softmax')\n",
    "])\n",
    "\n",
    "# Compile the model\n",
    "mlp_model.compile(\n",
    "    optimizer='adam',\n",
    "    loss='sparse_categorical_crossentropy',\n",
    "    metrics=['accuracy']\n",
    ")\n",
    "\n",
    "# Train the model\n",
    "training_history = mlp_model.fit(\n",
    "    X_train, y_train,\n",
    "    epochs=15, \n",
    "    batch_size=64,\n",
    "    validation_data=(X_test, y_test)\n",
    ")\n",
    "\n",
    "# Evaluate the model\n",
    "eval_loss, eval_accuracy = mlp_model.evaluate(X_test, y_test, verbose=0)\n",
    "print(f\"Model Evaluation - Accuracy: {eval_accuracy:.2f}\")\n",
    "\n",
    "# Save the model\n",
    "model_filename = 'MLP_NEW_model.h5'\n",
    "mlp_model.save(model_filename)\n",
    "print(f\"Model has been saved as '{model_filename}'\")\n",
    "\n",
    "# Save the tokenizer and label encoder\n",
    "tokenizer_file = 'tokenizer_mlp.pkl'\n",
    "label_encoder_file = 'label_encoder_mlp.pkl'\n",
    "\n",
    "with open(tokenizer_file, 'wb') as token_file:\n",
    "    pickle.dump(tokenizer, token_file)\n",
    "\n",
    "with open(label_encoder_file, 'wb') as encoder_file:\n",
    "    pickle.dump(label_encoder, encoder_file)\n",
    "\n",
    "print(f\"Tokenizer saved as '{tokenizer_file}'\")\n",
    "print(f\"Label encoder saved as '{label_encoder_file}'\")"
   ]
  },
  {
   "cell_type": "code",
   "execution_count": 10,
   "id": "47787553-cdea-417d-9f04-e677c0d1b10e",
   "metadata": {},
   "outputs": [
    {
     "name": "stdout",
     "output_type": "stream",
     "text": [
      "Epoch 1/12\n"
     ]
    },
    {
     "name": "stderr",
     "output_type": "stream",
     "text": [
      "C:\\Users\\aksha\\anaconda3\\Lib\\site-packages\\keras\\src\\layers\\core\\embedding.py:90: UserWarning: Argument `input_length` is deprecated. Just remove it.\n",
      "  warnings.warn(\n"
     ]
    },
    {
     "name": "stdout",
     "output_type": "stream",
     "text": [
      "\u001b[1m402/402\u001b[0m \u001b[32m━━━━━━━━━━━━━━━━━━━━\u001b[0m\u001b[37m\u001b[0m \u001b[1m88s\u001b[0m 204ms/step - accuracy: 0.0809 - loss: 3.2765 - val_accuracy: 0.2347 - val_loss: 2.4855\n",
      "Epoch 2/12\n",
      "\u001b[1m402/402\u001b[0m \u001b[32m━━━━━━━━━━━━━━━━━━━━\u001b[0m\u001b[37m\u001b[0m \u001b[1m81s\u001b[0m 201ms/step - accuracy: 0.3129 - loss: 2.1718 - val_accuracy: 0.8254 - val_loss: 0.6586\n",
      "Epoch 3/12\n",
      "\u001b[1m402/402\u001b[0m \u001b[32m━━━━━━━━━━━━━━━━━━━━\u001b[0m\u001b[37m\u001b[0m \u001b[1m80s\u001b[0m 198ms/step - accuracy: 0.8402 - loss: 0.5962 - val_accuracy: 0.8853 - val_loss: 0.3911\n",
      "Epoch 4/12\n",
      "\u001b[1m402/402\u001b[0m \u001b[32m━━━━━━━━━━━━━━━━━━━━\u001b[0m\u001b[37m\u001b[0m \u001b[1m79s\u001b[0m 197ms/step - accuracy: 0.9083 - loss: 0.3429 - val_accuracy: 0.9129 - val_loss: 0.3169\n",
      "Epoch 5/12\n",
      "\u001b[1m402/402\u001b[0m \u001b[32m━━━━━━━━━━━━━━━━━━━━\u001b[0m\u001b[37m\u001b[0m \u001b[1m81s\u001b[0m 202ms/step - accuracy: 0.9280 - loss: 0.2630 - val_accuracy: 0.9178 - val_loss: 0.2925\n",
      "Epoch 6/12\n",
      "\u001b[1m402/402\u001b[0m \u001b[32m━━━━━━━━━━━━━━━━━━━━\u001b[0m\u001b[37m\u001b[0m \u001b[1m80s\u001b[0m 198ms/step - accuracy: 0.9354 - loss: 0.2272 - val_accuracy: 0.9191 - val_loss: 0.2861\n",
      "Epoch 7/12\n",
      "\u001b[1m402/402\u001b[0m \u001b[32m━━━━━━━━━━━━━━━━━━━━\u001b[0m\u001b[37m\u001b[0m \u001b[1m81s\u001b[0m 202ms/step - accuracy: 0.9416 - loss: 0.1973 - val_accuracy: 0.9143 - val_loss: 0.3036\n",
      "Epoch 8/12\n",
      "\u001b[1m402/402\u001b[0m \u001b[32m━━━━━━━━━━━━━━━━━━━━\u001b[0m\u001b[37m\u001b[0m \u001b[1m84s\u001b[0m 209ms/step - accuracy: 0.9435 - loss: 0.1868 - val_accuracy: 0.9183 - val_loss: 0.2937\n",
      "Epoch 9/12\n",
      "\u001b[1m402/402\u001b[0m \u001b[32m━━━━━━━━━━━━━━━━━━━━\u001b[0m\u001b[37m\u001b[0m \u001b[1m84s\u001b[0m 209ms/step - accuracy: 0.9415 - loss: 0.1854 - val_accuracy: 0.9177 - val_loss: 0.2988\n",
      "Epoch 10/12\n",
      "\u001b[1m402/402\u001b[0m \u001b[32m━━━━━━━━━━━━━━━━━━━━\u001b[0m\u001b[37m\u001b[0m \u001b[1m79s\u001b[0m 197ms/step - accuracy: 0.9438 - loss: 0.1786 - val_accuracy: 0.9197 - val_loss: 0.2958\n",
      "Epoch 11/12\n",
      "\u001b[1m402/402\u001b[0m \u001b[32m━━━━━━━━━━━━━━━━━━━━\u001b[0m\u001b[37m\u001b[0m \u001b[1m79s\u001b[0m 197ms/step - accuracy: 0.9427 - loss: 0.1703 - val_accuracy: 0.9206 - val_loss: 0.2983\n",
      "Epoch 12/12\n",
      "\u001b[1m402/402\u001b[0m \u001b[32m━━━━━━━━━━━━━━━━━━━━\u001b[0m\u001b[37m\u001b[0m \u001b[1m85s\u001b[0m 212ms/step - accuracy: 0.9465 - loss: 0.1668 - val_accuracy: 0.9175 - val_loss: 0.3143\n"
     ]
    },
    {
     "name": "stderr",
     "output_type": "stream",
     "text": [
      "WARNING:absl:You are saving your model as an HDF5 file via `model.save()` or `keras.saving.save_model(model)`. This file format is considered legacy. We recommend using instead the native Keras format, e.g. `model.save('my_model.keras')` or `keras.saving.save_model(model, 'my_model.keras')`. \n"
     ]
    },
    {
     "name": "stdout",
     "output_type": "stream",
     "text": [
      "Model Evaluation - Accuracy: 0.92\n",
      "Model has been saved as 'GRU_NEW_model.h5'\n",
      "Tokenizer saved as 'tokenizer_gru_new.pkl'\n",
      "Label encoder saved as 'label_encoder_gru_new.pkl'\n"
     ]
    }
   ],
   "source": [
    "# Load the dataset\n",
    "data_file = \"Lingual_data_cleaned.csv\"\n",
    "dataset = pd.read_csv(data_file)\n",
    "\n",
    "# Extract features and labels\n",
    "text_data = dataset['Cleaned_Text'].astype(str).values\n",
    "language_labels = dataset['Language'].values\n",
    "\n",
    "# Encode the labels\n",
    "label_encoder = LabelEncoder()\n",
    "numeric_labels = label_encoder.fit_transform(language_labels)\n",
    "\n",
    "# Tokenization\n",
    "max_words = 10000\n",
    "tokenizer = Tokenizer(num_words=max_words, oov_token=\"<UNK>\")  # Use \"<UNK>\" for unknown words\n",
    "tokenizer.fit_on_texts(text_data)\n",
    "\n",
    "# Text to sequences\n",
    "text_sequences = tokenizer.texts_to_sequences(text_data)\n",
    "\n",
    "# Padding sequences\n",
    "sequence_length = 120  # Adjusted sequence length\n",
    "padded_texts = pad_sequences(text_sequences, maxlen=sequence_length, padding='post', truncating='post')\n",
    "\n",
    "# Split data\n",
    "X_train, X_test, y_train, y_test = train_test_split(padded_texts, numeric_labels, test_size=0.2, random_state=42)\n",
    "\n",
    "# Build the GRU model\n",
    "gru_model = Sequential([\n",
    "    Embedding(input_dim=max_words, output_dim=128, input_length=sequence_length),\n",
    "    GRU(128, return_sequences=True),\n",
    "    Dropout(0.3),  # Increased dropout for regularization\n",
    "    GRU(64),\n",
    "    Dropout(0.3),\n",
    "    Dense(len(label_encoder.classes_), activation='softmax')\n",
    "])\n",
    "\n",
    "# Compile the model\n",
    "gru_model.compile(\n",
    "    optimizer='adam',\n",
    "    loss='sparse_categorical_crossentropy',\n",
    "    metrics=['accuracy']\n",
    ")\n",
    "\n",
    "# Train the model\n",
    "training_history = gru_model.fit(\n",
    "    X_train, y_train,\n",
    "    epochs=15,\n",
    "    batch_size=64,\n",
    "    validation_data=(X_test, y_test)\n",
    ")\n",
    "\n",
    "# Evaluate the model\n",
    "eval_loss, eval_accuracy = gru_model.evaluate(X_test, y_test, verbose=0)\n",
    "print(f\"Model Evaluation - Accuracy: {eval_accuracy:.2f}\")\n",
    "\n",
    "# Save the model\n",
    "model_filename = 'GRU_NEW_model.h5'\n",
    "gru_model.save(model_filename)\n",
    "print(f\"Model has been saved as '{model_filename}'\")\n",
    "\n",
    "# Save the tokenizer and label encoder\n",
    "tokenizer_file = 'tokenizer_gru_new.pkl'\n",
    "label_encoder_file = 'label_encoder_gru_new.pkl'\n",
    "\n",
    "with open(tokenizer_file, 'wb') as token_file:\n",
    "    pickle.dump(tokenizer, token_file)\n",
    "\n",
    "with open(label_encoder_file, 'wb') as encoder_file:\n",
    "    pickle.dump(label_encoder, encoder_file)\n",
    "\n",
    "print(f\"Tokenizer saved as '{tokenizer_file}'\")\n",
    "print(f\"Label encoder saved as '{label_encoder_file}'\")\n"
   ]
  },
  {
   "cell_type": "code",
   "execution_count": 29,
   "id": "9c702396-efd0-47b1-a55a-1881b18d9259",
   "metadata": {},
   "outputs": [
    {
     "data": {
      "image/png": "[encoded data removed]",
      "text/plain": [
       "<Figure size 1400x800 with 1 Axes>"
      ]
     },
     "metadata": {},
     "output_type": "display_data"
    }
   ],
   "source": [
    "gru_history = training_history.history\n",
    "\n",
    "gru_train_acc = gru_history[\"accuracy\"]\n",
    "gru_val_acc = gru_history[\"val_accuracy\"]\n",
    "\n",
    "# Create epochs range\n",
    "epochs = range(1, len(gru_train_acc) + 1)\n",
    "\n",
    "# Plot the training and validation accuracy\n",
    "plt.figure(figsize=(14, 8))\n",
    "\n",
    "\n",
    "# GRU Accuracy Plot\n",
    "plt.subplot(1, 2, 2)\n",
    "plt.plot(epochs, gru_train_acc, label=\"GRU Training Accuracy\", marker='o')\n",
    "plt.plot(epochs, gru_val_acc, label=\"GRU Validation Accuracy\", marker='x')\n",
    "plt.title(\"GRU Model Accuracy\")\n",
    "plt.xlabel(\"Epochs\")\n",
    "plt.ylabel(\"Accuracy\")\n",
    "plt.legend()\n",
    "plt.grid()\n",
    "\n",
    "# Show the plots\n",
    "plt.tight_layout()\n",
    "plt.show()\n"
   ]
  },
  {
   "cell_type": "code",
   "execution_count": null,
   "id": "29cfb407-9ef9-4ace-ba23-c84cb8f7eb85",
   "metadata": {},
   "outputs": [],
   "source": []
  },
  {
   "cell_type": "code",
   "execution_count": null,
   "id": "0a0943c6-63d3-479a-866b-a42cef5292f3",
   "metadata": {},
   "outputs": [],
   "source": []
  }
 ],
 "metadata": {
  "kernelspec": {
   "display_name": "Python 3 (ipykernel)",
   "language": "python",
   "name": "python3"
  },
  "language_info": {
   "codemirror_mode": {
    "name": "ipython",
    "version": 3
   },
   "file_extension": ".py",
   "mimetype": "text/x-python",
   "name": "python",
   "nbconvert_exporter": "python",
   "pygments_lexer": "ipython3",
   "version": "3.12.4"
  }
 },
 "nbformat": 4,
 "nbformat_minor": 5
}
