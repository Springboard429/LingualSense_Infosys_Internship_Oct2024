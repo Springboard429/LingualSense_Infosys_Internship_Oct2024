{
  "nbformat": 4,
  "nbformat_minor": 0,
  "metadata": {
    "colab": {
      "provenance": [],
      "authorship_tag": "ABX9TyNCleB1eejC8FonwD7utwsf",
      "include_colab_link": true
    },
    "kernelspec": {
      "name": "python3",
      "display_name": "Python 3"
    },
    "language_info": {
      "name": "python"
    }
  },
  "cells": [
    {
      "cell_type": "markdown",
      "metadata": {
        "id": "view-in-github",
        "colab_type": "text"
      },
      "source": [
        "<a href=\"https://colab.research.google.com/github/Springboard429/LingualSense_Infosys_Internship_Oct2024/blob/Hema/lingualsensedeeplearning.ipynb\" target=\"_parent\"><img src=\"https://colab.research.google.com/assets/colab-badge.svg\" alt=\"Open In Colab\"/></a>"
      ]
    },
    {
      "cell_type": "code",
      "execution_count": null,
      "metadata": {
        "id": "GehN5pJZj8-8"
      },
      "outputs": [],
      "source": [
        "import pandas as pd\n",
        "import regex as re\n",
        "from sklearn.preprocessing import LabelEncoder\n",
        "from sklearn.model_selection import train_test_split\n",
        "from tensorflow.keras.models import Sequential\n",
        "from tensorflow.keras.layers import Dense, Dropout\n",
        "from tensorflow.keras.utils import to_categorical\n",
        "from sklearn.feature_extraction.text import TfidfVectorizer\n",
        "\n",
        "# Load and preprocess dataset\n",
        "dataset_path = '/content/sample_data/dataset.csv'\n",
        "language_detection_path = '/content/sample_data/Language Detection.csv'\n",
        "\n",
        "# Load datasets\n",
        "dataset = pd.read_csv(dataset_path)\n",
        "language_detection = pd.read_csv(language_detection_path)\n"
      ]
    },
    {
      "cell_type": "code",
      "source": [
        "# Select relevant columns and merge datasets\n",
        "dataset_selected = dataset[['Text', 'language']]\n",
        "language_detection_selected = language_detection.rename(columns={'Language': 'language'})[['Text', 'language']]\n",
        "merged_dataset = pd.concat([dataset_selected, language_detection_selected], ignore_index=True)\n",
        "\n",
        "# Clean data\n",
        "merged_dataset.dropna(inplace=True)\n",
        "merged_dataset.drop_duplicates(inplace=True)\n",
        "\n",
        "# Remove special characters\n",
        "def remove_special_characters(text):\n",
        "    return re.sub(r'[^\\w\\s]', '', str(text))\n",
        "\n",
        "merged_dataset['Cleaned_Text'] = merged_dataset['Text'].apply(remove_special_characters)"
      ],
      "metadata": {
        "id": "mQqkOJHkkQ9M"
      },
      "execution_count": null,
      "outputs": []
    },
    {
      "cell_type": "code",
      "source": [
        "# Encode target labels\n",
        "label_encoder = LabelEncoder()\n",
        "merged_dataset['language_encoded'] = label_encoder.fit_transform(merged_dataset['language'])\n",
        "num_classes = len(label_encoder.classes_)\n",
        "\n",
        "# TF-IDF vectorization\n",
        "vectorizer = TfidfVectorizer(max_features=5000)\n",
        "tfidf_matrix = vectorizer.fit_transform(merged_dataset['Cleaned_Text'])\n",
        "\n",
        "# Train-test split\n",
        "X = tfidf_matrix\n",
        "y = to_categorical(merged_dataset['language_encoded'], num_classes=num_classes)\n",
        "X_train, X_test, y_train, y_test = train_test_split(X, y, test_size=0.2, random_state=42)"
      ],
      "metadata": {
        "id": "0jxA9bOzkXyP"
      },
      "execution_count": null,
      "outputs": []
    },
    {
      "cell_type": "code",
      "source": [
        "# Build the neural network model\n",
        "model = Sequential([\n",
        "    Dense(128, activation='relu', input_shape=(X_train.shape[1],)),\n",
        "    Dropout(0.5),\n",
        "    Dense(64, activation='relu'),\n",
        "    Dropout(0.5),\n",
        "    Dense(num_classes, activation='softmax')\n",
        "])\n",
        "\n",
        "# Compile the model\n",
        "model.compile(optimizer='adam', loss='categorical_crossentropy', metrics=['accuracy'])\n",
        "\n",
        "# Train the model\n",
        "history = model.fit(X_train.toarray(), y_train, epochs=10, batch_size=32, validation_split=0.2)\n"
      ],
      "metadata": {
        "id": "y_zNWWiskeXY"
      },
      "execution_count": null,
      "outputs": []
    },
    {
      "cell_type": "code",
      "source": [
        "# Evaluate the model\n",
        "loss, accuracy = model.evaluate(X_test.toarray(), y_test)\n",
        "print(f\"Test Loss: {loss}\")\n",
        "print(f\"Test Accuracy: {accuracy}\")\n",
        "\n",
        "# Save the trained model\n",
        "model.save('/content/sample_data/language_detection_model.h5')\n",
        "\n",
        "# Print the first few classes\n",
        "print(\"Classes:\", label_encoder.classes_)\n"
      ],
      "metadata": {
        "id": "SChOuVAUkhKH"
      },
      "execution_count": null,
      "outputs": []
    }
  ]
}
